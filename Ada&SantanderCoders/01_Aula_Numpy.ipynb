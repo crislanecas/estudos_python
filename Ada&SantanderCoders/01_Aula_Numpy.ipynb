{
  "nbformat": 4,
  "nbformat_minor": 0,
  "metadata": {
    "colab": {
      "provenance": [],
      "toc_visible": true,
      "authorship_tag": "ABX9TyPlXvOyiL0jVDEmUTs9VpFl",
      "include_colab_link": true
    },
    "kernelspec": {
      "name": "python3",
      "display_name": "Python 3"
    },
    "language_info": {
      "name": "python"
    }
  },
  "cells": [
    {
      "cell_type": "markdown",
      "metadata": {
        "id": "view-in-github",
        "colab_type": "text"
      },
      "source": [
        "<a href=\"https://colab.research.google.com/github/crislanecas/estudos_python/blob/main/Ada%26SantanderCoders/01_Aula_Numpy.ipynb\" target=\"_parent\"><img src=\"https://colab.research.google.com/assets/colab-badge.svg\" alt=\"Open In Colab\"/></a>"
      ]
    },
    {
      "cell_type": "code",
      "execution_count": 1,
      "metadata": {
        "id": "vdnpRRxydPpV"
      },
      "outputs": [],
      "source": [
        "import numpy as np"
      ]
    },
    {
      "cell_type": "markdown",
      "source": [
        "# Lista\n",
        "\n",
        "Agrupam mais de um caracter, numero ou até outras listas, dicionários e tuplas tudo na mesma lista."
      ],
      "metadata": {
        "id": "Xff8nGs7jWgT"
      }
    },
    {
      "cell_type": "code",
      "source": [
        "lista = [1, 2, 3, 4, 5, 6]\n",
        "print(lista)\n",
        "print(type(lista))"
      ],
      "metadata": {
        "colab": {
          "base_uri": "https://localhost:8080/"
        },
        "id": "NB6Sgs_IisZ-",
        "outputId": "c02b6d02-dd7a-4013-a835-9a5f513d865a"
      },
      "execution_count": 7,
      "outputs": [
        {
          "output_type": "stream",
          "name": "stdout",
          "text": [
            "[1, 2, 3, 4, 5, 6]\n",
            "<class 'list'>\n"
          ]
        }
      ]
    },
    {
      "cell_type": "markdown",
      "source": [
        "# Array\n",
        "\n",
        "Assim como na lista os elementos podem ser editáveis, mas diferente da lista ele tem apenas um tipo de dado."
      ],
      "metadata": {
        "id": "kLQXji4UjYTp"
      }
    },
    {
      "cell_type": "code",
      "source": [
        "# Cria um array com a lista\n",
        "array = np.array(lista)\n",
        "print(array)\n",
        "print(type(array))"
      ],
      "metadata": {
        "colab": {
          "base_uri": "https://localhost:8080/"
        },
        "id": "9tu0_92EjAue",
        "outputId": "9e9d409c-8dfb-4c99-e187-3b93fb0d1a5f"
      },
      "execution_count": 8,
      "outputs": [
        {
          "output_type": "stream",
          "name": "stdout",
          "text": [
            "[1 2 3 4 5 6]\n",
            "<class 'numpy.ndarray'>\n"
          ]
        }
      ]
    },
    {
      "cell_type": "code",
      "source": [
        "# Cria um array utilizando método np.zero()\n",
        "array_zeros = np.zeros(10)\n",
        "print(array_zeros)"
      ],
      "metadata": {
        "colab": {
          "base_uri": "https://localhost:8080/"
        },
        "id": "yEhUIISxmQ43",
        "outputId": "52ced2d5-de7a-41cb-b665-45dd1ed60aba"
      },
      "execution_count": 9,
      "outputs": [
        {
          "output_type": "stream",
          "name": "stdout",
          "text": [
            "[0. 0. 0. 0. 0. 0. 0. 0. 0. 0.]\n"
          ]
        }
      ]
    },
    {
      "cell_type": "code",
      "source": [
        "# Atribui um novo valor ao elemento da array\n",
        "array[0] = 10\n",
        "print(array)"
      ],
      "metadata": {
        "colab": {
          "base_uri": "https://localhost:8080/"
        },
        "id": "1Yucvs8lmgqg",
        "outputId": "9ff5c89d-cb7b-491f-84bd-54e4237218a0"
      },
      "execution_count": 10,
      "outputs": [
        {
          "output_type": "stream",
          "name": "stdout",
          "text": [
            "[10  2  3  4  5  6]\n"
          ]
        }
      ]
    },
    {
      "cell_type": "markdown",
      "source": [
        "# Matriz\n",
        "\n",
        "É um array que tem mais de uma dimensão."
      ],
      "metadata": {
        "id": "x_BHQS_IyuaA"
      }
    },
    {
      "cell_type": "code",
      "source": [
        "# Cria uma matriz\n",
        "matriz_zeros = np.zeros((5, 3)) # Defini o número de linhas e colunas respectivamente\n",
        "print(matriz_zeros)"
      ],
      "metadata": {
        "colab": {
          "base_uri": "https://localhost:8080/"
        },
        "id": "WfbqL4Zryw4c",
        "outputId": "d2ef3964-bcc9-4cbd-f247-08aaea68da9a"
      },
      "execution_count": 12,
      "outputs": [
        {
          "output_type": "stream",
          "name": "stdout",
          "text": [
            "[[0. 0. 0.]\n",
            " [0. 0. 0.]\n",
            " [0. 0. 0.]\n",
            " [0. 0. 0.]\n",
            " [0. 0. 0.]]\n"
          ]
        }
      ]
    },
    {
      "cell_type": "markdown",
      "source": [
        "# Calculos com array"
      ],
      "metadata": {
        "id": "bDA9ORX52gvS"
      }
    },
    {
      "cell_type": "code",
      "source": [
        "lista_notas = [9.8, 5.6, 7.8, 9.1, 6.5]\n",
        "array_notas = np.array(lista_notas)"
      ],
      "metadata": {
        "id": "wlnmKKxv2jLa"
      },
      "execution_count": 14,
      "outputs": []
    },
    {
      "cell_type": "code",
      "source": [
        "print('Máximo:', array_notas.max())\n",
        "print('Mínimo:', array_notas.min())\n",
        "print('Média:', array_notas.mean())\n",
        "print('Desvio Padrão:', array_notas.std())\n",
        "print('Posição menor:', array_notas.argmin())\n",
        "print('Posição maior:', array_notas.argmax())"
      ],
      "metadata": {
        "colab": {
          "base_uri": "https://localhost:8080/"
        },
        "id": "SL9tZIVn272R",
        "outputId": "1af92055-5f06-4d2a-b9b0-8794f7293cff"
      },
      "execution_count": 17,
      "outputs": [
        {
          "output_type": "stream",
          "name": "stdout",
          "text": [
            "Máximo: 9.8\n",
            "Mínimo: 5.6\n",
            "Média: 7.76\n",
            "Desvio Padrão: 1.5628179676469045\n",
            "Posição menor: 1\n",
            "Posição maior: 0\n"
          ]
        }
      ]
    },
    {
      "cell_type": "markdown",
      "source": [
        "## Exercícios\n",
        "\n"
      ],
      "metadata": {
        "id": "TDhg_Dq2-61e"
      }
    },
    {
      "cell_type": "markdown",
      "source": [
        "Questão 1\n",
        "\n",
        "Você deseja criar um numpy array com 10 espaços, e depois preenchê-los com 10 valores para poder calcular o desvio padrão usando o método do numpy."
      ],
      "metadata": {
        "id": "xqpuSw5_AIeA"
      }
    },
    {
      "cell_type": "code",
      "source": [
        "# Cria um array com 10 espaços zerados\n",
        "array_10 = np.zeros(10)\n",
        "\n",
        "# Utiliza o for para preencher o array\n",
        "for i in range(10):\n",
        "    array_10[i] = i + 1\n",
        "\n",
        "print(array_10)"
      ],
      "metadata": {
        "colab": {
          "base_uri": "https://localhost:8080/"
        },
        "id": "QO2WZMB--9jn",
        "outputId": "9c0791ab-e56b-4da5-d322-1d99c100a844"
      },
      "execution_count": 26,
      "outputs": [
        {
          "output_type": "stream",
          "name": "stdout",
          "text": [
            "[ 1.  2.  3.  4.  5.  6.  7.  8.  9. 10.]\n"
          ]
        }
      ]
    },
    {
      "cell_type": "markdown",
      "source": [
        "Questão 2\n",
        "\n",
        "Juliana está corrigindo provas de seus alunos e para isso salva as notas em uma lista.\n",
        "\n",
        "Além de calcular a média da turma, Juliana também precisa determinar de forma rápida quem está acima e abaixo da média do colégio, e, para fazer isso de forma rápida, decidiu criar um array para auxiliá-la.\n",
        "\n",
        "A partir da lista de notas, como Juliana pode criar esse array?"
      ],
      "metadata": {
        "id": "CX1KrYH2AMoD"
      }
    },
    {
      "cell_type": "code",
      "source": [
        "lista_notas = [9.8, 5.6, 7.8, 9.1, 6.5]\n",
        "array_notas = np.array(lista_notas)"
      ],
      "metadata": {
        "id": "OraWZIgfAXVC"
      },
      "execution_count": 27,
      "outputs": []
    },
    {
      "cell_type": "markdown",
      "source": [
        "# Máscara Booleana\n",
        "\n",
        "É uma maneira de indexar objetos no numpy, que funciona de maneira similar a um filtro, que pode ser simples ou composto"
      ],
      "metadata": {
        "id": "9_IZDwChCWgn"
      }
    },
    {
      "cell_type": "code",
      "execution_count": null,
      "metadata": {
        "id": "v2La_K8-CVva"
      },
      "outputs": [],
      "source": [
        "import numpy as np"
      ]
    },
    {
      "cell_type": "code",
      "source": [
        "# Cria uma array\n",
        "covid_positivo = np.array(['yes', 'no', 'no', 'yes', 'no', 'yes', 'yes', 'no'])"
      ],
      "metadata": {
        "id": "ZmajJ3OgCskR"
      },
      "execution_count": null,
      "outputs": []
    },
    {
      "cell_type": "code",
      "source": [
        "# Cria uma márcara validando os elementos\n",
        "marsk = covid_positivo == 'yes'\n",
        "marsk"
      ],
      "metadata": {
        "colab": {
          "base_uri": "https://localhost:8080/"
        },
        "id": "ilpCJO_jDK7A",
        "outputId": "a12277c8-166e-4084-f4c5-3ae4b7f60d3d"
      },
      "execution_count": null,
      "outputs": [
        {
          "output_type": "execute_result",
          "data": {
            "text/plain": [
              "array([ True, False, False,  True, False,  True,  True, False])"
            ]
          },
          "metadata": {},
          "execution_count": 11
        }
      ]
    },
    {
      "cell_type": "code",
      "source": [
        "# Altera os elementos conforme máscara\n",
        "covid_positivo [marsk] = 'C19'\n",
        "covid_positivo"
      ],
      "metadata": {
        "colab": {
          "base_uri": "https://localhost:8080/"
        },
        "id": "pyejw2TzD60m",
        "outputId": "cf4bb56d-3bc6-48ec-e887-0f8fdc0ec99b"
      },
      "execution_count": null,
      "outputs": [
        {
          "output_type": "execute_result",
          "data": {
            "text/plain": [
              "array(['C19', 'no', 'no', 'C19', 'no', 'C19', 'C19', 'no'], dtype='<U3')"
            ]
          },
          "metadata": {},
          "execution_count": 12
        }
      ]
    },
    {
      "cell_type": "markdown",
      "source": [
        "## Exercício"
      ],
      "metadata": {
        "id": "JSmACJEEQei3"
      }
    },
    {
      "cell_type": "markdown",
      "source": [
        "Em uma escola, a média para aprovação é 7. As notas dos alunos estão armazenadas em um array chamado 'notas'.\n",
        "\n",
        "Escolha a expressão que pega 'notas' e salva em 'aprovados' um outro array booleano, com valor true apenas para as pessoas que passaram de ano:"
      ],
      "metadata": {
        "id": "1oU7akLLQioH"
      }
    },
    {
      "cell_type": "code",
      "source": [
        "notas = np.array([9.8, 5.6, 7.8, 9.1, 6.5])\n",
        "aprovados = notas >= 7\n",
        "notas[aprovados]"
      ],
      "metadata": {
        "colab": {
          "base_uri": "https://localhost:8080/"
        },
        "id": "RESlBNrfEqQM",
        "outputId": "f7450f02-5102-458f-c6d1-dba2f6f03cef"
      },
      "execution_count": null,
      "outputs": [
        {
          "output_type": "execute_result",
          "data": {
            "text/plain": [
              "array([9.8, 7.8, 9.1])"
            ]
          },
          "metadata": {},
          "execution_count": 15
        }
      ]
    }
  ]
}