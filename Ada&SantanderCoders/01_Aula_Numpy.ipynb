{
  "nbformat": 4,
  "nbformat_minor": 0,
  "metadata": {
    "colab": {
      "provenance": [],
      "toc_visible": true,
      "authorship_tag": "ABX9TyMEJAVh3ylFSrVbC/e5G5rd",
      "include_colab_link": true
    },
    "kernelspec": {
      "name": "python3",
      "display_name": "Python 3"
    },
    "language_info": {
      "name": "python"
    }
  },
  "cells": [
    {
      "cell_type": "markdown",
      "metadata": {
        "id": "view-in-github",
        "colab_type": "text"
      },
      "source": [
        "<a href=\"https://colab.research.google.com/github/crislanecas/estudos_python/blob/main/Ada%26SantanderCoders/01_Aula_Numpy.ipynb\" target=\"_parent\"><img src=\"https://colab.research.google.com/assets/colab-badge.svg\" alt=\"Open In Colab\"/></a>"
      ]
    },
    {
      "cell_type": "code",
      "execution_count": 1,
      "metadata": {
        "id": "vdnpRRxydPpV"
      },
      "outputs": [],
      "source": [
        "import numpy as np"
      ]
    },
    {
      "cell_type": "markdown",
      "source": [
        "# Lista\n",
        "\n",
        "Agrupam mais de um caracter, numero ou até outras listas, dicionários e tuplas tudo na mesma lista."
      ],
      "metadata": {
        "id": "Xff8nGs7jWgT"
      }
    },
    {
      "cell_type": "code",
      "source": [
        "# Cria uma lista\n",
        "lista = [1, 2, 3, 4, 5, 6]\n",
        "print(lista)\n",
        "print(type(lista))"
      ],
      "metadata": {
        "colab": {
          "base_uri": "https://localhost:8080/"
        },
        "id": "NB6Sgs_IisZ-",
        "outputId": "bf80cdbb-b877-4e12-9176-c2cbecc31529"
      },
      "execution_count": null,
      "outputs": [
        {
          "output_type": "stream",
          "name": "stdout",
          "text": [
            "[1, 2, 3, 4, 5, 6]\n",
            "<class 'list'>\n"
          ]
        }
      ]
    },
    {
      "cell_type": "markdown",
      "source": [
        "# Array\n",
        "\n",
        "Assim como na lista os elementos podem ser editáveis, mas diferente da lista ele tem apenas um tipo de dado."
      ],
      "metadata": {
        "id": "kLQXji4UjYTp"
      }
    },
    {
      "cell_type": "markdown",
      "source": [
        "## array()"
      ],
      "metadata": {
        "id": "Rnk0uSdIzgv9"
      }
    },
    {
      "cell_type": "code",
      "source": [
        "# Cria um array com a lista\n",
        "array = np.array(lista)\n",
        "print(array)\n",
        "print(type(array))"
      ],
      "metadata": {
        "colab": {
          "base_uri": "https://localhost:8080/"
        },
        "id": "9tu0_92EjAue",
        "outputId": "245c1dad-ed74-45f8-fd37-d95dc5bf82f5"
      },
      "execution_count": null,
      "outputs": [
        {
          "output_type": "stream",
          "name": "stdout",
          "text": [
            "[1 2 3 4 5 6]\n",
            "<class 'numpy.ndarray'>\n"
          ]
        }
      ]
    },
    {
      "cell_type": "markdown",
      "source": [
        "## zeros()"
      ],
      "metadata": {
        "id": "Q48JlXFJzjgl"
      }
    },
    {
      "cell_type": "code",
      "source": [
        "# Cria um array com elementos iguais a 0, utilizando método np.zero()\n",
        "array_zeros = np.zeros(10)\n",
        "print(array_zeros)"
      ],
      "metadata": {
        "colab": {
          "base_uri": "https://localhost:8080/"
        },
        "id": "yEhUIISxmQ43",
        "outputId": "2781d942-bd74-47f8-94ac-e8258c001cc3"
      },
      "execution_count": null,
      "outputs": [
        {
          "output_type": "stream",
          "name": "stdout",
          "text": [
            "[0. 0. 0. 0. 0. 0. 0. 0. 0. 0.]\n"
          ]
        }
      ]
    },
    {
      "cell_type": "code",
      "source": [
        "# Atribui um novo valor ao elemento da array\n",
        "array[0] = 10\n",
        "print(array)"
      ],
      "metadata": {
        "colab": {
          "base_uri": "https://localhost:8080/"
        },
        "id": "1Yucvs8lmgqg",
        "outputId": "14c941f1-932e-404a-8c6a-bed2e6250d42"
      },
      "execution_count": null,
      "outputs": [
        {
          "output_type": "stream",
          "name": "stdout",
          "text": [
            "[10  2  3  4  5  6]\n"
          ]
        }
      ]
    },
    {
      "cell_type": "markdown",
      "source": [
        "# Matriz\n",
        "\n",
        "É um array que tem mais de uma dimensão."
      ],
      "metadata": {
        "id": "x_BHQS_IyuaA"
      }
    },
    {
      "cell_type": "code",
      "source": [
        "# Cria uma matriz\n",
        "matriz_zeros = np.zeros((5, 3)) # Defini o número de linhas e colunas respectivamente\n",
        "print(matriz_zeros)"
      ],
      "metadata": {
        "colab": {
          "base_uri": "https://localhost:8080/"
        },
        "id": "WfbqL4Zryw4c",
        "outputId": "b4fcc4fc-f5c0-4479-84b0-a9f76f8b8135"
      },
      "execution_count": null,
      "outputs": [
        {
          "output_type": "stream",
          "name": "stdout",
          "text": [
            "[[0. 0. 0.]\n",
            " [0. 0. 0.]\n",
            " [0. 0. 0.]\n",
            " [0. 0. 0.]\n",
            " [0. 0. 0.]]\n"
          ]
        }
      ]
    },
    {
      "cell_type": "markdown",
      "source": [
        "# Calculos com array"
      ],
      "metadata": {
        "id": "bDA9ORX52gvS"
      }
    },
    {
      "cell_type": "code",
      "source": [
        "# Cria uma lista com notas\n",
        "lista_notas = [9.8, 5.6, 7.8, 9.1, 6.5]\n",
        "array_notas = np.array(lista_notas)"
      ],
      "metadata": {
        "id": "wlnmKKxv2jLa"
      },
      "execution_count": null,
      "outputs": []
    },
    {
      "cell_type": "code",
      "source": [
        "print('Máximo:', array_notas.max())\n",
        "print('Mínimo:', array_notas.min())\n",
        "print('Média:', array_notas.mean())\n",
        "print('Desvio Padrão:', array_notas.std())\n",
        "print('Posição menor:', array_notas.argmin())\n",
        "print('Posição maior:', array_notas.argmax())"
      ],
      "metadata": {
        "colab": {
          "base_uri": "https://localhost:8080/"
        },
        "id": "SL9tZIVn272R",
        "outputId": "d4d12a01-ef1d-4a88-9ae6-e75a4168c162"
      },
      "execution_count": null,
      "outputs": [
        {
          "output_type": "stream",
          "name": "stdout",
          "text": [
            "Máximo: 9.8\n",
            "Mínimo: 5.6\n",
            "Média: 7.76\n",
            "Desvio Padrão: 1.5628179676469045\n",
            "Posição menor: 1\n",
            "Posição maior: 0\n"
          ]
        }
      ]
    },
    {
      "cell_type": "markdown",
      "source": [
        "## Exercício\n",
        "\n"
      ],
      "metadata": {
        "id": "TDhg_Dq2-61e"
      }
    },
    {
      "cell_type": "markdown",
      "source": [
        "Questão 1\n",
        "\n",
        "Você deseja criar um numpy array com 10 espaços, e depois preenchê-los com 10 valores para poder calcular o desvio padrão usando o método do numpy."
      ],
      "metadata": {
        "id": "xqpuSw5_AIeA"
      }
    },
    {
      "cell_type": "code",
      "source": [
        "# Cria um array com 10 espaços zerados\n",
        "array_10 = np.zeros(10)\n",
        "\n",
        "# Utiliza o for para preencher o array\n",
        "for i in range(10):\n",
        "    array_10[i] = i + 1\n",
        "\n",
        "print(array_10)"
      ],
      "metadata": {
        "colab": {
          "base_uri": "https://localhost:8080/"
        },
        "id": "QO2WZMB--9jn",
        "outputId": "03177d74-99ca-4ec5-fbc2-78ac751502a4"
      },
      "execution_count": null,
      "outputs": [
        {
          "output_type": "stream",
          "name": "stdout",
          "text": [
            "[ 1.  2.  3.  4.  5.  6.  7.  8.  9. 10.]\n"
          ]
        }
      ]
    },
    {
      "cell_type": "markdown",
      "source": [
        "Questão 2\n",
        "\n",
        "Juliana está corrigindo provas de seus alunos e para isso salva as notas em uma lista.\n",
        "\n",
        "Além de calcular a média da turma, Juliana também precisa determinar de forma rápida quem está acima e abaixo da média do colégio, e, para fazer isso de forma rápida, decidiu criar um array para auxiliá-la.\n",
        "\n",
        "A partir da lista de notas, como Juliana pode criar esse array?"
      ],
      "metadata": {
        "id": "CX1KrYH2AMoD"
      }
    },
    {
      "cell_type": "code",
      "source": [
        "lista_notas = [9.8, 5.6, 7.8, 9.1, 6.5]\n",
        "array_notas = np.array(lista_notas)"
      ],
      "metadata": {
        "id": "OraWZIgfAXVC"
      },
      "execution_count": null,
      "outputs": []
    },
    {
      "cell_type": "markdown",
      "source": [
        "# Máscara Booleana\n",
        "\n",
        "É uma maneira de indexar objetos no numpy, que funciona de maneira similar a um filtro, que pode ser simples ou composto"
      ],
      "metadata": {
        "id": "9_IZDwChCWgn"
      }
    },
    {
      "cell_type": "code",
      "source": [
        "# Cria uma array\n",
        "covid_positivo = np.array(['yes', 'no', 'no', 'yes', 'no', 'yes', 'yes', 'no'])"
      ],
      "metadata": {
        "id": "ZmajJ3OgCskR"
      },
      "execution_count": null,
      "outputs": []
    },
    {
      "cell_type": "code",
      "source": [
        "# Cria uma lista validando os elementos\n",
        "selecao = covid_positivo == 'yes'\n",
        "selecao"
      ],
      "metadata": {
        "colab": {
          "base_uri": "https://localhost:8080/"
        },
        "id": "ilpCJO_jDK7A",
        "outputId": "8cdf8fbf-80f3-4a3a-fc43-01473ad2b41c"
      },
      "execution_count": null,
      "outputs": [
        {
          "output_type": "execute_result",
          "data": {
            "text/plain": [
              "array([ True, False, False,  True, False,  True,  True, False])"
            ]
          },
          "metadata": {},
          "execution_count": 13
        }
      ]
    },
    {
      "cell_type": "code",
      "source": [
        "# Altera os elementos conforme seleção criada acima\n",
        "covid_positivo [selecao] = 'C19'\n",
        "covid_positivo"
      ],
      "metadata": {
        "colab": {
          "base_uri": "https://localhost:8080/"
        },
        "id": "pyejw2TzD60m",
        "outputId": "976736a6-4522-4aa1-c9fc-1907ea6c75b9"
      },
      "execution_count": null,
      "outputs": [
        {
          "output_type": "execute_result",
          "data": {
            "text/plain": [
              "array(['C19', 'no', 'no', 'C19', 'no', 'C19', 'C19', 'no'], dtype='<U3')"
            ]
          },
          "metadata": {},
          "execution_count": 14
        }
      ]
    },
    {
      "cell_type": "markdown",
      "source": [
        "## Exercício"
      ],
      "metadata": {
        "id": "JSmACJEEQei3"
      }
    },
    {
      "cell_type": "markdown",
      "source": [
        "Em uma escola, a média para aprovação é 7. As notas dos alunos estão armazenadas em um array chamado 'notas'.\n",
        "\n",
        "Escolha a expressão que pega 'notas' e salva em 'aprovados' um outro array booleano, com valor true apenas para as pessoas que passaram de ano:"
      ],
      "metadata": {
        "id": "1oU7akLLQioH"
      }
    },
    {
      "cell_type": "code",
      "source": [
        "notas = np.array([9.8, 5.6, 7.8, 9.1, 6.5])\n",
        "aprovados = notas >= 7\n",
        "notas[aprovados]"
      ],
      "metadata": {
        "colab": {
          "base_uri": "https://localhost:8080/"
        },
        "id": "RESlBNrfEqQM",
        "outputId": "838e9ced-ae19-43d4-9d7d-85e0698c7eb1"
      },
      "execution_count": null,
      "outputs": [
        {
          "output_type": "execute_result",
          "data": {
            "text/plain": [
              "array([9.8, 7.8, 9.1])"
            ]
          },
          "metadata": {},
          "execution_count": 15
        }
      ]
    }
  ]
}