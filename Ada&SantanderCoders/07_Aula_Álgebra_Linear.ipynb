{
  "nbformat": 4,
  "nbformat_minor": 0,
  "metadata": {
    "colab": {
      "provenance": [],
      "toc_visible": true,
      "authorship_tag": "ABX9TyNoHtNVNqLENldGiWhhmX9N",
      "include_colab_link": true
    },
    "kernelspec": {
      "name": "python3",
      "display_name": "Python 3"
    },
    "language_info": {
      "name": "python"
    }
  },
  "cells": [
    {
      "cell_type": "markdown",
      "metadata": {
        "id": "view-in-github",
        "colab_type": "text"
      },
      "source": [
        "<a href=\"https://colab.research.google.com/github/crislanecas/estudos_python/blob/main/Ada%26SantanderCoders/07_Aula_%C3%81lgebra_Linear.ipynb\" target=\"_parent\"><img src=\"https://colab.research.google.com/assets/colab-badge.svg\" alt=\"Open In Colab\"/></a>"
      ]
    },
    {
      "cell_type": "code",
      "source": [
        "import numpy as np\n",
        "import matplotlib.pyplot as plt"
      ],
      "metadata": {
        "id": "O7adSzsuIghU"
      },
      "execution_count": 1,
      "outputs": []
    },
    {
      "cell_type": "markdown",
      "source": [
        "# Matriz\n",
        "\n",
        "Em Python, uma matriz pode ser representada como uma lista de listas, onde cada lista interna representa uma linha da matriz, que por sua vez corresponde a uma lista com os elementos da coluna da matriz."
      ],
      "metadata": {
        "id": "AjT7C8og_KxG"
      }
    },
    {
      "cell_type": "code",
      "execution_count": 2,
      "metadata": {
        "id": "u8YU7lw7CnDN"
      },
      "outputs": [],
      "source": [
        "# Cria uma matriz\n",
        "matriz_A = [[1, 2, 3], [4, 5, 6]]"
      ]
    },
    {
      "cell_type": "code",
      "source": [
        "# Exibe o conteúdo da matriz\n",
        "matriz_A"
      ],
      "metadata": {
        "colab": {
          "base_uri": "https://localhost:8080/"
        },
        "id": "A5mSSplW_Fhw",
        "outputId": "d28a5668-c0ee-4111-d643-436505bb7444"
      },
      "execution_count": 3,
      "outputs": [
        {
          "output_type": "execute_result",
          "data": {
            "text/plain": [
              "[[1, 2, 3], [4, 5, 6]]"
            ]
          },
          "metadata": {},
          "execution_count": 3
        }
      ]
    },
    {
      "cell_type": "code",
      "source": [
        "# Acessa a primeira linha da matriz\n",
        "matriz_A[0]"
      ],
      "metadata": {
        "colab": {
          "base_uri": "https://localhost:8080/"
        },
        "id": "WbOY0k6d_IAn",
        "outputId": "4ae126b1-eb22-47ce-c69b-1e33bdb0a20d"
      },
      "execution_count": 4,
      "outputs": [
        {
          "output_type": "execute_result",
          "data": {
            "text/plain": [
              "[1, 2, 3]"
            ]
          },
          "metadata": {},
          "execution_count": 4
        }
      ]
    },
    {
      "cell_type": "code",
      "source": [
        "# Acessa a segunda linha da matriz\n",
        "matriz_A[1]"
      ],
      "metadata": {
        "colab": {
          "base_uri": "https://localhost:8080/"
        },
        "id": "I6PSmxV7BAlD",
        "outputId": "13930a2c-a24a-4049-df9f-8f239f92df49"
      },
      "execution_count": 5,
      "outputs": [
        {
          "output_type": "execute_result",
          "data": {
            "text/plain": [
              "[4, 5, 6]"
            ]
          },
          "metadata": {},
          "execution_count": 5
        }
      ]
    },
    {
      "cell_type": "code",
      "source": [
        "# Acessa o elemento que está na primeira linha da segundo coluna\n",
        "matriz_A[0][1]"
      ],
      "metadata": {
        "colab": {
          "base_uri": "https://localhost:8080/"
        },
        "id": "XU_nXNhzBJgE",
        "outputId": "e4e1e259-7215-4bb3-8bda-b3d9f4a744dc"
      },
      "execution_count": 6,
      "outputs": [
        {
          "output_type": "execute_result",
          "data": {
            "text/plain": [
              "2"
            ]
          },
          "metadata": {},
          "execution_count": 6
        }
      ]
    },
    {
      "cell_type": "markdown",
      "source": [
        "# Array NumPy\n",
        "\n",
        "NumPy é um pacote para computação científica que fornece uma ampla gama de funções e métodos para trabalhar com matrizes multidimensionais."
      ],
      "metadata": {
        "id": "j_M8nJ84CLbi"
      }
    },
    {
      "cell_type": "code",
      "source": [
        "# Importa a biblioteca\n",
        "import numpy as np"
      ],
      "metadata": {
        "id": "qU7f_-BiCc0Q"
      },
      "execution_count": 7,
      "outputs": []
    },
    {
      "cell_type": "code",
      "source": [
        "# Cria um array (matriz multidimensional)\n",
        "matriz_B = np.array([[1, 2, 3], [4, 5, 6], [7, 8, 9]])"
      ],
      "metadata": {
        "id": "mlH_p9nECi9C"
      },
      "execution_count": 8,
      "outputs": []
    },
    {
      "cell_type": "code",
      "source": [
        "# Exibe o conteúdo do array\n",
        "matriz_B"
      ],
      "metadata": {
        "colab": {
          "base_uri": "https://localhost:8080/"
        },
        "id": "Muxdo46DDfE3",
        "outputId": "ff195c35-9152-41b7-ea44-e936a1057a3b"
      },
      "execution_count": 9,
      "outputs": [
        {
          "output_type": "execute_result",
          "data": {
            "text/plain": [
              "array([[1, 2, 3],\n",
              "       [4, 5, 6],\n",
              "       [7, 8, 9]])"
            ]
          },
          "metadata": {},
          "execution_count": 9
        }
      ]
    },
    {
      "cell_type": "code",
      "source": [
        "# Acessa a primeira linha do array\n",
        "matriz_B[0]"
      ],
      "metadata": {
        "colab": {
          "base_uri": "https://localhost:8080/"
        },
        "id": "56gaZW6xD2Nw",
        "outputId": "c5b29100-d242-430c-cc85-ada1904f3370"
      },
      "execution_count": 10,
      "outputs": [
        {
          "output_type": "execute_result",
          "data": {
            "text/plain": [
              "array([1, 2, 3])"
            ]
          },
          "metadata": {},
          "execution_count": 10
        }
      ]
    },
    {
      "cell_type": "code",
      "source": [
        "# Acessa a segunda linha do array\n",
        "matriz_B[1]"
      ],
      "metadata": {
        "colab": {
          "base_uri": "https://localhost:8080/"
        },
        "id": "ibXKixELEBJi",
        "outputId": "53a0cef3-be37-40b7-ca45-dce9a006d991"
      },
      "execution_count": 11,
      "outputs": [
        {
          "output_type": "execute_result",
          "data": {
            "text/plain": [
              "array([4, 5, 6])"
            ]
          },
          "metadata": {},
          "execution_count": 11
        }
      ]
    },
    {
      "cell_type": "code",
      "source": [
        "# Acessa o elemento que está na terceira linha da segundo coluna\n",
        "matriz_B[2][1]"
      ],
      "metadata": {
        "colab": {
          "base_uri": "https://localhost:8080/"
        },
        "id": "TPY5oqePESPf",
        "outputId": "ed0a921f-a196-4d9a-bf57-076a76c03b43"
      },
      "execution_count": 12,
      "outputs": [
        {
          "output_type": "execute_result",
          "data": {
            "text/plain": [
              "8"
            ]
          },
          "metadata": {},
          "execution_count": 12
        }
      ]
    },
    {
      "cell_type": "markdown",
      "source": [
        "## Soma e substração de matrizes\n",
        "\n",
        "A adição e subtração de matrizes são realizadas elemento por elemento. Para que duas matrizes possam ser adicionadas ou subtraídas, elas devem ter a mesma dimensão.\n",
        "\n",
        "Por exemplo, se tivermos duas matrizes A e B, ambas com dimensão m x n, a soma de A e B é uma matriz C, onde cada elemento de C é a soma dos elementos correspondentes de A e B."
      ],
      "metadata": {
        "id": "6K0hbBd4HMxz"
      }
    },
    {
      "cell_type": "code",
      "source": [
        "matriz_1 = np.array([[1, 2, 3], [4, 5, 6], [7, 8, 9]])\n",
        "matriz_2 = np.array([[9, 8, 7], [6, 5, 4], [3, 2, 1]])\n",
        "\n",
        "# Soma duas matrizes\n",
        "matriz_1 + matriz_2"
      ],
      "metadata": {
        "colab": {
          "base_uri": "https://localhost:8080/"
        },
        "id": "DAlQbESUHmE1",
        "outputId": "b675b9b5-eb52-42f5-eabc-e9280a0baee9"
      },
      "execution_count": 13,
      "outputs": [
        {
          "output_type": "execute_result",
          "data": {
            "text/plain": [
              "array([[10, 10, 10],\n",
              "       [10, 10, 10],\n",
              "       [10, 10, 10]])"
            ]
          },
          "metadata": {},
          "execution_count": 13
        }
      ]
    },
    {
      "cell_type": "code",
      "source": [
        "matriz_1 = np.array([[1, 2, 3], [4, 5, 6], [7, 8, 9]])\n",
        "matriz_2 = np.array([[9, 8, 7], [6, 5, 4], [3, 2, 1]])\n",
        "\n",
        "# Subtrai duas matrizes\n",
        "matriz_1 - matriz_2"
      ],
      "metadata": {
        "colab": {
          "base_uri": "https://localhost:8080/"
        },
        "id": "hHEfMzYqIFKJ",
        "outputId": "94495356-bb66-455a-fa4e-57d7f9826bb1"
      },
      "execution_count": 14,
      "outputs": [
        {
          "output_type": "execute_result",
          "data": {
            "text/plain": [
              "array([[-8, -6, -4],\n",
              "       [-2,  0,  2],\n",
              "       [ 4,  6,  8]])"
            ]
          },
          "metadata": {},
          "execution_count": 14
        }
      ]
    },
    {
      "cell_type": "markdown",
      "source": [],
      "metadata": {
        "id": "ltOiU6gSiWDd"
      }
    },
    {
      "cell_type": "markdown",
      "source": [
        "## Multiplicação de matrizes\n",
        "\n",
        "Para multiplicar as matrizes A e B, precisamos garantir que o número de colunas da matriz A seja igual ao número de linhas da matriz B.\n",
        "\n",
        "Para realizar a multiplicação, precisamos multiplicar cada elemento da primeira linha da matriz A pelos elementos correspondentes da primeira coluna da matriz B e somar os produtos. Em seguida, fazemos o mesmo para a segunda linha da matriz A e a segunda coluna da matriz B. O resultado é uma matriz C com o número de linhas da matriz A e o número de colunas da matriz B."
      ],
      "metadata": {
        "id": "PdHAIaeQJK9c"
      }
    },
    {
      "cell_type": "markdown",
      "source": [
        "### dot()"
      ],
      "metadata": {
        "id": "Buhd3u_lLfFv"
      }
    },
    {
      "cell_type": "code",
      "source": [
        "matriz_A = np.array([[1, 2, 3], [4, 5, 6], [7, 8, 9]])\n",
        "matriz_B = np.array([[9, 8, 7], [6, 5, 4], [3, 2, 1]])\n",
        "\n",
        "# Multiplica duas matrizes\n",
        "np.dot(matriz_A, matriz_B)"
      ],
      "metadata": {
        "colab": {
          "base_uri": "https://localhost:8080/"
        },
        "id": "1z5Vm5eSJQI-",
        "outputId": "92f0bf77-9c60-4abb-a26d-61335b329c4f"
      },
      "execution_count": 15,
      "outputs": [
        {
          "output_type": "execute_result",
          "data": {
            "text/plain": [
              "array([[ 30,  24,  18],\n",
              "       [ 84,  69,  54],\n",
              "       [138, 114,  90]])"
            ]
          },
          "metadata": {},
          "execution_count": 15
        }
      ]
    },
    {
      "cell_type": "markdown",
      "source": [
        "## Divisão de matrizes\n",
        "\n",
        "Tecnicamente, a divisão de matrizes não existe. Em vez disso, é necessário multiplicar uma matriz pelo inverso da outra.\n",
        "\n",
        "Por exemplo, se tivermos duas matrizes A e B, a divisão de A por B seria escrita como A * B<sup>-1</sup>.\n",
        "\n",
        "Para calcular a divisão de matrizes, a matriz B deve ser quadrada e seu determinante deve ser diferente de zero. Caso contrário, a divisão não é possível."
      ],
      "metadata": {
        "id": "hzAgJBbvMM2E"
      }
    },
    {
      "cell_type": "markdown",
      "source": [
        "# Matriz transposta"
      ],
      "metadata": {
        "id": "la4ksCmkZvfi"
      }
    },
    {
      "cell_type": "markdown",
      "source": [
        "## Propriedades das matrizes transpostas\n",
        "\n",
        "* A transposta da transposta de uma matriz é igual à matriz original:   \n",
        "\n",
        "<div align=\"center\">\n",
        "  (A<sup>T</sup>)<sup>T</sup> = A\n",
        "</div>\n",
        "\n",
        "\n",
        "* A transposta da soma de duas matrizes é igual à soma das transpostas de cada matriz:\n",
        "\n",
        "<div align=\"center\">\n",
        "(A + B)<sup>T</sup> = A<sup>T</sup> + B<sup>T</sup>\n",
        "</div>"
      ],
      "metadata": {
        "id": "qXakAhXqPskL"
      }
    },
    {
      "cell_type": "markdown",
      "source": [
        "## Transposição de matrizes\n",
        "\n",
        "A transposição de uma matriz é uma operação que troca as linhas e colunas da matriz.   \n",
        "\n",
        "Por exemplo, se tivermos uma matriz A com dimensão m x n, a transposta de A é uma matriz B com dimensão n x m, onde 0 elemento na linha i e coluna j de B é o elemento na linha j e coluna i de A."
      ],
      "metadata": {
        "id": "Rcl2VH2WFM0F"
      }
    },
    {
      "cell_type": "code",
      "source": [
        "# Exibe o conteúdo do array\n",
        "matriz_B"
      ],
      "metadata": {
        "colab": {
          "base_uri": "https://localhost:8080/"
        },
        "id": "cE_HqEr-XEK0",
        "outputId": "ae38f850-acce-42ac-d627-5e467822afc5"
      },
      "execution_count": 16,
      "outputs": [
        {
          "output_type": "execute_result",
          "data": {
            "text/plain": [
              "array([[9, 8, 7],\n",
              "       [6, 5, 4],\n",
              "       [3, 2, 1]])"
            ]
          },
          "metadata": {},
          "execution_count": 16
        }
      ]
    },
    {
      "cell_type": "code",
      "source": [
        "# Faz a transposição da matriz/array utilizando o método T\n",
        "matriz_B.T"
      ],
      "metadata": {
        "colab": {
          "base_uri": "https://localhost:8080/"
        },
        "id": "Mv9iR0kpXHsJ",
        "outputId": "5d764ec6-37eb-43f9-a373-e89376977cf6"
      },
      "execution_count": 17,
      "outputs": [
        {
          "output_type": "execute_result",
          "data": {
            "text/plain": [
              "array([[9, 6, 3],\n",
              "       [8, 5, 2],\n",
              "       [7, 4, 1]])"
            ]
          },
          "metadata": {},
          "execution_count": 17
        }
      ]
    },
    {
      "cell_type": "markdown",
      "source": [
        "### transpose()"
      ],
      "metadata": {
        "id": "ETg-lKa4GNaE"
      }
    },
    {
      "cell_type": "code",
      "source": [
        "# Faz a transposição da matriz/array utilizando o método transpose()\n",
        "matriz_transposta = matriz_B.transpose()\n",
        "matriz_transposta"
      ],
      "metadata": {
        "colab": {
          "base_uri": "https://localhost:8080/"
        },
        "id": "vDM2zK7WFQHj",
        "outputId": "92f22bb2-310e-46c6-fa3d-cce7e715208f"
      },
      "execution_count": 18,
      "outputs": [
        {
          "output_type": "execute_result",
          "data": {
            "text/plain": [
              "array([[9, 6, 3],\n",
              "       [8, 5, 2],\n",
              "       [7, 4, 1]])"
            ]
          },
          "metadata": {},
          "execution_count": 18
        }
      ]
    },
    {
      "cell_type": "markdown",
      "source": [
        "# Matriz inversa\n",
        "\n",
        "A matriz inversa é uma matriz que é obtida a partir de uma **matriz quadrada** (número de linhas igual ao número de colunas) A, tal que o produto entre A e sua inversa resulta na matriz identidade. Para calcular a matriz inversa de uma matriz A, é necessário que o **determinante de A seja diferente de zero**. A representação matemática da matriz inversa de uma matriz A é A<sup>-1</sup>."
      ],
      "metadata": {
        "id": "tQK53bBTZpMs"
      }
    },
    {
      "cell_type": "markdown",
      "source": [
        "## Propriedades da matriz inversa\n",
        "\n",
        "* A inversa da inversa de uma matriz é igual à matriz original:\n",
        "\n",
        "<div align=\"center\">\n",
        "  (A<sup>-1</sup>)<sup>-1</sup> = A\n",
        "</div>\n",
        "\n",
        "* A inversa da matriz identidade é igual à matriz identidade:\n",
        "\n",
        "<div align=\"center\">\n",
        "  I<sup>-1</sup> = I\n",
        "</div>\n",
        "\n",
        "* A inversa da soma de duas matrizes é igual à soma das inversas de cada matriz:\n",
        "\n",
        "<div align=\"center\">\n",
        "(A + B)<sup>-1</sup> = A<sup>-1</sup> + B<sup>-1</sup>\n",
        "</div>\n"
      ],
      "metadata": {
        "id": "SFipN9wjbjKL"
      }
    },
    {
      "cell_type": "code",
      "source": [
        "# Cria uma matriz quadrada\n",
        "A = np.array([[1, 2, -3], [2, 1, 3], [2, 0, -1]])\n",
        "A"
      ],
      "metadata": {
        "colab": {
          "base_uri": "https://localhost:8080/"
        },
        "id": "5jhIFDf9aK77",
        "outputId": "24208bab-952f-4659-bf84-49e0cbc8fd02"
      },
      "execution_count": 19,
      "outputs": [
        {
          "output_type": "execute_result",
          "data": {
            "text/plain": [
              "array([[ 1,  2, -3],\n",
              "       [ 2,  1,  3],\n",
              "       [ 2,  0, -1]])"
            ]
          },
          "metadata": {},
          "execution_count": 19
        }
      ]
    },
    {
      "cell_type": "markdown",
      "source": [
        "### linalg.det()"
      ],
      "metadata": {
        "id": "wVhwB3d6g8a0"
      }
    },
    {
      "cell_type": "code",
      "source": [
        "# Calcula o determinante da matriz\n",
        "np.linalg.det(A)"
      ],
      "metadata": {
        "colab": {
          "base_uri": "https://localhost:8080/"
        },
        "id": "WZHrysx9ggmy",
        "outputId": "9da7b254-f44d-45a3-eb48-c2bf812056f9"
      },
      "execution_count": 20,
      "outputs": [
        {
          "output_type": "execute_result",
          "data": {
            "text/plain": [
              "20.99999999999999"
            ]
          },
          "metadata": {},
          "execution_count": 20
        }
      ]
    },
    {
      "cell_type": "markdown",
      "source": [
        "### linalg.inv()"
      ],
      "metadata": {
        "id": "mKmG_EOFhCCK"
      }
    },
    {
      "cell_type": "code",
      "source": [
        "# Calcula a inverso da matriz\n",
        "A_inv = np.linalg.inv(A)\n",
        "A_inv"
      ],
      "metadata": {
        "colab": {
          "base_uri": "https://localhost:8080/"
        },
        "id": "ENgdu7oYgtx_",
        "outputId": "f6e86580-81fe-4b30-cdee-3bc484325469"
      },
      "execution_count": 21,
      "outputs": [
        {
          "output_type": "execute_result",
          "data": {
            "text/plain": [
              "array([[-0.04761905,  0.0952381 ,  0.42857143],\n",
              "       [ 0.38095238,  0.23809524, -0.42857143],\n",
              "       [-0.0952381 ,  0.19047619, -0.14285714]])"
            ]
          },
          "metadata": {},
          "execution_count": 21
        }
      ]
    },
    {
      "cell_type": "code",
      "source": [
        "# Multiplica a matriz A pela sua matriz inversa\n",
        "# Resultando na matriz identidade\n",
        "np.dot(A, A_inv)"
      ],
      "metadata": {
        "colab": {
          "base_uri": "https://localhost:8080/"
        },
        "id": "69AKAes3hUbC",
        "outputId": "4095e956-0be6-41b9-8022-6e30cacdbaa9"
      },
      "execution_count": 22,
      "outputs": [
        {
          "output_type": "execute_result",
          "data": {
            "text/plain": [
              "array([[ 1.00000000e+00,  0.00000000e+00,  5.55111512e-17],\n",
              "       [ 0.00000000e+00,  1.00000000e+00, -5.55111512e-17],\n",
              "       [ 0.00000000e+00,  8.32667268e-17,  1.00000000e+00]])"
            ]
          },
          "metadata": {},
          "execution_count": 22
        }
      ]
    },
    {
      "cell_type": "markdown",
      "source": [
        "# Matriz identidade\n",
        "\n",
        "A matriz identidade é uma matriz quadrada em que os elementos da diagonal principal são iguais a 1 e os demais elementos são iguais a 0. A matriz identidade é considerada o elemento neutro da multiplicação de matrizes, ou seja, se multiplicarmos uma matriz M pela matriz identidade, encontramos como resultado a própria matriz M. A representação matemática da matriz identidade de ordem n é I<sub>n</sub>."
      ],
      "metadata": {
        "id": "J_u6z4K0if-6"
      }
    },
    {
      "cell_type": "markdown",
      "source": [
        "## Propriedades da matriz identidade\n",
        "\n",
        "* O produto entre uma matriz quadrada A e sua identidade correspondente é igual à própria matriz A:\n",
        "\n",
        "<div align=\"center\">\n",
        "  A * I<sub>n</sub> = A\n",
        "</div>\n",
        "\n",
        "* O produto entre uma matriz quadrada A e sua matriz inversa correspondente é igual à matriz identidade:\n",
        "\n",
        "<div align=\"center\">\n",
        "  A * A<sup>-1</sup> = I<sub>n</sub>\n",
        "</div>\n",
        "\n",
        "* A matriz identidade é única para cada ordem n.\n"
      ],
      "metadata": {
        "id": "P8c4NWubjHo5"
      }
    },
    {
      "cell_type": "markdown",
      "source": [
        "### identety()"
      ],
      "metadata": {
        "id": "dxKAo33OlC3k"
      }
    },
    {
      "cell_type": "code",
      "source": [
        "# Cria uma matriz identidade de ordem 5, ou conforme valor informado como argumento\n",
        "np.identity(5)"
      ],
      "metadata": {
        "colab": {
          "base_uri": "https://localhost:8080/"
        },
        "id": "WG5hn4-RkraS",
        "outputId": "753739bc-5bb4-4d53-a20c-a5f90459e2bc"
      },
      "execution_count": 23,
      "outputs": [
        {
          "output_type": "execute_result",
          "data": {
            "text/plain": [
              "array([[1., 0., 0., 0., 0.],\n",
              "       [0., 1., 0., 0., 0.],\n",
              "       [0., 0., 1., 0., 0.],\n",
              "       [0., 0., 0., 1., 0.],\n",
              "       [0., 0., 0., 0., 1.]])"
            ]
          },
          "metadata": {},
          "execution_count": 23
        }
      ]
    },
    {
      "cell_type": "markdown",
      "source": [
        "### eye()"
      ],
      "metadata": {
        "id": "IiGEhRbrlXSa"
      }
    },
    {
      "cell_type": "code",
      "source": [
        "# Cria uma matriz identidade de ordem 10, ou conforme valor informado como argumento\n",
        "np.eye(10)"
      ],
      "metadata": {
        "colab": {
          "base_uri": "https://localhost:8080/"
        },
        "id": "jYF2meb7lOk6",
        "outputId": "511192e7-7d00-4d46-9045-6b6a3aa0f1c9"
      },
      "execution_count": 24,
      "outputs": [
        {
          "output_type": "execute_result",
          "data": {
            "text/plain": [
              "array([[1., 0., 0., 0., 0., 0., 0., 0., 0., 0.],\n",
              "       [0., 1., 0., 0., 0., 0., 0., 0., 0., 0.],\n",
              "       [0., 0., 1., 0., 0., 0., 0., 0., 0., 0.],\n",
              "       [0., 0., 0., 1., 0., 0., 0., 0., 0., 0.],\n",
              "       [0., 0., 0., 0., 1., 0., 0., 0., 0., 0.],\n",
              "       [0., 0., 0., 0., 0., 1., 0., 0., 0., 0.],\n",
              "       [0., 0., 0., 0., 0., 0., 1., 0., 0., 0.],\n",
              "       [0., 0., 0., 0., 0., 0., 0., 1., 0., 0.],\n",
              "       [0., 0., 0., 0., 0., 0., 0., 0., 1., 0.],\n",
              "       [0., 0., 0., 0., 0., 0., 0., 0., 0., 1.]])"
            ]
          },
          "metadata": {},
          "execution_count": 24
        }
      ]
    },
    {
      "cell_type": "markdown",
      "source": [
        "# Determinantes\n",
        "\n",
        "Calculamos determinantes somente de matrizes quadradas, ou seja, matrizes em que a quantidade de colunas e a quantidade de linhas são iguais. Para calcular o determinante de uma matriz, precisamos analisar a ordem dela, ou seja, se ela é 1x1, 2x2, 3x3 e assim sucessivamente, quanto maior a sua ordem, mais difícil será encontrar o determinante.\n",
        "  \n",
        "* Para matrizes de ordem 1, o determinante é simplesmente o único elemento da matriz.\n",
        "* Para matrizes de ordem 2, o determinante é a diferença entre o produto dos elementos da diagonal principal e o produto dos elementos da diagonal secundária.\n",
        "* Para matrizes de ordem 3 ou superior, existem diversas técnicas para calcular o determinante, como a regra de Sarrus, o método de Laplace, entre outros.\n",
        "\n",
        "**O determinante de uma matriz quadrada é um número real** que pode obter vários significados dependendo do contexto. Seu cálculo passa por processos específicos, o determinante de uma matriz possui várias aplicações atualmente:\n",
        "\n",
        "* Utilizamos o determinante para verificar se três pontos estão alinhados no plano cartesiano.\n",
        "* Para calcular áreas de triângulos.\n",
        "* Para resolução de sistemas lineares, entre outras aplicações na matemática.\n",
        "\n",
        "O estudo de determinantes não se limita à matemática, há algumas aplicações na física, como no estudo de campos elétricos.\n",
        "\n"
      ],
      "metadata": {
        "id": "1CkPIo2s8z_z"
      }
    },
    {
      "cell_type": "code",
      "source": [
        "# Cria uma matriz quadrada\n",
        "matriz = np.array([[1, 2, -3], [2, 1, 3], [2, 0, -1]])\n",
        "matriz"
      ],
      "metadata": {
        "colab": {
          "base_uri": "https://localhost:8080/"
        },
        "id": "SZp7ijN38zcw",
        "outputId": "b2808e9a-8cdd-4109-a887-d746f0f5f70f"
      },
      "execution_count": 25,
      "outputs": [
        {
          "output_type": "execute_result",
          "data": {
            "text/plain": [
              "array([[ 1,  2, -3],\n",
              "       [ 2,  1,  3],\n",
              "       [ 2,  0, -1]])"
            ]
          },
          "metadata": {},
          "execution_count": 25
        }
      ]
    },
    {
      "cell_type": "markdown",
      "source": [
        "## linalg.det()"
      ],
      "metadata": {
        "id": "iWmN9Wu79Kd2"
      }
    },
    {
      "cell_type": "code",
      "source": [
        "# Calcula o determinante de uma matriz quadrada\n",
        "np.linalg.det(matriz)"
      ],
      "metadata": {
        "colab": {
          "base_uri": "https://localhost:8080/"
        },
        "id": "pBioCtO69MYX",
        "outputId": "6ab78aa4-304b-4fc6-db8f-231e3814a773"
      },
      "execution_count": 26,
      "outputs": [
        {
          "output_type": "execute_result",
          "data": {
            "text/plain": [
              "20.99999999999999"
            ]
          },
          "metadata": {},
          "execution_count": 26
        }
      ]
    },
    {
      "cell_type": "markdown",
      "source": [
        "# Matriz random"
      ],
      "metadata": {
        "id": "5d24U8Hn-LJp"
      }
    },
    {
      "cell_type": "code",
      "source": [
        "# Cria uma matriz com número aleatórios/randômicos\n",
        "# randint, define como números inteiros, de 0 a 10, na ordem/tamanho 4x4\n",
        "A = np.random.randint(0, 10, size=(4, 4))\n",
        "A"
      ],
      "metadata": {
        "colab": {
          "base_uri": "https://localhost:8080/"
        },
        "id": "vHTHemQJ-SDE",
        "outputId": "658ee898-d461-4389-b332-71d4d6daba83"
      },
      "execution_count": 27,
      "outputs": [
        {
          "output_type": "execute_result",
          "data": {
            "text/plain": [
              "array([[5, 8, 5, 3],\n",
              "       [9, 1, 1, 6],\n",
              "       [3, 3, 4, 9],\n",
              "       [2, 1, 1, 0]])"
            ]
          },
          "metadata": {},
          "execution_count": 27
        }
      ]
    },
    {
      "cell_type": "code",
      "source": [
        "# Calcula o determinante de uma matriz quadrada\n",
        "np.linalg.det(A)"
      ],
      "metadata": {
        "colab": {
          "base_uri": "https://localhost:8080/"
        },
        "id": "xzwBux7Q_a7I",
        "outputId": "f3486b0c-85f0-4c6a-f104-d4087611994e"
      },
      "execution_count": 28,
      "outputs": [
        {
          "output_type": "execute_result",
          "data": {
            "text/plain": [
              "330.0000000000002"
            ]
          },
          "metadata": {},
          "execution_count": 28
        }
      ]
    },
    {
      "cell_type": "markdown",
      "source": [
        "# Sistemas lineares\n",
        "\n",
        "Um sistema linear é um conjunto de duas ou mais equações com uma ou mais incógnitas.\n",
        "\n",
        "<div align=\"center\">\n",
        "  ax = b\n",
        "</div>\n",
        "\n",
        "Sistemas lineares são conjuntos de equações lineares que envolvem várias variáveis, juntamente com a tarefa de encontrar valores para essas variáveis que satisfaçam todas as equações simultaneamente.\n",
        "\n",
        "Eles podem ser resolvidos por meio de diferentes métodos, como o método da **adição**, **igualdade** ou **substituição** para sistemas que possuem duas equações e duas incógnitas.\n",
        "\n",
        "A regra de **Crammer** e o **escalonamento**, que resolvem sistemas lineares de duas equações, mas que são mais convenientes para sistemas com mais de duas equações.\n",
        "\n",
        "A forma matricial de um sistema linear é uma representação matemática que utiliza matrizes para simplificar a resolução de sistemas de equações lineares.\n",
        "\n",
        "Para transformar um sistema linear em sua forma matricial, basta escrever os coeficientes das variáveis em uma matriz e os termos independentes em outra matriz:\n",
        "\n",
        "* A matriz dos coeficientes.\n",
        "* A matriz das variáveis.\n",
        "* A matriz dos termos independentes.\n",
        "\n",
        "A solução do sistema pode ser encontrada por meio da inversão da matriz dos coeficientes e da multiplicação da matriz inversa pela matriz dos termos independentes.\n",
        "\n",
        "<div align=\"center\">\n",
        "  ax = a<sup>-1</sup> * b\n",
        "</div>\n"
      ],
      "metadata": {
        "id": "Gi-PRzVpAKMP"
      }
    },
    {
      "cell_type": "markdown",
      "source": [
        "## Solução 1\n"
      ],
      "metadata": {
        "id": "GCsyJP8RHjBZ"
      }
    },
    {
      "cell_type": "code",
      "source": [
        "# Cria uma matriz randômica\n",
        "A = np.random.randint(0, 10, size=(3, 3))\n",
        "B = np.random.randint(0, 10, size=(3, 1))"
      ],
      "metadata": {
        "id": "HtAxtsnnFYS0"
      },
      "execution_count": 29,
      "outputs": []
    },
    {
      "cell_type": "code",
      "source": [
        "# Exibe a matriz\n",
        "A"
      ],
      "metadata": {
        "colab": {
          "base_uri": "https://localhost:8080/"
        },
        "id": "42jVvX_6Fvb1",
        "outputId": "4b169274-68c8-4fb9-8c01-22b8d938f2dc"
      },
      "execution_count": 30,
      "outputs": [
        {
          "output_type": "execute_result",
          "data": {
            "text/plain": [
              "array([[1, 5, 1],\n",
              "       [0, 9, 1],\n",
              "       [4, 0, 2]])"
            ]
          },
          "metadata": {},
          "execution_count": 30
        }
      ]
    },
    {
      "cell_type": "code",
      "source": [
        "# Exibe o vetor\n",
        "B"
      ],
      "metadata": {
        "colab": {
          "base_uri": "https://localhost:8080/"
        },
        "id": "GU0e9f_nFyu_",
        "outputId": "aed6772a-7512-4606-e9f6-aeb2e152dba9"
      },
      "execution_count": 31,
      "outputs": [
        {
          "output_type": "execute_result",
          "data": {
            "text/plain": [
              "array([[5],\n",
              "       [6],\n",
              "       [0]])"
            ]
          },
          "metadata": {},
          "execution_count": 31
        }
      ]
    },
    {
      "cell_type": "code",
      "source": [
        "# Calcula a matriz inversar\n",
        "A_inv = np.linalg.inv(A)\n",
        "A_inv"
      ],
      "metadata": {
        "colab": {
          "base_uri": "https://localhost:8080/"
        },
        "id": "-xs9c4kdDyGO",
        "outputId": "799f5fbc-f038-4ac0-b311-0b19ae3b25d3"
      },
      "execution_count": 32,
      "outputs": [
        {
          "output_type": "execute_result",
          "data": {
            "text/plain": [
              "array([[  9. ,  -5. ,  -2. ],\n",
              "       [  2. ,  -1. ,  -0.5],\n",
              "       [-18. ,  10. ,   4.5]])"
            ]
          },
          "metadata": {},
          "execution_count": 32
        }
      ]
    },
    {
      "cell_type": "code",
      "source": [
        "# Multiplica a matrize para calcular o sistema de equações lineares\n",
        "x = np.dot(A_inv, B)"
      ],
      "metadata": {
        "id": "CD2mscXgD_CQ"
      },
      "execution_count": 33,
      "outputs": []
    },
    {
      "cell_type": "markdown",
      "source": [
        "## Solução 2"
      ],
      "metadata": {
        "id": "I2WBND5eHqXK"
      }
    },
    {
      "cell_type": "markdown",
      "source": [
        "### solve()"
      ],
      "metadata": {
        "id": "fn6FypBcH3k0"
      }
    },
    {
      "cell_type": "code",
      "source": [
        "# Calcula o sistema de equações lineares utilizando o método solve()\n",
        "np.linalg.solve(A, B)"
      ],
      "metadata": {
        "colab": {
          "base_uri": "https://localhost:8080/"
        },
        "id": "gwBPTfaKHrZW",
        "outputId": "eae9b70a-612a-4f15-a610-88edabc4510e"
      },
      "execution_count": 34,
      "outputs": [
        {
          "output_type": "execute_result",
          "data": {
            "text/plain": [
              "array([[ 15.],\n",
              "       [  4.],\n",
              "       [-30.]])"
            ]
          },
          "metadata": {},
          "execution_count": 34
        }
      ]
    },
    {
      "cell_type": "markdown",
      "source": [
        "# Transformação linear\n",
        "\n",
        "Uma transformação linear é uma função entre dois espaços vetoriais que preserva as operações de adição de vetores e de multiplicação de um vetor por um escalar.\n",
        "\n",
        "Em outras palavras, sejam U e V dois espaços vetoriais, uma função T : U → V é uma transformação linear se preservar as duas propriedades:\n",
        "\n",
        "<div align=\"center\">\n",
        "  T(U) + T(V) = (U+V)\n",
        "</div>\n",
        "\n",
        "Características de um vetor:\n",
        "* Módulo\n",
        "* Direção\n",
        "* Sentido\n",
        "\n",
        "\n",
        "\n"
      ],
      "metadata": {
        "id": "1lXzTRirRt9m"
      }
    },
    {
      "cell_type": "code",
      "source": [
        "'''\n",
        "Este código cria um gráfico de um vetor (2, 2) com diferentes pontos de origem.\n",
        "O vetor é plotado em verde e os pontos de origem são plotados em preto.\n",
        "'''\n",
        "# Define um vetor (2, 2)\n",
        "vector = [2, 2]\n",
        "\n",
        "# Define a orgiem do vetor\n",
        "origins = [(0, 1), (0, 1), (0, 0), (0, 2)]\n",
        "\n",
        "# Extrai x e y das cordenada de origem\n",
        "origins_x = [origin[0] for origin in origins]\n",
        "origins_y = [origin[1] for origin in origins]\n",
        "\n",
        "# Plota um vetor (2, 2)\n",
        "plt.figure()\n",
        "plt.quiver(origins_x, origins_y, [vector[0]]*len(origins_x), [vector[1]]*len(origins_y), angles='xy', scale_units='xy', scale=1, color='g')\n",
        "\n",
        "# Configurações adicionais do gráfico\n",
        "plt.xlim(-1, 5)\n",
        "plt.ylim(-2, 5)\n",
        "plt.xlabel('x')\n",
        "plt.ylabel('y')\n",
        "plt.axhline(0, color='black', linewidth=0.5)\n",
        "plt.axvline(0, color='black', linewidth=0.5)\n",
        "plt.grid(color='gray', linestyle='', linewidth=0.5)\n",
        "plt.gca().set_aspect('equal', adjustable='box')\n",
        "plt.title('Vetores com Diferentes Pontos de Origem')\n",
        "\n",
        "# Exibindo o gráfico\n",
        "plt.show()"
      ],
      "metadata": {
        "colab": {
          "base_uri": "https://localhost:8080/",
          "height": 472
        },
        "id": "rx58uQJZRxsz",
        "outputId": "8f637dc3-4cff-4c6d-af18-8710be14b235"
      },
      "execution_count": 35,
      "outputs": [
        {
          "output_type": "display_data",
          "data": {
            "text/plain": [
              "<Figure size 640x480 with 1 Axes>"
            ],
            "image/png": "[encoded data removed]"
          },
          "metadata": {}
        }
      ]
    },
    {
      "cell_type": "markdown",
      "source": [
        "# Base canônica\n",
        "\n",
        "A base canônica, frequentemente referida como base padrão, é uma coleção de vetores que são usados como base para o espaço vetorial. Esses vetores são escolhidos de modo que cada vetor na base tenha uma componente não nula apenas em uma única dimensão, e todas as outras componentes são zero.\n",
        "\n",
        "Para um espaço bidimensional, a base canónica é composta por dois vetores:  \n",
        "  i: Vetor unitário ao longo do eixo x (1, O).  \n",
        "  j: Vetor unitário ao longo do eixo y (O, 1).\n",
        "  \n",
        "Para um espaço tridimensional, a base canónica é composta por três vetores:  \n",
        "  i: Vetor unitário ao longo do eixo x (1, O, O).  \n",
        "  j: Vetor unitário ao longo do eixo y (O, 1, O).  \n",
        "  k: Vetor unitário ao longo do eixo z (0, 0, 1).  \n",
        "\n",
        "Esses vetores formam uma base para o espaço tridimensional, o que significa que qualquer vetor neste espaço pode ser representado como uma combinação linear desses vetores.  \n"
      ],
      "metadata": {
        "id": "tBuXNmCOaV4J"
      }
    },
    {
      "cell_type": "code",
      "source": [
        "'''\n",
        "Este código cria um gráfico que representa a base canônica no plano cartesiano.\n",
        "A base canônica é composta por dois vetores unitários, um no eixo x e outro no eixo y.\n",
        "O vetor no eixo x é representado pela cor vermelha e o vetor no eixo y é representado pela cor azul.\n",
        "'''\n",
        "import matplotlib.pyplot as plt\n",
        "\n",
        "# Definindo o vetor na base canônica\n",
        "vetor_x = [1, 0]\n",
        "\n",
        "# Vetor unitário ao longo do eixo x\n",
        "vetor_y = [0, 1]\n",
        "\n",
        "# Plotando o vetor na base canônica\n",
        "plt.figure()\n",
        "plt.quiver(0, 0, vetor_x[0], vetor_x[1], angles='xy', scale_units='xy', scale=1, color='r', label='eixo x')\n",
        "plt.quiver(0, 0, vetor_y[0], vetor_y[1], angles='xy', scale_units='xy', scale=1, color='b', label='eixo y')\n",
        "\n",
        "# Configurações adicionais do gráfico\n",
        "plt.xlim(-1, 1)\n",
        "plt.ylim(-1, 1)\n",
        "plt.xlabel('x')\n",
        "plt.ylabel('y')\n",
        "plt.axhline(0, color='black', linewidth=0.5)\n",
        "plt.axvline(0, color='black', linewidth=0.5)\n",
        "plt.grid(color='gray', linestyle='--', linewidth=0.5)\n",
        "plt.gca().set_aspect('equal', adjustable='box')\n",
        "plt.legend()\n",
        "plt.title(\"Base Canonica\")\n",
        "\n",
        "# Exibindo o gráfico\n",
        "plt.show()"
      ],
      "metadata": {
        "colab": {
          "base_uri": "https://localhost:8080/",
          "height": 472
        },
        "id": "IFyWIKnLafOP",
        "outputId": "6bf553b5-a76a-4537-fbc3-bbb031a02c2b"
      },
      "execution_count": 36,
      "outputs": [
        {
          "output_type": "display_data",
          "data": {
            "text/plain": [
              "<Figure size 640x480 with 1 Axes>"
            ],
            "image/png": "[encoded data removed]"
          },
          "metadata": {}
        }
      ]
    },
    {
      "cell_type": "code",
      "source": [
        "'''\n",
        "Este código cria um gráfico que representa a base canônica no plano cartesiano.\n",
        "A base canônica é composta por dois vetores unitários, um no eixo x e outro no eixo y.\n",
        "O vetor no eixo x é representado pela cor vermelha, o vetor no eixo y é representado pela cor azul e o vetor (4,3) é representado pela cor verde.\n",
        "'''\n",
        "import matplotlib.pyplot as plt\n",
        "\n",
        "# Definindo o vetor na base canônica\n",
        "vetor_x = [1, 0]  # Vetor unitário ao longo do eixo x\n",
        "vetor_y = [0, 1]  # Vetor unitário ao longo do eixo y\n",
        "\n",
        "# Plotando os vetores na base canônica\n",
        "plt.figure()\n",
        "plt.quiver(0, 0, vetor_x[0], vetor_x[1], angles='xy', scale_units='xy', scale=1, color='r', label='Vetor no eixo x')\n",
        "plt.quiver(0, 0, vetor_y[0], vetor_y[1], angles='xy', scale_units='xy', scale=1, color='b', label='Vetor no eixo y')\n",
        "\n",
        "# Adicionando o vetor (4,3)\n",
        "plt.quiver(0, 0, 4, 3, angles='xy', scale_units='xy', scale=1, color='g', label='(4,3)')\n",
        "\n",
        "# Configurações adicionais do gráfico\n",
        "plt.xlim(-1, 5)\n",
        "plt.ylim(-1, 5)\n",
        "plt.xlabel('x')\n",
        "plt.ylabel('y')\n",
        "plt.axhline(0, color='black', linewidth=0.5)\n",
        "plt.axvline(0, color='black', linewidth=0.5)\n",
        "plt.grid(color='gray', linestyle='', linewidth = 0.5)\n",
        "plt.gca().set_aspect('equal', adjustable='box')\n",
        "plt.legend()\n",
        "plt.title(\"Base Canonica com Vetor (4,3)\")\n",
        "\n",
        "# Exibindo o gráfico\n",
        "plt.show()"
      ],
      "metadata": {
        "colab": {
          "base_uri": "https://localhost:8080/",
          "height": 472
        },
        "id": "H3RERiBpcjbP",
        "outputId": "ffda46b0-bb6f-410b-c6f5-6237bdc6f3d1"
      },
      "execution_count": 37,
      "outputs": [
        {
          "output_type": "display_data",
          "data": {
            "text/plain": [
              "<Figure size 640x480 with 1 Axes>"
            ],
            "image/png": "[encoded data removed]"
          },
          "metadata": {}
        }
      ]
    },
    {
      "cell_type": "markdown",
      "source": [
        "## Rotação\n",
        "Rotaciona o vetor em torno da origem do sistema de coordenadas."
      ],
      "metadata": {
        "id": "kZxQkeLu0wfR"
      }
    },
    {
      "cell_type": "code",
      "source": [
        "# Define o vetor original\n",
        "v = np.array([[1], [1]])\n",
        "\n",
        "# Define e cria a matriz de rotação\n",
        "theta = np.pi / 4 # Ângilo de rotação em radianos\n",
        "R = np.array([[np.cos(theta), -np.sin(theta)],\n",
        "              [np.sin(theta), np.cos(theta)]])\n",
        "\n",
        "# Aplica a rotação ao vetor, multiplicando as matrizes\n",
        "v_rotado = np.dot(R, v)\n",
        "\n",
        "v_rotado"
      ],
      "metadata": {
        "colab": {
          "base_uri": "https://localhost:8080/"
        },
        "id": "SpbGTcS3rnQZ",
        "outputId": "fc1f41c6-3e8f-4177-97c4-2986d366b65b"
      },
      "execution_count": 38,
      "outputs": [
        {
          "output_type": "execute_result",
          "data": {
            "text/plain": [
              "array([[1.11022302e-16],\n",
              "       [1.41421356e+00]])"
            ]
          },
          "metadata": {},
          "execution_count": 38
        }
      ]
    },
    {
      "cell_type": "markdown",
      "source": [
        "## Escalonamento\n",
        "\n",
        "Aumenta ou diminui o tamanho do vetor."
      ],
      "metadata": {
        "id": "QcBNAUIE05l0"
      }
    },
    {
      "cell_type": "code",
      "source": [
        "# Cria a matriz de escalonamento\n",
        "S = np.array([[2, 0],\n",
        "              [0, 0.5]])\n",
        "\n",
        "# Realiza o escalonamento\n",
        "v_escalonado = np.dot(S, v)\n",
        "\n",
        "v_escalonado"
      ],
      "metadata": {
        "colab": {
          "base_uri": "https://localhost:8080/"
        },
        "id": "hh7BiKeGtjIJ",
        "outputId": "0c687534-98ef-4e0c-96fd-2f91abd00ff5"
      },
      "execution_count": 39,
      "outputs": [
        {
          "output_type": "execute_result",
          "data": {
            "text/plain": [
              "array([[2. ],\n",
              "       [0.5]])"
            ]
          },
          "metadata": {},
          "execution_count": 39
        }
      ]
    },
    {
      "cell_type": "markdown",
      "source": [
        "## Reflexão\n",
        "\n",
        "Reflete o vetar em torno de um eixo."
      ],
      "metadata": {
        "id": "3Q4FCtCL0_Pi"
      }
    },
    {
      "cell_type": "code",
      "source": [
        "# Cria a matriz de reflexão\n",
        "F = np.array([[1, 0],\n",
        "              [0, -1]])\n",
        "\n",
        "# Realiza a reflexão\n",
        "v_refletido = np.dot(F, v)\n",
        "\n",
        "v_refletido"
      ],
      "metadata": {
        "colab": {
          "base_uri": "https://localhost:8080/"
        },
        "id": "2FYoR5dZtl-c",
        "outputId": "5b53533c-198d-4e94-f508-b38c98368458"
      },
      "execution_count": 40,
      "outputs": [
        {
          "output_type": "execute_result",
          "data": {
            "text/plain": [
              "array([[ 1],\n",
              "       [-1]])"
            ]
          },
          "metadata": {},
          "execution_count": 40
        }
      ]
    },
    {
      "cell_type": "markdown",
      "source": [
        "## Cisalhamento\n",
        "\n",
        "Desloca o vetor ao longo de uma direção enquanto mantém a outra direção constante."
      ],
      "metadata": {
        "id": "mkNJXpGt1D_c"
      }
    },
    {
      "cell_type": "code",
      "source": [
        "# Cria a matriz de cisalhamento\n",
        "H = np.array([[1, 0.5],\n",
        "              [0, 1]])\n",
        "\n",
        "# Realiza o cisalhamento\n",
        "v_cisalhado = np.dot(H, v)\n",
        "\n",
        "v_cisalhado"
      ],
      "metadata": {
        "colab": {
          "base_uri": "https://localhost:8080/"
        },
        "id": "LfZj6b65uqQG",
        "outputId": "bcedde0c-f8ce-4a05-f842-c40dcf396f75"
      },
      "execution_count": 41,
      "outputs": [
        {
          "output_type": "execute_result",
          "data": {
            "text/plain": [
              "array([[1.5],\n",
              "       [1. ]])"
            ]
          },
          "metadata": {},
          "execution_count": 41
        }
      ]
    },
    {
      "cell_type": "code",
      "source": [
        "# Define o vetor original\n",
        "v = np.array([1, 1])\n",
        "\n",
        "# Define as transformações\n",
        "transformations = [\n",
        "    (\"Rotação\", np.array([[np.cos(np.pi/4), -np.sin(np.pi/4)],\n",
        "                          [np.sin(np.pi/4), np.cos(np.pi/4)]])),\n",
        "    (\"Escalonamento\", np.array([[2, 0],\n",
        "                                [0, 0.5]])),\n",
        "    (\"Reflexão\", np.array([[1, 0],\n",
        "                           [0, -1]])),\n",
        "    (\"Cisalhamento\", np.array([[1, 0.5],\n",
        "                               [0, 1]]))\n",
        "]\n",
        "\n",
        "for i, (name, T) in enumerate(transformations, start=1):\n",
        "  plt.subplot(2, 2, i)\n",
        "  plt.title(name)\n",
        "  transformed_v = np.dot(T, v)\n",
        "  plt.quiver([0, 0], [0, 0], [v[0], transformed_v[0]], [v[1], transformed_v[1]], angles='xy', scale_units='xy', scale=1, color='b') # Vetor original\n",
        "  plt.quiver(0, 0, transformed_v[0], transformed_v[1], angles='xy', scale_units='xy', scale=1, color='r') # Vetor transformado\n",
        "  plt.xlim(-2, 3)\n",
        "  plt.ylim(-2, 3)\n",
        "  plt.grid(True)\n",
        "\n",
        "plt.tight_layout()\n",
        "plt.show()"
      ],
      "metadata": {
        "colab": {
          "base_uri": "https://localhost:8080/",
          "height": 486
        },
        "id": "Ca9w0BTvvt0R",
        "outputId": "e702a12f-0c6c-4b90-a8cf-6bb15f9b26c4"
      },
      "execution_count": 42,
      "outputs": [
        {
          "output_type": "display_data",
          "data": {
            "text/plain": [
              "<Figure size 640x480 with 4 Axes>"
            ],
            "image/png": "[encoded data removed]"
          },
          "metadata": {}
        }
      ]
    },
    {
      "cell_type": "markdown",
      "source": [
        "# Autovalor e autovetor\n"
      ],
      "metadata": {
        "id": "fEvuQOLW8eHX"
      }
    },
    {
      "cell_type": "markdown",
      "source": [
        "## linalg.eig()"
      ],
      "metadata": {
        "id": "_3nVzNh9_8CT"
      }
    },
    {
      "cell_type": "code",
      "source": [
        "# Cria um matriz\n",
        "A = np.array([[6, -1],\n",
        "              [2, 3]])\n",
        "\n",
        "# Calcula os autovalores e autovetores\n",
        "autovalores, autovetores = np.linalg.eig(A)\n",
        "\n",
        "# Imprimi os autovalores\n",
        "print(\"Autovalores:\")\n",
        "print(autovalores)\n",
        "\n",
        "# Imprimi os autovetores\n",
        "print(\"\\nAutovetores:\")\n",
        "print(autovetores)\n",
        "\n",
        "# Cria a matriz diagonal com os autovalores\n",
        "matriz_diagonal = np.diag(autovalores)\n",
        "\n",
        "# Imprimi a matriz diagonal\n",
        "print(\"\\nMatriz diagonal:\\n\", matriz_diagonal)"
      ],
      "metadata": {
        "colab": {
          "base_uri": "https://localhost:8080/"
        },
        "id": "IxXYKx6sciMF",
        "outputId": "aa0ca46c-a6db-414a-af42-a0a7146fe58c"
      },
      "execution_count": 43,
      "outputs": [
        {
          "output_type": "stream",
          "name": "stdout",
          "text": [
            "Autovalores:\n",
            "[5. 4.]\n",
            "\n",
            "Autovetores:\n",
            "[[0.70710678 0.4472136 ]\n",
            " [0.70710678 0.89442719]]\n",
            "\n",
            "Matriz diagonal:\n",
            " [[5. 0.]\n",
            " [0. 4.]]\n"
          ]
        }
      ]
    },
    {
      "cell_type": "markdown",
      "source": [
        "# Produto escalar\n",
        "\n",
        "É uma valor resultante do produto entre dois vetores.\n",
        "\n",
        "Representação:\n",
        "<div align=\"center\">\n",
        "  a . b\n",
        "</div>\n",
        "\n",
        "Se o produto escalar de dois vetores for igual a 0, então o tetha, será igual ao ânglo de 90°."
      ],
      "metadata": {
        "id": "7D8VuG23FJJ5"
      }
    },
    {
      "cell_type": "code",
      "source": [
        "# Cria dos vetores\n",
        "w = np.array([1, 1])\n",
        "t = np.array([1, -1])"
      ],
      "metadata": {
        "id": "nVl-FxdgFgCo"
      },
      "execution_count": 44,
      "outputs": []
    },
    {
      "cell_type": "code",
      "source": [
        "# Calcula o produto de dois vetores, que é o produto escalar\n",
        "np.dot(w, t)"
      ],
      "metadata": {
        "id": "jfAe9beQqUJJ",
        "colab": {
          "base_uri": "https://localhost:8080/"
        },
        "outputId": "390bdd51-1902-4f14-e09d-0fd27243c467"
      },
      "execution_count": 45,
      "outputs": [
        {
          "output_type": "execute_result",
          "data": {
            "text/plain": [
              "0"
            ]
          },
          "metadata": {},
          "execution_count": 45
        }
      ]
    },
    {
      "cell_type": "code",
      "source": [
        "# Base canônica\n",
        "e1 = np.array([1, 0])\n",
        "e2 = np.array([0, 1])\n",
        "\n",
        "# Componentes dos vetores\n",
        "v1, v2 = (1, 3)\n",
        "w1, w2 = (2, -1)\n",
        "\n",
        "# Vetores expandidos na base canônica\n",
        "v = v1*e1 + v2*e2\n",
        "w = w1*e1 + w2*e2\n",
        "\n",
        "# Produto escalar\n",
        "vv = np.dot(v1, v2)\n",
        "ww = np.dot(w1, w2)\n",
        "\n",
        "# Produto escalar, diretamente\n",
        "produto_escalar = (v*w).sum()\n",
        "\n",
        "print(\"Produto escalar entre v1 e v2 na base canônica:\", vv)\n",
        "print(\"Produto escalar entre w1 e w2 na base canônica:\", ww)\n",
        "print(\"Produto escalar diretamente:\", produto_escalar)"
      ],
      "metadata": {
        "colab": {
          "base_uri": "https://localhost:8080/"
        },
        "id": "f5FcSLmhHPO2",
        "outputId": "125d76fe-9fcd-4f43-96a8-5042461daba0"
      },
      "execution_count": 46,
      "outputs": [
        {
          "output_type": "stream",
          "name": "stdout",
          "text": [
            "Produto escalar entre v1 e v2 na base canônica: 3\n",
            "Produto escalar entre w1 e w2 na base canônica: -2\n",
            "Produto escalar diretamente: -1\n"
          ]
        }
      ]
    },
    {
      "cell_type": "markdown",
      "source": [
        "## linalg.norm(), arccos() e degrees()\n"
      ],
      "metadata": {
        "id": "ZCpssZAPMV8L"
      }
    },
    {
      "cell_type": "code",
      "source": [
        "# Base canônica\n",
        "e1 = np.array([1, 0])\n",
        "e2 = np.array([0, 1])\n",
        "\n",
        "# Componentes dos vetores\n",
        "v1, v2 = (4, 6)\n",
        "w1, w2 = (3, 6)\n",
        "\n",
        "# Vetores expandidos na base canônica\n",
        "v = v1*e1 + v2*e2\n",
        "w = w1*e1 + w2*e2\n",
        "\n",
        "# Calcula a norma dos vetores\n",
        "norm_v = np.linalg.norm(v)\n",
        "norm_w = np.linalg.norm(w)\n",
        "\n",
        "# Calcula o produto escalar\n",
        "v_dot_w = np.dot(v, w)\n",
        "\n",
        "# Calcula o ângulo entre os vetores\n",
        "theta = np.arccos(v_dot_w / (norm_v * norm_w))\n",
        "\n",
        "# Converte ângulo para graus\n",
        "theta_graus = np.degrees(theta)\n",
        "\n",
        "# Imprime dos resultados\n",
        "print(f\"Produto escalar entre v1 e v2 na base canônica: {v_dot_w:.2f}\")\n",
        "print(f\"Norma do vetor v: {norm_v:.2f}\")\n",
        "print(f\"Norma do vetor w: {norm_w:.2f}\")\n",
        "print(f\"Ângulo entre os vetores em radianos: {theta:.2f} rad\")\n",
        "print(f\"Ângulo entre os vetores em graus: {theta_graus:.2f}°\")"
      ],
      "metadata": {
        "colab": {
          "base_uri": "https://localhost:8080/"
        },
        "id": "Xu4ypbtWLTfF",
        "outputId": "ee301421-23f8-487c-bed1-0c5cec5f262a"
      },
      "execution_count": 47,
      "outputs": [
        {
          "output_type": "stream",
          "name": "stdout",
          "text": [
            "Produto escalar entre v1 e v2 na base canônica: 48.00\n",
            "Norma do vetor v: 7.21\n",
            "Norma do vetor w: 6.71\n",
            "Ângulo entre os vetores em radianos: 0.12 rad\n",
            "Ângulo entre os vetores em graus: 7.13°\n"
          ]
        }
      ]
    },
    {
      "cell_type": "markdown",
      "source": [
        "# Produto vetorial\n",
        "\n",
        "É uma vetor resultante do produto entre dois vetores, ortagonal (ângulo de 90°) a ambos, com direção definida pela **regra da mão direta**, e norma igual à área do paralelogramo gerado pelos vetores.\n",
        "\n",
        "Representação:\n",
        "<div align=\"center\">\n",
        "  a x b <br>  \n",
        "  a ^ b\n",
        "</div>"
      ],
      "metadata": {
        "id": "H8BrGjfCNeyK"
      }
    },
    {
      "cell_type": "code",
      "source": [
        "# Componentes dos vetores\n",
        "a = np.array([1, 2, 3])\n",
        "b = np.array([3, 2, 1])\n",
        "\n",
        "# Calcula o produto vetorial normalizado\n",
        "np.cross(a, b)/np.linalg.norm(np.cross(a, b))"
      ],
      "metadata": {
        "colab": {
          "base_uri": "https://localhost:8080/"
        },
        "id": "137sLMdsNhpq",
        "outputId": "c5614c2a-9d77-4230-ee9d-a26e65e2364f"
      },
      "execution_count": 48,
      "outputs": [
        {
          "output_type": "execute_result",
          "data": {
            "text/plain": [
              "array([-0.40824829,  0.81649658, -0.40824829])"
            ]
          },
          "metadata": {},
          "execution_count": 48
        }
      ]
    },
    {
      "cell_type": "markdown",
      "source": [
        "# Produto misto e volume\n",
        "\n",
        "Representação:\n",
        "<div align=\"center\">\n",
        "  volume = | c . (a x b) |\n",
        "</div>\n",
        "\n",
        "O volume de um paralelepípedo é definido como produto entre área de sua base e altura."
      ],
      "metadata": {
        "id": "4VQoVG4S5JNk"
      }
    },
    {
      "cell_type": "code",
      "source": [
        "# Componentes dos vetores\n",
        "a = (1, 2, 6)\n",
        "b = (5, 2, 1)\n",
        "c = (2, 2, 10)"
      ],
      "metadata": {
        "id": "OCRc8e7vTwAO"
      },
      "execution_count": 49,
      "outputs": []
    },
    {
      "cell_type": "markdown",
      "source": [
        "## Solução 1"
      ],
      "metadata": {
        "id": "QEjnPPT68Yxq"
      }
    },
    {
      "cell_type": "markdown",
      "source": [
        "### cross()"
      ],
      "metadata": {
        "id": "qOZoPOPdB0Ks"
      }
    },
    {
      "cell_type": "code",
      "source": [
        "# Calcula o produto vetorial\n",
        "np.cross(a, b)"
      ],
      "metadata": {
        "colab": {
          "base_uri": "https://localhost:8080/"
        },
        "id": "TvV3ircYCJ2k",
        "outputId": "c4322f63-72cb-4a8e-b1a2-ea6466c1818e"
      },
      "execution_count": 50,
      "outputs": [
        {
          "output_type": "execute_result",
          "data": {
            "text/plain": [
              "array([-10,  29,  -8])"
            ]
          },
          "metadata": {},
          "execution_count": 50
        }
      ]
    },
    {
      "cell_type": "markdown",
      "source": [
        "### abs()"
      ],
      "metadata": {
        "id": "66WawD6190FH"
      }
    },
    {
      "cell_type": "code",
      "source": [
        "# Calcula o produto misto, que é o volume\n",
        "np.abs(np.dot(c, np.cross(a, b))) # Transformar em valor em positivo, pois não há volume negativo"
      ],
      "metadata": {
        "colab": {
          "base_uri": "https://localhost:8080/"
        },
        "id": "b1HBOz-f80-x",
        "outputId": "1e9d4dc7-1073-4cb1-8e2e-b54cee2ec532"
      },
      "execution_count": 51,
      "outputs": [
        {
          "output_type": "execute_result",
          "data": {
            "text/plain": [
              "42"
            ]
          },
          "metadata": {},
          "execution_count": 51
        }
      ]
    },
    {
      "cell_type": "code",
      "source": [
        "# Calcula o produto misto, que é o volume\n",
        "np.abs(np.linalg.det(np.array([a, b, c])))"
      ],
      "metadata": {
        "colab": {
          "base_uri": "https://localhost:8080/"
        },
        "id": "OkQXqIOs9PLV",
        "outputId": "aed5658b-ed32-4b6f-c661-7f2781a4b923"
      },
      "execution_count": 52,
      "outputs": [
        {
          "output_type": "execute_result",
          "data": {
            "text/plain": [
              "41.999999999999986"
            ]
          },
          "metadata": {},
          "execution_count": 52
        }
      ]
    },
    {
      "cell_type": "markdown",
      "source": [
        "## Solução 2"
      ],
      "metadata": {
        "id": "3qySf0hV9wDD"
      }
    }
  ]
}