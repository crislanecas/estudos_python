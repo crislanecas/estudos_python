{
  "nbformat": 4,
  "nbformat_minor": 0,
  "metadata": {
    "colab": {
      "provenance": [],
      "toc_visible": true,
      "authorship_tag": "ABX9TyOOB69Uc12oSbOj+oSsO/Br",
      "include_colab_link": true
    },
    "kernelspec": {
      "name": "python3",
      "display_name": "Python 3"
    },
    "language_info": {
      "name": "python"
    }
  },
  "cells": [
    {
      "cell_type": "markdown",
      "metadata": {
        "id": "view-in-github",
        "colab_type": "text"
      },
      "source": [
        "<a href=\"https://colab.research.google.com/github/crislanecas/estudos_python/blob/main/Ada%26SantanderCoders/07_Aula_%C3%81lgebra_Linear.ipynb\" target=\"_parent\"><img src=\"https://colab.research.google.com/assets/colab-badge.svg\" alt=\"Open In Colab\"/></a>"
      ]
    },
    {
      "cell_type": "code",
      "source": [
        "import numpy as np\n",
        "import matplotlib.pyplot as plt"
      ],
      "metadata": {
        "id": "O7adSzsuIghU"
      },
      "execution_count": null,
      "outputs": []
    },
    {
      "cell_type": "markdown",
      "source": [
        "# Matriz\n",
        "\n",
        "Em Python, uma matriz pode ser representada como uma lista de listas, onde cada lista interna representa uma linha da matriz, que por sua vez corresponde a uma lista com os elementos da coluna da matriz."
      ],
      "metadata": {
        "id": "AjT7C8og_KxG"
      }
    },
    {
      "cell_type": "code",
      "execution_count": null,
      "metadata": {
        "id": "u8YU7lw7CnDN"
      },
      "outputs": [],
      "source": [
        "# Cria uma matriz\n",
        "matriz_A = [[1, 2, 3], [4, 5, 6]]"
      ]
    },
    {
      "cell_type": "code",
      "source": [
        "# Exibe o conteúdo da matriz\n",
        "matriz_A"
      ],
      "metadata": {
        "colab": {
          "base_uri": "https://localhost:8080/"
        },
        "id": "A5mSSplW_Fhw",
        "outputId": "5b621db5-cf08-41a1-8ed3-35e20cf1b21d"
      },
      "execution_count": null,
      "outputs": [
        {
          "output_type": "execute_result",
          "data": {
            "text/plain": [
              "[[1, 2, 3], [4, 5, 6]]"
            ]
          },
          "metadata": {},
          "execution_count": 3
        }
      ]
    },
    {
      "cell_type": "code",
      "source": [
        "# Acessa a primeira linha da matriz\n",
        "matriz_A[0]"
      ],
      "metadata": {
        "colab": {
          "base_uri": "https://localhost:8080/"
        },
        "id": "WbOY0k6d_IAn",
        "outputId": "6dba06a7-b435-476a-b226-8292640c8f05"
      },
      "execution_count": null,
      "outputs": [
        {
          "output_type": "execute_result",
          "data": {
            "text/plain": [
              "[1, 2, 3]"
            ]
          },
          "metadata": {},
          "execution_count": 4
        }
      ]
    },
    {
      "cell_type": "code",
      "source": [
        "# Acessa a segunda linha da matriz\n",
        "matriz_A[1]"
      ],
      "metadata": {
        "colab": {
          "base_uri": "https://localhost:8080/"
        },
        "id": "I6PSmxV7BAlD",
        "outputId": "2fd2be11-a06a-4c31-c671-8fc4b477e674"
      },
      "execution_count": null,
      "outputs": [
        {
          "output_type": "execute_result",
          "data": {
            "text/plain": [
              "[4, 5, 6]"
            ]
          },
          "metadata": {},
          "execution_count": 5
        }
      ]
    },
    {
      "cell_type": "code",
      "source": [
        "# Acessa o elemento que está na primeira linha da segundo coluna\n",
        "matriz_A[0][1]"
      ],
      "metadata": {
        "colab": {
          "base_uri": "https://localhost:8080/"
        },
        "id": "XU_nXNhzBJgE",
        "outputId": "0ce3e7bf-afe8-4c92-f6c5-954e92366248"
      },
      "execution_count": null,
      "outputs": [
        {
          "output_type": "execute_result",
          "data": {
            "text/plain": [
              "2"
            ]
          },
          "metadata": {},
          "execution_count": 6
        }
      ]
    },
    {
      "cell_type": "markdown",
      "source": [
        "# Array NumPy\n",
        "\n",
        "NumPy é um pacote para computação científica que fornece uma ampla gama de funções e métodos para trabalhar com matrizes multidimensionais."
      ],
      "metadata": {
        "id": "j_M8nJ84CLbi"
      }
    },
    {
      "cell_type": "code",
      "source": [
        "# Importa a biblioteca\n",
        "import numpy as np"
      ],
      "metadata": {
        "id": "qU7f_-BiCc0Q"
      },
      "execution_count": null,
      "outputs": []
    },
    {
      "cell_type": "code",
      "source": [
        "# Cria um array (matriz multidimensional)\n",
        "matriz_B = np.array([[1, 2, 3], [4, 5, 6], [7, 8, 9]])"
      ],
      "metadata": {
        "id": "mlH_p9nECi9C"
      },
      "execution_count": null,
      "outputs": []
    },
    {
      "cell_type": "code",
      "source": [
        "# Exibe o conteúdo do array\n",
        "matriz_B"
      ],
      "metadata": {
        "colab": {
          "base_uri": "https://localhost:8080/"
        },
        "id": "Muxdo46DDfE3",
        "outputId": "98365261-40b0-485f-e531-728587fec7c4"
      },
      "execution_count": null,
      "outputs": [
        {
          "output_type": "execute_result",
          "data": {
            "text/plain": [
              "array([[1, 2, 3],\n",
              "       [4, 5, 6],\n",
              "       [7, 8, 9]])"
            ]
          },
          "metadata": {},
          "execution_count": 9
        }
      ]
    },
    {
      "cell_type": "code",
      "source": [
        "# Acessa a primeira linha do array\n",
        "matriz_B[0]"
      ],
      "metadata": {
        "colab": {
          "base_uri": "https://localhost:8080/"
        },
        "id": "56gaZW6xD2Nw",
        "outputId": "be20d040-91c6-47cb-8e13-1ab401186152"
      },
      "execution_count": null,
      "outputs": [
        {
          "output_type": "execute_result",
          "data": {
            "text/plain": [
              "array([1, 2, 3])"
            ]
          },
          "metadata": {},
          "execution_count": 10
        }
      ]
    },
    {
      "cell_type": "code",
      "source": [
        "# Acessa a segunda linha do array\n",
        "matriz_B[1]"
      ],
      "metadata": {
        "colab": {
          "base_uri": "https://localhost:8080/"
        },
        "id": "ibXKixELEBJi",
        "outputId": "07dcf6e5-fd25-4e1e-e172-b9d07304b21f"
      },
      "execution_count": null,
      "outputs": [
        {
          "output_type": "execute_result",
          "data": {
            "text/plain": [
              "array([4, 5, 6])"
            ]
          },
          "metadata": {},
          "execution_count": 11
        }
      ]
    },
    {
      "cell_type": "code",
      "source": [
        "# Acessa o elemento que está na terceira linha da segundo coluna\n",
        "matriz_B[2][1]"
      ],
      "metadata": {
        "colab": {
          "base_uri": "https://localhost:8080/"
        },
        "id": "TPY5oqePESPf",
        "outputId": "f7a2bcf1-8a49-4439-e0be-0bb5bfd34941"
      },
      "execution_count": null,
      "outputs": [
        {
          "output_type": "execute_result",
          "data": {
            "text/plain": [
              "8"
            ]
          },
          "metadata": {},
          "execution_count": 12
        }
      ]
    },
    {
      "cell_type": "markdown",
      "source": [
        "## Soma e substração de matrizes\n",
        "\n",
        "A adição e subtração de matrizes são realizadas elemento por elemento. Para que duas matrizes possam ser adicionadas ou subtraídas, elas devem ter a mesma dimensão.\n",
        "\n",
        "Por exemplo, se tivermos duas matrizes A e B, ambas com dimensão m x n, a soma de A e B é uma matriz C, onde cada elemento de C é a soma dos elementos correspondentes de A e B."
      ],
      "metadata": {
        "id": "6K0hbBd4HMxz"
      }
    },
    {
      "cell_type": "code",
      "source": [
        "matriz_1 = np.array([[1, 2, 3], [4, 5, 6], [7, 8, 9]])\n",
        "matriz_2 = np.array([[9, 8, 7], [6, 5, 4], [3, 2, 1]])\n",
        "\n",
        "# Soma duas matrizes\n",
        "matriz_1 + matriz_2"
      ],
      "metadata": {
        "colab": {
          "base_uri": "https://localhost:8080/"
        },
        "id": "DAlQbESUHmE1",
        "outputId": "6e722de8-0922-4708-b4ad-fad5e5db13d2"
      },
      "execution_count": null,
      "outputs": [
        {
          "output_type": "execute_result",
          "data": {
            "text/plain": [
              "array([[10, 10, 10],\n",
              "       [10, 10, 10],\n",
              "       [10, 10, 10]])"
            ]
          },
          "metadata": {},
          "execution_count": 13
        }
      ]
    },
    {
      "cell_type": "code",
      "source": [
        "matriz_1 = np.array([[1, 2, 3], [4, 5, 6], [7, 8, 9]])\n",
        "matriz_2 = np.array([[9, 8, 7], [6, 5, 4], [3, 2, 1]])\n",
        "\n",
        "# Subtrai duas matrizes\n",
        "matriz_1 - matriz_2"
      ],
      "metadata": {
        "colab": {
          "base_uri": "https://localhost:8080/"
        },
        "id": "hHEfMzYqIFKJ",
        "outputId": "d7ed16b6-5c2a-4e2b-8938-0fcb42359021"
      },
      "execution_count": null,
      "outputs": [
        {
          "output_type": "execute_result",
          "data": {
            "text/plain": [
              "array([[-8, -6, -4],\n",
              "       [-2,  0,  2],\n",
              "       [ 4,  6,  8]])"
            ]
          },
          "metadata": {},
          "execution_count": 14
        }
      ]
    },
    {
      "cell_type": "markdown",
      "source": [
        "## Multiplicação de matrizes\n",
        "\n",
        "Para multiplicar as matrizes A e B, precisamos garantir que o número de colunas da matriz A seja igual ao número de linhas da matriz B.\n",
        "\n",
        "Para realizar a multiplicação, precisamos multiplicar cada elemento da primeira linha da matriz A pelos elementos correspondentes da primeira coluna da matriz B e somar os produtos. Em seguida, fazemos o mesmo para a segunda linha da matriz A e a segunda coluna da matriz B. O resultado é uma matriz C com o número de linhas da matriz A e 0 número de colunas da matriz B."
      ],
      "metadata": {
        "id": "PdHAIaeQJK9c"
      }
    },
    {
      "cell_type": "markdown",
      "source": [
        "### dot()"
      ],
      "metadata": {
        "id": "Buhd3u_lLfFv"
      }
    },
    {
      "cell_type": "code",
      "source": [
        "matriz_A = np.array([[1, 2, 3], [4, 5, 6], [7, 8, 9]])\n",
        "matriz_B = np.array([[9, 8, 7], [6, 5, 4], [3, 2, 1]])\n",
        "\n",
        "# Multiplica duas matrizes\n",
        "np.dot(matriz_A, matriz_B)"
      ],
      "metadata": {
        "colab": {
          "base_uri": "https://localhost:8080/"
        },
        "id": "1z5Vm5eSJQI-",
        "outputId": "64fb4b37-74e4-4ae9-f82f-2cc4c90ee89b"
      },
      "execution_count": null,
      "outputs": [
        {
          "output_type": "execute_result",
          "data": {
            "text/plain": [
              "array([[ 30,  24,  18],\n",
              "       [ 84,  69,  54],\n",
              "       [138, 114,  90]])"
            ]
          },
          "metadata": {},
          "execution_count": 15
        }
      ]
    },
    {
      "cell_type": "markdown",
      "source": [
        "## Divisão de matrizes\n",
        "\n",
        "Tecnicamente, a divisão de matrizes não existe. Em vez disso, é necessário multiplicar uma matriz pelo inverso da outra.\n",
        "\n",
        "Por exemplo, se tivermos duas matrizes A e B, a divisão de A por B seria escrita como A * B<sup>-1</sup>.\n",
        "\n",
        "Para calcular a divisão de matrizes, a matriz B deve ser quadrada e seu determinante deve ser diferente de zero. Caso contrário, a divisão não é possível."
      ],
      "metadata": {
        "id": "hzAgJBbvMM2E"
      }
    },
    {
      "cell_type": "markdown",
      "source": [
        "# Matriz transposta"
      ],
      "metadata": {
        "id": "la4ksCmkZvfi"
      }
    },
    {
      "cell_type": "markdown",
      "source": [
        "## Propriedades das matrizes transpostas\n",
        "\n",
        "* A transposta da transposta de uma matriz é igual à matriz original:   \n",
        "\n",
        "<div align=\"center\">\n",
        "  (A<sup>T</sup>)<sup>T</sup> = A\n",
        "</div>\n",
        "\n",
        "\n",
        "* A transposta da soma de duas matrizes é igual à soma das transpostas de cada matriz:\n",
        "\n",
        "<div align=\"center\">\n",
        "(A + B)<sup>T</sup> = A<sup>T</sup> + B<sup>T</sup>\n",
        "</div>"
      ],
      "metadata": {
        "id": "qXakAhXqPskL"
      }
    },
    {
      "cell_type": "markdown",
      "source": [
        "## Transposição de matrizes\n",
        "\n",
        "A transposição de uma matriz é uma operação que troca as linhas e colunas da matriz.   \n",
        "\n",
        "Por exemplo, se tivermos uma matriz A com dimensão m x n, a transposta de A é uma matriz B com dimensão n x m, onde 0 elemento na linha i e coluna j de B é 0 elemento na linha j e coluna i de A."
      ],
      "metadata": {
        "id": "Rcl2VH2WFM0F"
      }
    },
    {
      "cell_type": "code",
      "source": [
        "# Exibe o conteúdo do array\n",
        "matriz_B"
      ],
      "metadata": {
        "colab": {
          "base_uri": "https://localhost:8080/"
        },
        "id": "cE_HqEr-XEK0",
        "outputId": "7caceb65-fcab-4e9b-ff36-9827ba287926"
      },
      "execution_count": null,
      "outputs": [
        {
          "output_type": "execute_result",
          "data": {
            "text/plain": [
              "array([[9, 8, 7],\n",
              "       [6, 5, 4],\n",
              "       [3, 2, 1]])"
            ]
          },
          "metadata": {},
          "execution_count": 16
        }
      ]
    },
    {
      "cell_type": "code",
      "source": [
        "# Faz a transposição da matriz/array\n",
        "matriz_B.T"
      ],
      "metadata": {
        "colab": {
          "base_uri": "https://localhost:8080/"
        },
        "id": "Mv9iR0kpXHsJ",
        "outputId": "0840bd79-70f3-495a-a98f-391db23aa774"
      },
      "execution_count": null,
      "outputs": [
        {
          "output_type": "execute_result",
          "data": {
            "text/plain": [
              "array([[9, 6, 3],\n",
              "       [8, 5, 2],\n",
              "       [7, 4, 1]])"
            ]
          },
          "metadata": {},
          "execution_count": 17
        }
      ]
    },
    {
      "cell_type": "markdown",
      "source": [
        "### transpose()"
      ],
      "metadata": {
        "id": "ETg-lKa4GNaE"
      }
    },
    {
      "cell_type": "code",
      "source": [
        "# Faz a transposição da matriz/array utilizando outro método\n",
        "matriz_transposta = matriz_B.transpose()\n",
        "matriz_transposta"
      ],
      "metadata": {
        "colab": {
          "base_uri": "https://localhost:8080/"
        },
        "id": "vDM2zK7WFQHj",
        "outputId": "a9b339d3-0795-40ef-b65b-ea6832d4a06a"
      },
      "execution_count": null,
      "outputs": [
        {
          "output_type": "execute_result",
          "data": {
            "text/plain": [
              "array([[9, 6, 3],\n",
              "       [8, 5, 2],\n",
              "       [7, 4, 1]])"
            ]
          },
          "metadata": {},
          "execution_count": 18
        }
      ]
    },
    {
      "cell_type": "markdown",
      "source": [
        "# Matriz inversa\n",
        "\n",
        "A matriz inversa é uma matriz que é obtida a partir de uma **matriz quadrada** (número de linhas igual ao número de colunas) A, tal que o produto entre A e sua inversa resulta na matriz identidade. Para calcular a matriz inversa de uma matriz A, é necessário que o **determinante de A seja diferente de zero**. A representação matemática da matriz inversa de uma matriz A é A<sup>-1</sup>."
      ],
      "metadata": {
        "id": "tQK53bBTZpMs"
      }
    },
    {
      "cell_type": "markdown",
      "source": [
        "## Propriedades da matriz inversa\n",
        "\n",
        "* A inversa da inversa de uma matriz é igual à matriz original:\n",
        "\n",
        "<div align=\"center\">\n",
        "  (A<sup>-1</sup>)<sup>-1</sup> = A\n",
        "</div>\n",
        "\n",
        "* A inversa da matriz identidade é igual à matriz identidade:\n",
        "\n",
        "<div align=\"center\">\n",
        "  I<sup>-1</sup> = I\n",
        "</div>\n",
        "\n",
        "* A inversa da soma de duas matrizes é igual à soma das inversas de cada matriz:\n",
        "\n",
        "<div align=\"center\">\n",
        "(A + B)<sup>-1</sup> = A<sup>-1</sup> + B<sup>-1</sup>\n",
        "</div>\n"
      ],
      "metadata": {
        "id": "SFipN9wjbjKL"
      }
    },
    {
      "cell_type": "code",
      "source": [
        "# Cria uma matriz quadrada\n",
        "A = np.array([[1, 2, -3], [2, 1, 3], [2, 0, -1]])\n",
        "A"
      ],
      "metadata": {
        "colab": {
          "base_uri": "https://localhost:8080/"
        },
        "id": "5jhIFDf9aK77",
        "outputId": "583ca5a8-f55c-43ee-801f-b8fb8a01bff7"
      },
      "execution_count": null,
      "outputs": [
        {
          "output_type": "execute_result",
          "data": {
            "text/plain": [
              "array([[ 1,  2, -3],\n",
              "       [ 2,  1,  3],\n",
              "       [ 2,  0, -1]])"
            ]
          },
          "metadata": {},
          "execution_count": 19
        }
      ]
    },
    {
      "cell_type": "markdown",
      "source": [
        "### linalg.det()"
      ],
      "metadata": {
        "id": "wVhwB3d6g8a0"
      }
    },
    {
      "cell_type": "code",
      "source": [
        "# Calcula o determinante da matriz\n",
        "np.linalg.det(A)"
      ],
      "metadata": {
        "colab": {
          "base_uri": "https://localhost:8080/"
        },
        "id": "WZHrysx9ggmy",
        "outputId": "91c44dae-4edf-4ed3-cb75-11479e5c3ca0"
      },
      "execution_count": null,
      "outputs": [
        {
          "output_type": "execute_result",
          "data": {
            "text/plain": [
              "20.99999999999999"
            ]
          },
          "metadata": {},
          "execution_count": 20
        }
      ]
    },
    {
      "cell_type": "markdown",
      "source": [
        "### linalg.inv()"
      ],
      "metadata": {
        "id": "mKmG_EOFhCCK"
      }
    },
    {
      "cell_type": "code",
      "source": [
        "# Calcula a inverso da matriz\n",
        "A_inv = np.linalg.inv(A)\n",
        "A_inv"
      ],
      "metadata": {
        "colab": {
          "base_uri": "https://localhost:8080/"
        },
        "id": "ENgdu7oYgtx_",
        "outputId": "1fe266f6-097d-408e-e11f-2908e74b63ad"
      },
      "execution_count": null,
      "outputs": [
        {
          "output_type": "execute_result",
          "data": {
            "text/plain": [
              "array([[-0.04761905,  0.0952381 ,  0.42857143],\n",
              "       [ 0.38095238,  0.23809524, -0.42857143],\n",
              "       [-0.0952381 ,  0.19047619, -0.14285714]])"
            ]
          },
          "metadata": {},
          "execution_count": 21
        }
      ]
    },
    {
      "cell_type": "code",
      "source": [
        "# Multiplica a matriz A pela sua matriz inversa\n",
        "# Resultando na matriz identidade\n",
        "np.dot(A, A_inv)"
      ],
      "metadata": {
        "colab": {
          "base_uri": "https://localhost:8080/"
        },
        "id": "69AKAes3hUbC",
        "outputId": "0ff28506-cb4e-4bda-8c38-d5953421db0e"
      },
      "execution_count": null,
      "outputs": [
        {
          "output_type": "execute_result",
          "data": {
            "text/plain": [
              "array([[ 1.00000000e+00,  0.00000000e+00,  5.55111512e-17],\n",
              "       [ 0.00000000e+00,  1.00000000e+00, -5.55111512e-17],\n",
              "       [ 0.00000000e+00,  8.32667268e-17,  1.00000000e+00]])"
            ]
          },
          "metadata": {},
          "execution_count": 22
        }
      ]
    },
    {
      "cell_type": "markdown",
      "source": [
        "# Matriz identidade\n",
        "\n",
        "A matriz identidade é uma matriz quadrada em que os elementos da diagonal principal são iguais a 1 e os demais elementos são iguais a 0. A matriz identidade é considerada o elemento neutro da multiplicação de matrizes, ou seja, se multiplicarmos uma matriz M pela matriz identidade, encontramos como resultado a própria matriz M. A representação matemática da matriz identidade de ordem n é I<sub>n</sub>."
      ],
      "metadata": {
        "id": "J_u6z4K0if-6"
      }
    },
    {
      "cell_type": "markdown",
      "source": [
        "## Propriedades da matriz identidade\n",
        "\n",
        "* O produto entre uma matriz quadrada A e sua identidade correspondente é igual à própria matriz A:\n",
        "\n",
        "<div align=\"center\">\n",
        "  A * I<sub>n</sub> = I<sub>n</sub> * A = A\n",
        "</div>\n",
        "\n",
        "* O produto entre uma matriz quadrada A e sua matriz inversa correspondente é igual à matriz identidade:\n",
        "\n",
        "<div align=\"center\">\n",
        "  A * A<sup>-1</sup> = A<sup>-1</sup> * A = I<sub>n</sub>\n",
        "</div>\n",
        "\n",
        "* A matriz identidade é única para cada ordem n.\n"
      ],
      "metadata": {
        "id": "P8c4NWubjHo5"
      }
    },
    {
      "cell_type": "markdown",
      "source": [
        "### identety()"
      ],
      "metadata": {
        "id": "dxKAo33OlC3k"
      }
    },
    {
      "cell_type": "code",
      "source": [
        "# Cria uma matriz identidade de ordem 5, ou conforme valor informado como argumento\n",
        "np.identity(5)"
      ],
      "metadata": {
        "colab": {
          "base_uri": "https://localhost:8080/"
        },
        "id": "WG5hn4-RkraS",
        "outputId": "7fe7f40a-c63c-4229-afae-17d235c13d32"
      },
      "execution_count": null,
      "outputs": [
        {
          "output_type": "execute_result",
          "data": {
            "text/plain": [
              "array([[1., 0., 0., 0., 0.],\n",
              "       [0., 1., 0., 0., 0.],\n",
              "       [0., 0., 1., 0., 0.],\n",
              "       [0., 0., 0., 1., 0.],\n",
              "       [0., 0., 0., 0., 1.]])"
            ]
          },
          "metadata": {},
          "execution_count": 23
        }
      ]
    },
    {
      "cell_type": "markdown",
      "source": [
        "### eye()"
      ],
      "metadata": {
        "id": "IiGEhRbrlXSa"
      }
    },
    {
      "cell_type": "code",
      "source": [
        "# Cria uma matriz identidade de ordem 10, ou conforme valor informado como argumento\n",
        "np.eye(10)"
      ],
      "metadata": {
        "colab": {
          "base_uri": "https://localhost:8080/"
        },
        "id": "jYF2meb7lOk6",
        "outputId": "66e983f0-d450-4467-e9af-982c68708809"
      },
      "execution_count": null,
      "outputs": [
        {
          "output_type": "execute_result",
          "data": {
            "text/plain": [
              "array([[1., 0., 0., 0., 0., 0., 0., 0., 0., 0.],\n",
              "       [0., 1., 0., 0., 0., 0., 0., 0., 0., 0.],\n",
              "       [0., 0., 1., 0., 0., 0., 0., 0., 0., 0.],\n",
              "       [0., 0., 0., 1., 0., 0., 0., 0., 0., 0.],\n",
              "       [0., 0., 0., 0., 1., 0., 0., 0., 0., 0.],\n",
              "       [0., 0., 0., 0., 0., 1., 0., 0., 0., 0.],\n",
              "       [0., 0., 0., 0., 0., 0., 1., 0., 0., 0.],\n",
              "       [0., 0., 0., 0., 0., 0., 0., 1., 0., 0.],\n",
              "       [0., 0., 0., 0., 0., 0., 0., 0., 1., 0.],\n",
              "       [0., 0., 0., 0., 0., 0., 0., 0., 0., 1.]])"
            ]
          },
          "metadata": {},
          "execution_count": 24
        }
      ]
    },
    {
      "cell_type": "markdown",
      "source": [
        "# Determinantes\n",
        "\n",
        "Calculamos determinantes somente de matrizes quadradas, ou seja, matrizes em que a quantidade de colunas e a quantidade de linhas são iguais. Para calcular o determinante de uma matriz, precisamos analisar a ordem dela, ou seja, se ela é 1x1, 2x2, 3x3 e assim sucessivamente, quanto maior a sua ordem, mais difícil será encontrar o determinante.\n",
        "  \n",
        "* Para matrizes de ordem 1, o determinante é simplesmente o único elemento da matriz.\n",
        "* Para matrizes de ordem 2, o determinante é a diferença entre o produto dos elementos da diagonal principal e o produto dos elementos da diagonal secundária.\n",
        "* Para matrizes de ordem 3 ou superior, existem diversas técnicas para calcular o determinante, como a regra de Sarrus, o método de Laplace, entre outros.\n",
        "\n",
        "**O determinante de uma matriz quadrada é um número real** que pode obter vários significados dependendo do contexto. Seu cálculo passa por processos específicos, o determinante de uma matriz possui várias aplicações atualmente:\n",
        "\n",
        "* Utilizamos o determinante para verificar se três pontos estão alinhados no plano cartesiano.\n",
        "* Para calcular áreas de triângulos.\n",
        "* Para resolução de sistemas lineares, entre outras aplicações na matemática.\n",
        "\n",
        "O estudo de determinantes não se limita à matemática, há algumas aplicações na física, como no estudo de campos elétricos.\n",
        "\n"
      ],
      "metadata": {
        "id": "1CkPIo2s8z_z"
      }
    },
    {
      "cell_type": "code",
      "source": [
        "# Cria uma matriz quadrada\n",
        "matriz = np.array([[1, 2, -3], [2, 1, 3], [2, 0, -1]])\n",
        "matriz"
      ],
      "metadata": {
        "colab": {
          "base_uri": "https://localhost:8080/"
        },
        "id": "SZp7ijN38zcw",
        "outputId": "9df0153d-9c90-4fdd-b20c-80462bee17af"
      },
      "execution_count": null,
      "outputs": [
        {
          "output_type": "execute_result",
          "data": {
            "text/plain": [
              "array([[ 1,  2, -3],\n",
              "       [ 2,  1,  3],\n",
              "       [ 2,  0, -1]])"
            ]
          },
          "metadata": {},
          "execution_count": 25
        }
      ]
    },
    {
      "cell_type": "markdown",
      "source": [
        "## linalg.det()"
      ],
      "metadata": {
        "id": "iWmN9Wu79Kd2"
      }
    },
    {
      "cell_type": "code",
      "source": [
        "# Calcula o determinante de uma matriz quadrada\n",
        "np.linalg.det(matriz)"
      ],
      "metadata": {
        "colab": {
          "base_uri": "https://localhost:8080/"
        },
        "id": "pBioCtO69MYX",
        "outputId": "49cb5416-b3f0-4f28-b75f-1d91de6b42e3"
      },
      "execution_count": null,
      "outputs": [
        {
          "output_type": "execute_result",
          "data": {
            "text/plain": [
              "20.99999999999999"
            ]
          },
          "metadata": {},
          "execution_count": 26
        }
      ]
    },
    {
      "cell_type": "markdown",
      "source": [
        "# Matriz random"
      ],
      "metadata": {
        "id": "5d24U8Hn-LJp"
      }
    },
    {
      "cell_type": "code",
      "source": [
        "# Cria uma matriz com número aleatórios/randômicos\n",
        "# randint, define como números inteiros, de 0 a 10, na ordem/tamanho 4x4\n",
        "A = np.random.randint(0, 10, size=(4, 4))\n",
        "A"
      ],
      "metadata": {
        "colab": {
          "base_uri": "https://localhost:8080/"
        },
        "id": "vHTHemQJ-SDE",
        "outputId": "07f4989f-02af-4c7f-fff5-740d3189ff90"
      },
      "execution_count": null,
      "outputs": [
        {
          "output_type": "execute_result",
          "data": {
            "text/plain": [
              "array([[5, 9, 1, 4],\n",
              "       [7, 4, 3, 8],\n",
              "       [2, 8, 1, 0],\n",
              "       [7, 3, 4, 6]])"
            ]
          },
          "metadata": {},
          "execution_count": 27
        }
      ]
    },
    {
      "cell_type": "code",
      "source": [
        "# Calcula o determinante de uma matriz quadrada\n",
        "np.linalg.det(A)"
      ],
      "metadata": {
        "colab": {
          "base_uri": "https://localhost:8080/"
        },
        "id": "xzwBux7Q_a7I",
        "outputId": "69307032-4322-4846-ceca-8b1227e59544"
      },
      "execution_count": null,
      "outputs": [
        {
          "output_type": "execute_result",
          "data": {
            "text/plain": [
              "125.99999999999989"
            ]
          },
          "metadata": {},
          "execution_count": 28
        }
      ]
    },
    {
      "cell_type": "markdown",
      "source": [
        "# Sistemas lineares\n",
        "\n",
        "Um sistema linear é um conjunto de duas ou mais equações com uma ou mais incógnitas.\n",
        "\n",
        "<div align=\"center\">\n",
        "  ax = b\n",
        "</div>\n",
        "\n",
        "Sistemas lineares são conjuntos de equações lineares que envolvem várias variáveis, juntamente com a tarefa de encontrar valores para essas variáveis que satisfaçam todas as equações simultaneamente.\n",
        "\n",
        "Eles podem ser resolvidos por meio de diferentes métodos, como o método da **adição**, **igualdade** ou **substituição** para sistemas que possuem duas equações e duas incógnitas.\n",
        "\n",
        "A regra de **Crammer** e o **escalonamento**, que resolvem sistemas lineares de duas equações, mas que são mais convenientes para sistemas com mais de duas equações.\n",
        "\n",
        "A forma matricial de um sistema linear é uma representação matemática que utiliza matrizes para simplificar a resolução de sistemas de equações lineares.\n",
        "\n",
        "Para transformar um sistema linear em sua forma matricial, basta escrever os coeficientes das variáveis em uma matriz e os termos independentes em outra matriz:\n",
        "\n",
        "* A matriz dos coeficientes é chamada de matriz dos coeficientes.\n",
        "* A matriz das variáveis é chamada de matriz das variáveis.\n",
        "* A matriz dos termos independentes é chamada de matriz dos termos independentes.\n",
        "\n",
        "A solução do sistema pode ser encontrada por meio da inversão da matriz dos coeficientes e da multiplicação da matriz inversa pela matriz dos termos independentes.\n",
        "\n",
        "<div align=\"center\">\n",
        "  ax = a<sup>-1</sup> * b\n",
        "</div>\n"
      ],
      "metadata": {
        "id": "Gi-PRzVpAKMP"
      }
    },
    {
      "cell_type": "markdown",
      "source": [
        "## Solução 1\n"
      ],
      "metadata": {
        "id": "GCsyJP8RHjBZ"
      }
    },
    {
      "cell_type": "code",
      "source": [
        "# Cria uma matriz randômica\n",
        "A = np.random.randint(0, 10, size=(3, 3))\n",
        "B = np.random.randint(0, 10, size=(3, 1))"
      ],
      "metadata": {
        "id": "HtAxtsnnFYS0"
      },
      "execution_count": null,
      "outputs": []
    },
    {
      "cell_type": "code",
      "source": [
        "# Exibe a matriz\n",
        "A"
      ],
      "metadata": {
        "colab": {
          "base_uri": "https://localhost:8080/"
        },
        "id": "42jVvX_6Fvb1",
        "outputId": "bc481ba6-3bf0-4303-9a10-3a71f0f6df99"
      },
      "execution_count": null,
      "outputs": [
        {
          "output_type": "execute_result",
          "data": {
            "text/plain": [
              "array([[4, 3, 1],\n",
              "       [7, 8, 5],\n",
              "       [9, 3, 4]])"
            ]
          },
          "metadata": {},
          "execution_count": 30
        }
      ]
    },
    {
      "cell_type": "code",
      "source": [
        "# Exibe o vetor\n",
        "B"
      ],
      "metadata": {
        "colab": {
          "base_uri": "https://localhost:8080/"
        },
        "id": "GU0e9f_nFyu_",
        "outputId": "340659ba-befa-4b5f-be66-f62a71666555"
      },
      "execution_count": null,
      "outputs": [
        {
          "output_type": "execute_result",
          "data": {
            "text/plain": [
              "array([[9],\n",
              "       [5],\n",
              "       [4]])"
            ]
          },
          "metadata": {},
          "execution_count": 31
        }
      ]
    },
    {
      "cell_type": "code",
      "source": [
        "# Calcula a matriz inversar\n",
        "A_inv = np.linalg.inv(A)\n",
        "A_inv"
      ],
      "metadata": {
        "colab": {
          "base_uri": "https://localhost:8080/"
        },
        "id": "-xs9c4kdDyGO",
        "outputId": "1d373d9b-cc3c-48ff-9a89-226466f21c2b"
      },
      "execution_count": null,
      "outputs": [
        {
          "output_type": "execute_result",
          "data": {
            "text/plain": [
              "array([[ 0.25      , -0.13235294,  0.10294118],\n",
              "       [ 0.25      ,  0.10294118, -0.19117647],\n",
              "       [-0.75      ,  0.22058824,  0.16176471]])"
            ]
          },
          "metadata": {},
          "execution_count": 32
        }
      ]
    },
    {
      "cell_type": "code",
      "source": [
        "# Multiplica a matrize para calcular o sistema de equações lineares\n",
        "x = np.dot(A_inv, B)"
      ],
      "metadata": {
        "id": "CD2mscXgD_CQ"
      },
      "execution_count": null,
      "outputs": []
    },
    {
      "cell_type": "markdown",
      "source": [
        "## Solução 2"
      ],
      "metadata": {
        "id": "I2WBND5eHqXK"
      }
    },
    {
      "cell_type": "markdown",
      "source": [
        "### solve()"
      ],
      "metadata": {
        "id": "fn6FypBcH3k0"
      }
    },
    {
      "cell_type": "code",
      "source": [
        "# Calcula o sistema de equações lineares utilizando o método solve()\n",
        "np.linalg.solve(A, B)"
      ],
      "metadata": {
        "colab": {
          "base_uri": "https://localhost:8080/"
        },
        "id": "gwBPTfaKHrZW",
        "outputId": "e1b95975-2d84-4c15-b1a1-5442b723854d"
      },
      "execution_count": null,
      "outputs": [
        {
          "output_type": "execute_result",
          "data": {
            "text/plain": [
              "array([[ 2.],\n",
              "       [ 2.],\n",
              "       [-5.]])"
            ]
          },
          "metadata": {},
          "execution_count": 34
        }
      ]
    },
    {
      "cell_type": "markdown",
      "source": [
        "# Transformação linear\n",
        "\n",
        "Uma transformação linear é uma função entre dois espaços vetoriais que preserva as operações de adição de vetores e de multiplicação de um vetor por um escalar.\n",
        "\n",
        "Em outras palavras, sejam U e V dois espaços vetoriais, uma função T : U → V é uma transformação linear se preservar as duas propriedades:\n",
        "\n",
        "<div align=\"center\">\n",
        "  T(U) + T(V) = (U+V)\n",
        "</div>\n",
        "\n",
        "Características de um vetor:\n",
        "* Módulo\n",
        "* Direção\n",
        "* Sentido\n",
        "\n",
        "\n",
        "\n"
      ],
      "metadata": {
        "id": "1lXzTRirRt9m"
      }
    },
    {
      "cell_type": "code",
      "source": [
        "'''\n",
        "Este código cria um gráfico de um vetor (2, 2) com diferentes pontos de origem.\n",
        "O vetor é plotado em verde e os pontos de origem são plotados em preto.\n",
        "'''\n",
        "# Define um vetor (2, 2)\n",
        "vector = [2, 2]\n",
        "\n",
        "# Define a orgiem do vetor\n",
        "origins = [(0, 1), (0, 1), (0, 0), (0, 2)]\n",
        "\n",
        "# Extrai x e y das cordenada de origem\n",
        "origins_x = [origin[0] for origin in origins]\n",
        "origins_y = [origin[1] for origin in origins]\n",
        "\n",
        "# Plota um vetor (2, 2)\n",
        "plt.figure()\n",
        "plt.quiver(origins_x, origins_y, [vector[0]]*len(origins_x), [vector[1]]*len(origins_y), angles='xy', scale_units='xy', scale=1, color='g')\n",
        "\n",
        "# Configurações adicionais do gráfico\n",
        "plt.xlim(-1, 5)\n",
        "plt.ylim(-2, 5)\n",
        "plt.xlabel('x')\n",
        "plt.ylabel('y')\n",
        "plt.axhline(0, color='black', linewidth=0.5)\n",
        "plt.axvline(0, color='black', linewidth=0.5)\n",
        "plt.grid(color='gray', linestyle='', linewidth=0.5)\n",
        "plt.gca().set_aspect('equal', adjustable='box')\n",
        "plt.title(\"A vector with different origin points\")\n",
        "\n",
        "# Exibindo o gráfico\n",
        "plt.show()"
      ],
      "metadata": {
        "colab": {
          "base_uri": "https://localhost:8080/",
          "height": 472
        },
        "id": "rx58uQJZRxsz",
        "outputId": "dc77f47d-ed1b-4edb-dc2e-2360397fcb5a"
      },
      "execution_count": null,
      "outputs": [
        {
          "output_type": "display_data",
          "data": {
            "text/plain": [
              "<Figure size 640x480 with 1 Axes>"
            ],
            "image/png": "[encoded data removed]"
          },
          "metadata": {}
        }
      ]
    },
    {
      "cell_type": "markdown",
      "source": [
        "# Base canônica\n",
        "\n",
        "A base canônica, frequentemente referida como base padrão, é uma coleção de vetores que são usados como base para o espaço vetorial. Esses vetores são escolhidos de modo que cada vetor na base tenha uma componente não nula apenas em uma única dimensão, e todas as outras componentes são zero.\n",
        "\n",
        "Para um espaço tridimensional, a base canónica é composta por três vetores:  \n",
        "  i: Vetor unitário ao longo do eixo x (1, O, O).  \n",
        "  j: Vetor unitário ao longo do eixo y (O, 1, O).  \n",
        "  k: Vetor unitário ao longo do eixo z (0, 0, 1).  \n",
        "\n",
        "Esses vetores formam uma base para o espaço tridimensional, o que significa que qualquer vetor neste espaço pode ser representado como uma combinação linear desses vetores.\n",
        "\n",
        "Para um espaço bidimensional, a base canónica é composta por dois vetores:  \n",
        "  i: Vetor unitário ao longo do eixo x (1, O).  \n",
        "  j: Vetor unitário ao longo do eixo y (O, 1).  \n"
      ],
      "metadata": {
        "id": "tBuXNmCOaV4J"
      }
    },
    {
      "cell_type": "code",
      "source": [
        "'''\n",
        "Este código cria um gráfico que representa a base canônica no plano cartesiano.\n",
        "A base canônica é composta por dois vetores unitários, um no eixo x e outro no eixo y.\n",
        "O vetor no eixo x é representado pela cor vermelha e o vetor no eixo y é representado pela cor azul.\n",
        "'''\n",
        "import matplotlib.pyplot as plt\n",
        "\n",
        "# Definindo o vetor na base canônica\n",
        "vetor_x = [1, 0]\n",
        "\n",
        "# Vetor unitário ao longo do eixo x\n",
        "vetor_y = [0, 1]\n",
        "\n",
        "# Plotando o vetor na base canônica\n",
        "plt.figure()\n",
        "plt.quiver(0, 0, vetor_x[0], vetor_x[1], angles='xy', scale_units='xy', scale=1, color='r', label='eixo x')\n",
        "plt.quiver(0, 0, vetor_y[0], vetor_y[1], angles='xy', scale_units='xy', scale=1, color='b', label='eixo y')\n",
        "\n",
        "# Configurações adicionais do gráfico\n",
        "plt.xlim(-1, 1)\n",
        "plt.ylim(-1, 1)\n",
        "plt.xlabel('x')\n",
        "plt.ylabel('y')\n",
        "plt.axhline(0, color='black', linewidth=0.5)\n",
        "plt.axvline(0, color='black', linewidth=0.5)\n",
        "plt.grid(color='gray', linestyle='--', linewidth=0.5)\n",
        "plt.gca().set_aspect('equal', adjustable='box')\n",
        "plt.legend()\n",
        "plt.title(\"Base Canonica\")\n",
        "\n",
        "# Exibindo o gráfico\n",
        "plt.show()"
      ],
      "metadata": {
        "colab": {
          "base_uri": "https://localhost:8080/",
          "height": 472
        },
        "id": "IFyWIKnLafOP",
        "outputId": "96aa1c00-5ee2-48d0-ddb8-404f92dd4ef5"
      },
      "execution_count": null,
      "outputs": [
        {
          "output_type": "display_data",
          "data": {
            "text/plain": [
              "<Figure size 640x480 with 1 Axes>"
            ],
            "image/png": "[encoded data removed]"
          },
          "metadata": {}
        }
      ]
    },
    {
      "cell_type": "code",
      "source": [
        "'''\n",
        "Este código cria um gráfico que representa a base canônica no plano cartesiano.\n",
        "A base canônica é composta por dois vetores unitários, um no eixo x e outro no eixo y.\n",
        "O vetor no eixo x é representado pela cor vermelha, o vetor no eixo y é representado pela cor azul e o vetor (4,3) é representado pela cor verde.\n",
        "'''\n",
        "import matplotlib.pyplot as plt\n",
        "\n",
        "# Definindo o vetor na base canônica\n",
        "vetor_x = [1, 0]  # Vetor unitário ao longo do eixo x\n",
        "vetor_y = [0, 1]  # Vetor unitário ao longo do eixo y\n",
        "\n",
        "# Plotando os vetores na base canônica\n",
        "plt.figure()\n",
        "plt.quiver(0, 0, vetor_x[0], vetor_x[1], angles='xy', scale_units='xy', scale=1, color='r', label='Vetor no eixo x')\n",
        "plt.quiver(0, 0, vetor_y[0], vetor_y[1], angles='xy', scale_units='xy', scale=1, color='b', label='Vetor no eixo y')\n",
        "\n",
        "# Adicionando o vetor (4,3)\n",
        "plt.quiver(0, 0, 4, 3, angles='xy', scale_units='xy', scale=1, color='g', label='(4,3)')\n",
        "\n",
        "# Configurações adicionais do gráfico\n",
        "plt.xlim(-1, 5)\n",
        "plt.ylim(-1, 5)\n",
        "plt.xlabel('x')\n",
        "plt.ylabel('y')\n",
        "plt.axhline(0, color='black', linewidth=0.5)\n",
        "plt.axvline(0, color='black', linewidth=0.5)\n",
        "plt.grid(color='gray', linestyle='', linewidth = 0.5)\n",
        "plt.gca().set_aspect('equal', adjustable='box')\n",
        "plt.legend()\n",
        "plt.title(\"Base Canonica com Vetor (4,3)\")\n",
        "\n",
        "# Exibindo o gráfico\n",
        "plt.show()"
      ],
      "metadata": {
        "colab": {
          "base_uri": "https://localhost:8080/",
          "height": 472
        },
        "id": "H3RERiBpcjbP",
        "outputId": "114cc1f0-9ac7-48af-8078-26f98d46e715"
      },
      "execution_count": null,
      "outputs": [
        {
          "output_type": "display_data",
          "data": {
            "text/plain": [
              "<Figure size 640x480 with 1 Axes>"
            ],
            "image/png": "[encoded data removed]"
          },
          "metadata": {}
        }
      ]
    },
    {
      "cell_type": "markdown",
      "source": [
        "## Rotação\n",
        "Rotaciona o vetor em torno da origem do sistema de coordenadas."
      ],
      "metadata": {
        "id": "kZxQkeLu0wfR"
      }
    },
    {
      "cell_type": "code",
      "source": [
        "# Define o vetor original\n",
        "v = np.array([[1], [1]])\n",
        "\n",
        "# Define e cria a matriz de rotação\n",
        "theta = np.pi / 4 # Ângilo de rotação em radianos\n",
        "R = np.array([[np.cos(theta), -np.sin(theta)],\n",
        "              [np.sin(theta), np.cos(theta)]])\n",
        "\n",
        "# Aplica a rotação ao vetor, multiplicando as matrizes\n",
        "v_rotado = np.dot(R, v)\n",
        "\n",
        "v_rotado"
      ],
      "metadata": {
        "colab": {
          "base_uri": "https://localhost:8080/"
        },
        "id": "SpbGTcS3rnQZ",
        "outputId": "bf521942-3eed-431f-8aec-97f8ba9d3cc0"
      },
      "execution_count": null,
      "outputs": [
        {
          "output_type": "execute_result",
          "data": {
            "text/plain": [
              "array([[1.11022302e-16],\n",
              "       [1.41421356e+00]])"
            ]
          },
          "metadata": {},
          "execution_count": 38
        }
      ]
    },
    {
      "cell_type": "markdown",
      "source": [
        "## Escalonamento\n",
        "\n",
        "Aumenta ou diminui o tamanho do vetor."
      ],
      "metadata": {
        "id": "QcBNAUIE05l0"
      }
    },
    {
      "cell_type": "code",
      "source": [
        "# Cria a matriz de escalonamento\n",
        "S = np.array([[2, 0],\n",
        "              [0, 0.5]])\n",
        "\n",
        "# Realiza o escalonamento\n",
        "v_escalonado = np.dot(S, v)\n",
        "\n",
        "v_escalonado"
      ],
      "metadata": {
        "colab": {
          "base_uri": "https://localhost:8080/"
        },
        "id": "hh7BiKeGtjIJ",
        "outputId": "e088fa65-4c82-49a6-f134-3e8573c8240b"
      },
      "execution_count": null,
      "outputs": [
        {
          "output_type": "execute_result",
          "data": {
            "text/plain": [
              "array([[2. ],\n",
              "       [0.5]])"
            ]
          },
          "metadata": {},
          "execution_count": 39
        }
      ]
    },
    {
      "cell_type": "markdown",
      "source": [
        "## Reflexão\n",
        "\n",
        "Reflete o vetar em torno de um eixo."
      ],
      "metadata": {
        "id": "3Q4FCtCL0_Pi"
      }
    },
    {
      "cell_type": "code",
      "source": [
        "# Cria a matriz de reflexão\n",
        "F = np.array([[1, 0],\n",
        "              [0, -1]])\n",
        "\n",
        "# Realiza a reflexão\n",
        "v_refletido = np.dot(F, v)\n",
        "\n",
        "v_refletido"
      ],
      "metadata": {
        "colab": {
          "base_uri": "https://localhost:8080/"
        },
        "id": "2FYoR5dZtl-c",
        "outputId": "5104ce98-354f-4c45-ce3c-5cc8a099e18d"
      },
      "execution_count": null,
      "outputs": [
        {
          "output_type": "execute_result",
          "data": {
            "text/plain": [
              "array([[ 1],\n",
              "       [-1]])"
            ]
          },
          "metadata": {},
          "execution_count": 40
        }
      ]
    },
    {
      "cell_type": "markdown",
      "source": [
        "## Cisalhamento\n",
        "\n",
        "Desloca o vetor ao longo de uma direção enquanto mantém a outra direção constante."
      ],
      "metadata": {
        "id": "mkNJXpGt1D_c"
      }
    },
    {
      "cell_type": "code",
      "source": [
        "# Cria a matriz de cisalhamento\n",
        "H = np.array([[1, 0.5],\n",
        "              [0, 1]])\n",
        "\n",
        "# Realiza o cisalhamento\n",
        "v_cisalhado = np.dot(H, v)\n",
        "\n",
        "v_cisalhado"
      ],
      "metadata": {
        "colab": {
          "base_uri": "https://localhost:8080/"
        },
        "id": "LfZj6b65uqQG",
        "outputId": "64dbfb6d-38dc-41cc-8b67-03379e146626"
      },
      "execution_count": null,
      "outputs": [
        {
          "output_type": "execute_result",
          "data": {
            "text/plain": [
              "array([[1.5],\n",
              "       [1. ]])"
            ]
          },
          "metadata": {},
          "execution_count": 41
        }
      ]
    },
    {
      "cell_type": "code",
      "source": [
        "# Define o vetor original\n",
        "v = np.array([1, 1])\n",
        "\n",
        "# Define as transformações\n",
        "transformations = [\n",
        "    (\"Rotação\", np.array([[np.cos(np.pi/4), -np.sin(np.pi/4)],\n",
        "                          [np.sin(np.pi/4), np.cos(np.pi/4)]])),\n",
        "    (\"Escalonamento\", np.array([[2, 0],\n",
        "                                [0, 0.5]])),\n",
        "    (\"Reflexão\", np.array([[1, 0],\n",
        "                           [0, -1]])),\n",
        "    (\"Cisalhamento\", np.array([[1, 0.5],\n",
        "                               [0, 1]]))\n",
        "]\n",
        "\n",
        "for i, (name, T) in enumerate(transformations, start=1):\n",
        "  plt.subplot(2, 2, i)\n",
        "  plt.title(name)\n",
        "  transformed_v = np.dot(T, v)\n",
        "  plt.quiver([0, 0], [0, 0], [v[0], transformed_v[0]], [v[1], transformed_v[1]], angles='xy', scale_units='xy', scale=1, color='b') # Vetor original\n",
        "  plt.quiver(0, 0, transformed_v[0], transformed_v[1], angles='xy', scale_units='xy', scale=1, color='r') # Vetor transformado\n",
        "  plt.xlim(-2, 3)\n",
        "  plt.ylim(-2, 3)\n",
        "  plt.grid(True)\n",
        "\n",
        "plt.tight_layout()\n",
        "plt.show()"
      ],
      "metadata": {
        "colab": {
          "base_uri": "https://localhost:8080/",
          "height": 486
        },
        "id": "Ca9w0BTvvt0R",
        "outputId": "2374edbd-0a33-4f99-a8a8-fc7f1394700f"
      },
      "execution_count": null,
      "outputs": [
        {
          "output_type": "display_data",
          "data": {
            "text/plain": [
              "<Figure size 640x480 with 4 Axes>"
            ],
            "image/png": "[encoded data removed]"
          },
          "metadata": {}
        }
      ]
    },
    {
      "cell_type": "markdown",
      "source": [
        "# Autovalor e autovetor"
      ],
      "metadata": {
        "id": "fEvuQOLW8eHX"
      }
    },
    {
      "cell_type": "code",
      "source": [
        "# Cria um matriz\n",
        "A = np.array([[6, -1],\n",
        "              [2, 3]])\n",
        "\n",
        "# Calcula os autovalores e autovetores\n",
        "autovalores, autovetores = np.linalg.eig(A)\n",
        "\n",
        "# Imprimi os autovalores\n",
        "print(\"Autovalores:\")\n",
        "print(autovalores)\n",
        "\n",
        "# Imprimi os autovetores\n",
        "print(\"\\nAutovetores:\")\n",
        "print(autovetores)\n",
        "\n",
        "# Cria a matriz diagonal com os autovalores\n",
        "matriz_diagonal = np.diag(autovalores)\n",
        "\n",
        "# Imprimi a matriz diagonal\n",
        "print(\"\\nMatriz diagonal:\\n\", matriz_diagonal)"
      ],
      "metadata": {
        "colab": {
          "base_uri": "https://localhost:8080/"
        },
        "id": "IxXYKx6sciMF",
        "outputId": "08a86123-9ba0-4bb9-934d-96efc4823433"
      },
      "execution_count": null,
      "outputs": [
        {
          "output_type": "stream",
          "name": "stdout",
          "text": [
            "Autovalores:\n",
            "[5. 4.]\n",
            "\n",
            "Autovetores:\n",
            "[[0.70710678 0.4472136 ]\n",
            " [0.70710678 0.89442719]]\n",
            "\n",
            "Matriz diagonal:\n",
            " [[5. 0.]\n",
            " [0. 4.]]\n"
          ]
        }
      ]
    },
    {
      "cell_type": "markdown",
      "source": [
        "# Produto escalar\n",
        "\n",
        "É uma valor resultante do produto entre dois vetores.\n",
        "\n",
        "Representação:\n",
        "<div align=\"center\">\n",
        "  a . b\n",
        "</div>\n",
        "\n",
        "Se o produto escalar de dois vetores for igual a 0, então o tetha, será igual ao ânglo de 90°."
      ],
      "metadata": {
        "id": "7D8VuG23FJJ5"
      }
    },
    {
      "cell_type": "code",
      "source": [
        "# Cria dos vetores\n",
        "w = np.array([1, 1])\n",
        "t = np.array([1, -1])"
      ],
      "metadata": {
        "id": "nVl-FxdgFgCo"
      },
      "execution_count": null,
      "outputs": []
    },
    {
      "cell_type": "code",
      "source": [
        "# Calcula o produto de dois vetores, que é o produto escalar\n",
        "np.dot(w, t)"
      ],
      "metadata": {
        "id": "jfAe9beQqUJJ",
        "colab": {
          "base_uri": "https://localhost:8080/"
        },
        "outputId": "6b18d215-4272-49a1-99c4-8678838d0d8c"
      },
      "execution_count": null,
      "outputs": [
        {
          "output_type": "execute_result",
          "data": {
            "text/plain": [
              "0"
            ]
          },
          "metadata": {},
          "execution_count": 45
        }
      ]
    },
    {
      "cell_type": "code",
      "source": [
        "# Base canônica\n",
        "e1 = np.array([1, 0])\n",
        "e2 = np.array([0, 1])\n",
        "\n",
        "# Componentes dos vetores\n",
        "v1, v2 = (1, 3)\n",
        "w1, w2 = (2, -1)\n",
        "\n",
        "# Vetores expandidos na base canônica\n",
        "v = v1*e1 + v2*e2\n",
        "w = w1*e1 + w2*e2\n",
        "\n",
        "# Produto escalar\n",
        "vv = np.dot(v1, v2)\n",
        "ww = np.dot(w1, w2)\n",
        "\n",
        "# Produto escalar, diretamente\n",
        "produto_escalar = (v*w).sum()\n",
        "\n",
        "print(\"Produto escalar entre v1 e v2 na base canônica:\", vv)\n",
        "print(\"Produto escalar entre w1 e w2 na base canônica:\", ww)\n",
        "print(\"Produto escalar diretamente:\", produto_escalar)"
      ],
      "metadata": {
        "colab": {
          "base_uri": "https://localhost:8080/"
        },
        "id": "f5FcSLmhHPO2",
        "outputId": "330fec75-cbc2-4ae4-aba2-464bfbb5f3ff"
      },
      "execution_count": null,
      "outputs": [
        {
          "output_type": "stream",
          "name": "stdout",
          "text": [
            "Produto escalar entre v1 e v2 na base canônica: 3\n",
            "Produto escalar entre w1 e w2 na base canônica: -2\n",
            "Produto escalar diretamente: -1\n"
          ]
        }
      ]
    },
    {
      "cell_type": "markdown",
      "source": [
        "## linalg.norm(), arccos() e degrees()\n"
      ],
      "metadata": {
        "id": "ZCpssZAPMV8L"
      }
    },
    {
      "cell_type": "code",
      "source": [
        "# Base canônica\n",
        "e1 = np.array([1, 0])\n",
        "e2 = np.array([0, 1])\n",
        "\n",
        "# Componentes dos vetores\n",
        "v1, v2 = (4, 6)\n",
        "w1, w2 = (3, 6)\n",
        "\n",
        "# Vetores expandidos na base canônica\n",
        "v = v1*e1 + v2*e2\n",
        "w = w1*e1 + w2*e2\n",
        "\n",
        "# Calcula a norma dos vetores\n",
        "norm_v = np.linalg.norm(v)\n",
        "norm_w = np.linalg.norm(w)\n",
        "\n",
        "# Calcula o produto escalar\n",
        "v_dot_w = np.dot(v, w)\n",
        "\n",
        "# Calcula o ângulo entre os vetores\n",
        "theta = np.arccos(v_dot_w / (norm_v * norm_w))\n",
        "\n",
        "# Converte ângulo para graus\n",
        "theta_graus = np.degrees(theta)\n",
        "\n",
        "# Imprime dos resultados\n",
        "print(f\"Produto escalar entre v1 e v2 na base canônica: {v_dot_w:.2f}\")\n",
        "print(f\"Norma do vetor v: {norm_v:.2f}\")\n",
        "print(f\"Norma do vetor w: {norm_w:.2f}\")\n",
        "print(f\"Ângulo entre os vetores em radianos: {theta:.2f} rad\")\n",
        "print(f\"Ângulo entre os vetores em graus: {theta_graus:.2f}°\")"
      ],
      "metadata": {
        "colab": {
          "base_uri": "https://localhost:8080/"
        },
        "id": "Xu4ypbtWLTfF",
        "outputId": "5d9761fb-1fb0-43af-bb8b-bfd93262d8d8"
      },
      "execution_count": null,
      "outputs": [
        {
          "output_type": "stream",
          "name": "stdout",
          "text": [
            "Produto escalar entre v1 e v2 na base canônica: 48.00\n",
            "Norma do vetor v: 7.21\n",
            "Norma do vetor w: 6.71\n",
            "Ângulo entre os vetores em radianos: 0.12 rad\n",
            "Ângulo entre os vetores em graus: 7.13°\n"
          ]
        }
      ]
    },
    {
      "cell_type": "markdown",
      "source": [
        "# Produto vetorial\n",
        "\n",
        "É uma vetor resultante do produto entre dois vetores, ortagonal (ângulo de 90°) a ambos, com direção definida pela **regra da mão direta**, e norma igual à área do paralelogramo gerado pelos vetores.\n",
        "\n",
        "Representação:\n",
        "<div align=\"center\">\n",
        "  a x b <br>  \n",
        "  a ^ b\n",
        "</div>"
      ],
      "metadata": {
        "id": "H8BrGjfCNeyK"
      }
    },
    {
      "cell_type": "code",
      "source": [
        "# Componentes dos vetores\n",
        "a = np.array([1, 2, 3])\n",
        "b = np.array([3, 2, 1])\n",
        "\n",
        "# Calcula o produto vetorial normalizado\n",
        "np.cross(a, b)/np.linalg.norm(np.cross(a, b))"
      ],
      "metadata": {
        "colab": {
          "base_uri": "https://localhost:8080/"
        },
        "id": "137sLMdsNhpq",
        "outputId": "61a760cf-05eb-4565-82b7-ffab635ae9c1"
      },
      "execution_count": null,
      "outputs": [
        {
          "output_type": "execute_result",
          "data": {
            "text/plain": [
              "array([-0.40824829,  0.81649658, -0.40824829])"
            ]
          },
          "metadata": {},
          "execution_count": 51
        }
      ]
    },
    {
      "cell_type": "markdown",
      "source": [
        "# Produto misto e volume\n",
        "\n",
        "Representação:\n",
        "<div align=\"center\">\n",
        "  volume = | c . (a x b) |\n",
        "</div>\n",
        "\n",
        "O volume de um paralelepípedo é definido como produto entre área de sua base e altura."
      ],
      "metadata": {
        "id": "4VQoVG4S5JNk"
      }
    },
    {
      "cell_type": "code",
      "source": [
        "# Componentes dos vetores\n",
        "a = (1, 2, 6)\n",
        "b = (5, 2, 1)\n",
        "c = (2, 2, 10)\n",
        "\n",
        "# Calcula o produto vetorial\n",
        "np.cross(a, b)"
      ],
      "metadata": {
        "colab": {
          "base_uri": "https://localhost:8080/"
        },
        "id": "OCRc8e7vTwAO",
        "outputId": "1ea8c45f-8653-48bd-de91-b786b483d1a6"
      },
      "execution_count": null,
      "outputs": [
        {
          "output_type": "execute_result",
          "data": {
            "text/plain": [
              "array([-10,  29,  -8])"
            ]
          },
          "metadata": {},
          "execution_count": 58
        }
      ]
    },
    {
      "cell_type": "markdown",
      "source": [
        "### abs()\n",
        "\n",
        "Para transformar em valor em positivo, pois não há volume negativo."
      ],
      "metadata": {
        "id": "66WawD6190FH"
      }
    },
    {
      "cell_type": "markdown",
      "source": [
        "## Solução 1"
      ],
      "metadata": {
        "id": "QEjnPPT68Yxq"
      }
    },
    {
      "cell_type": "code",
      "source": [
        "# Calcula o produto misto, que é o volume\n",
        "np.abs(np.dot(c, np.cross(a, b)))"
      ],
      "metadata": {
        "colab": {
          "base_uri": "https://localhost:8080/"
        },
        "id": "b1HBOz-f80-x",
        "outputId": "18c8e2f9-65d7-4ae8-a7bc-565351d1a9a7"
      },
      "execution_count": null,
      "outputs": [
        {
          "output_type": "execute_result",
          "data": {
            "text/plain": [
              "42"
            ]
          },
          "metadata": {},
          "execution_count": 54
        }
      ]
    },
    {
      "cell_type": "markdown",
      "source": [
        "## Solução 2"
      ],
      "metadata": {
        "id": "3qySf0hV9wDD"
      }
    },
    {
      "cell_type": "code",
      "source": [
        "# Calcula o produto misto, que é o volume\n",
        "np.abs(np.linalg.det(np.array([a, b, c])))"
      ],
      "metadata": {
        "colab": {
          "base_uri": "https://localhost:8080/"
        },
        "id": "OkQXqIOs9PLV",
        "outputId": "c0b02e5c-cf39-4edd-8e24-fcd2f8460603"
      },
      "execution_count": null,
      "outputs": [
        {
          "output_type": "execute_result",
          "data": {
            "text/plain": [
              "41.999999999999986"
            ]
          },
          "metadata": {},
          "execution_count": 55
        }
      ]
    }
  ]
}