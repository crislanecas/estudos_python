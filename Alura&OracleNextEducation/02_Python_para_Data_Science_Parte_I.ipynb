{
  "nbformat": 4,
  "nbformat_minor": 0,
  "metadata": {
    "colab": {
      "provenance": [],
      "toc_visible": true,
      "include_colab_link": true
    },
    "kernelspec": {
      "name": "python3",
      "display_name": "Python 3"
    }
  },
  "cells": [
    {
      "cell_type": "markdown",
      "metadata": {
        "id": "view-in-github",
        "colab_type": "text"
      },
      "source": [
        "<a href=\"https://colab.research.google.com/github/crislanecas/estudos_python/blob/main/Alura%26OracleNextEducation/02_Python_para_Data_Science_Parte_I.ipynb\" target=\"_parent\"><img src=\"https://colab.research.google.com/assets/colab-badge.svg\" alt=\"Open In Colab\"/></a>"
      ]
    },
    {
      "cell_type": "markdown",
      "metadata": {
        "id": "qykoO5OSy07O"
      },
      "source": [
        "# Lógica de programação com Python\n",
        "\n",
        " Python é uma linguagem de programação de alto nível. As linguagens de alto nível são mais parecidas ou semelhantes com as linguagens humanas.\n",
        "\n",
        " É possível armazenar informações na memória do computador através de variáveis."
      ]
    },
    {
      "cell_type": "code",
      "metadata": {
        "id": "XybiIX36yqTn",
        "outputId": "a9a224bc-f8b8-42e7-c2c8-7b22e91a837e",
        "colab": {
          "base_uri": "https://localhost:8080/",
          "height": 34
        }
      },
      "source": [
        "# Operação matemática, soma.\n",
        "1+1"
      ],
      "execution_count": null,
      "outputs": [
        {
          "output_type": "execute_result",
          "data": {
            "text/plain": [
              "2"
            ]
          },
          "metadata": {
            "tags": []
          },
          "execution_count": 87
        }
      ]
    },
    {
      "cell_type": "code",
      "metadata": {
        "id": "8r6_2YWBy3Y0"
      },
      "source": [
        "# Guilherme\n",
        "# NameError: name 'Guilherme' is not defined"
      ],
      "execution_count": null,
      "outputs": []
    },
    {
      "cell_type": "code",
      "metadata": {
        "id": "5mV1IySTzXBS",
        "outputId": "2d4e5668-4cd7-4c0d-8c40-09d21140ea2a",
        "colab": {
          "base_uri": "https://localhost:8080/",
          "height": 34
        }
      },
      "source": [
        "# Define uma string.\n",
        "\"Guilherme\""
      ],
      "execution_count": null,
      "outputs": [
        {
          "output_type": "execute_result",
          "data": {
            "text/plain": [
              "'Guilherme'"
            ]
          },
          "metadata": {
            "tags": []
          },
          "execution_count": 89
        }
      ]
    },
    {
      "cell_type": "code",
      "metadata": {
        "id": "hsmmu-SozlFU",
        "outputId": "a35cb411-08a9-4072-adce-8d166de888eb",
        "colab": {
          "base_uri": "https://localhost:8080/",
          "height": 34
        }
      },
      "source": [
        "# Define uma string.\n",
        "'Guilherme'"
      ],
      "execution_count": null,
      "outputs": [
        {
          "output_type": "execute_result",
          "data": {
            "text/plain": [
              "'Guilherme'"
            ]
          },
          "metadata": {
            "tags": []
          },
          "execution_count": 90
        }
      ]
    },
    {
      "cell_type": "code",
      "metadata": {
        "id": "8OltymtfznJ-"
      },
      "source": [
        "# Define uma variável para receber um valor string.\n",
        "nome = 'Guilherme'"
      ],
      "execution_count": null,
      "outputs": []
    },
    {
      "cell_type": "code",
      "metadata": {
        "id": "Jcomfwmv0L2S",
        "outputId": "ba6223b1-51bb-4bcd-a2bc-7438883dd267",
        "colab": {
          "base_uri": "https://localhost:8080/",
          "height": 34
        }
      },
      "source": [
        "# Mostra contido na variável.\n",
        "nome"
      ],
      "execution_count": null,
      "outputs": [
        {
          "output_type": "execute_result",
          "data": {
            "text/plain": [
              "'Guilherme'"
            ]
          },
          "metadata": {
            "tags": []
          },
          "execution_count": 92
        }
      ]
    },
    {
      "cell_type": "code",
      "metadata": {
        "id": "f7DCdMBq0M_x",
        "outputId": "20f7f428-99e0-4a6b-b78d-1c655e6e4256",
        "colab": {
          "base_uri": "https://localhost:8080/",
          "height": 34
        }
      },
      "source": [
        "# Define uma variável para receber o valor númerico.\n",
        "idade = 28\n",
        "idade"
      ],
      "execution_count": null,
      "outputs": [
        {
          "output_type": "execute_result",
          "data": {
            "text/plain": [
              "28"
            ]
          },
          "metadata": {
            "tags": []
          },
          "execution_count": 93
        }
      ]
    },
    {
      "cell_type": "code",
      "metadata": {
        "id": "ZXmObjc50Qe8",
        "outputId": "793bdc5f-c7ad-4f26-fbaa-f50029647635",
        "colab": {
          "base_uri": "https://localhost:8080/",
          "height": 34
        }
      },
      "source": [
        "# Exibe as informações entre parênteses formatadas para melhorar a compreensão.\n",
        "print(f'O nome é {nome} e sua idade é {idade} anos.')"
      ],
      "execution_count": null,
      "outputs": [
        {
          "output_type": "stream",
          "text": [
            "O nome é Guilherme e sua idade é 28 anos.\n"
          ],
          "name": "stdout"
        }
      ]
    },
    {
      "cell_type": "code",
      "metadata": {
        "id": "M_7Prhz80j9y"
      },
      "source": [
        "# Atribui um novo valor a variável idade.\n",
        "idade = 29"
      ],
      "execution_count": null,
      "outputs": []
    },
    {
      "cell_type": "code",
      "metadata": {
        "id": "C0jbYDJB08yx",
        "outputId": "cf63d7f5-cea8-4f94-b8c1-63f3828e51c3",
        "colab": {
          "base_uri": "https://localhost:8080/",
          "height": 34
        }
      },
      "source": [
        "# Exibe as informações entre parênteses atualizadas e formatadas para melhorar a compreensão.\n",
        "print(f'O nome é {nome} e sua idade é {idade} anos.')"
      ],
      "execution_count": null,
      "outputs": [
        {
          "output_type": "stream",
          "text": [
            "O nome é Guilherme e sua idade é 29 anos.\n"
          ],
          "name": "stdout"
        }
      ]
    },
    {
      "cell_type": "markdown",
      "metadata": {
        "id": "LSAekw7l_OiS"
      },
      "source": [
        "# Criando minha primeira função\n",
        "\n",
        " Vimos também que o Python traz algumas funções embutidas ou built-in. Além disso, é possível criar nossas próprias funções.\n",
        "\n",
        " Funções em Python são blocos de código que executarão algum tipo de tarefa ou manipulação de dados, podendo ou não receber: dados de entrada (parâmetros)."
      ]
    },
    {
      "cell_type": "code",
      "metadata": {
        "id": "436zJkir_SjS"
      },
      "source": [
        "# Cria uma função pernsonalizada.\n",
        "def saudacao():\n",
        "  nome = input('Qual é o seu nome? ')\n",
        "  print(f'Olá {nome}')"
      ],
      "execution_count": null,
      "outputs": []
    },
    {
      "cell_type": "code",
      "metadata": {
        "id": "3fijU6z5AVxi",
        "outputId": "c133c8e5-5c99-4572-f8db-cb6d32217f28",
        "colab": {
          "base_uri": "https://localhost:8080/",
          "height": 50
        }
      },
      "source": [
        "# Executa a função cirada acima.\n",
        "saudacao()"
      ],
      "execution_count": null,
      "outputs": [
        {
          "output_type": "stream",
          "text": [
            "Qual é o seu nome? Gui\n",
            "Olá Gui\n"
          ],
          "name": "stdout"
        }
      ]
    },
    {
      "cell_type": "markdown",
      "source": [
        "## Exercício - Função nome completo\n",
        "\n",
        "No Python existem funções embutidas chamadas de funções built-in, como por exemplo, a função print() que usamos.\n",
        "\n",
        "É possível criar funções para realizar uma determinada tarefa, como ilustra o código abaixo:"
      ],
      "metadata": {
        "id": "c7lbpvlP_09L"
      }
    },
    {
      "cell_type": "code",
      "source": [
        "# Cria uma nova função para concatenar nome e sobrenome.\n",
        "def nome_completo():\n",
        " primeiro_nome = input('Qual seu primeiro nome? ')\n",
        " sobrenome = input('Qual seu sobrenome? ')\n",
        " nome_inteiro = primeiro_nome + ' ' + sobrenome\n",
        " print(nome_inteiro)\n",
        "\n",
        "# Executa a função criada acima.\n",
        "nome_completo()"
      ],
      "metadata": {
        "colab": {
          "base_uri": "https://localhost:8080/"
        },
        "id": "okr-Yk5DUyaA",
        "outputId": "689f0bc1-4aa1-49d1-8782-d17a140e82ef"
      },
      "execution_count": null,
      "outputs": [
        {
          "output_type": "stream",
          "name": "stdout",
          "text": [
            "Qual seu primeiro nome? Maria\n",
            "Qual seu sobrenome? Solida\n",
            "Maria Solida\n"
          ]
        }
      ]
    },
    {
      "cell_type": "code",
      "source": [
        "# Resolução.\n",
        "# No Python, ao utilizar o operador soma entre palavras, concatenamos (ou juntamos) seu conteúdo.\n",
        "# O valor do nome será armazenado na variável primeiro_nome e o valor do sobrenome na variável sobrenome."
      ],
      "metadata": {
        "id": "ytTJGxSzVCFn"
      },
      "execution_count": null,
      "outputs": []
    },
    {
      "cell_type": "markdown",
      "source": [
        "## Exercício - Indo até a padaria\n",
        "\n",
        "Uma pessoa vai até a padaria todos os dias. A distância de sua casa até o estabelecimento é de 100 metros e todo percurso é feito em 20 segundos.\n",
        "\n",
        "Para calcular a velocidade média e descobrir a razão do espaço pelo tempo, podemos dividir o espaço percorrido pelo tempo.\n",
        "\n",
        "Sabendo disso, a pessoa deseja criar uma função chamada velocidade, que recebe 2 parâmetros chamados espaco e tempo, realizar o cálculo e exibir uma saída semelhante ao exemplo abaixo:\n",
        "\n",
        "Velocidade: 5 m/s"
      ],
      "metadata": {
        "id": "MHYQqHNyY2QJ"
      }
    },
    {
      "cell_type": "code",
      "source": [
        "# Resolução.\n",
        "# Cria a função conforme exemplificado acima.\n",
        "def velocidade(espaco, tempo):\n",
        " v = espaco / tempo\n",
        " print(f'Velocidade: {v} m/s')\n",
        "\n",
        "# Executa a função criada acima.\n",
        "velocidade(100, 20)"
      ],
      "metadata": {
        "colab": {
          "base_uri": "https://localhost:8080/"
        },
        "id": "a3tAweFWZBeQ",
        "outputId": "139bb7e8-a8bd-4cba-81d5-fd1375058750"
      },
      "execution_count": null,
      "outputs": [
        {
          "output_type": "stream",
          "name": "stdout",
          "text": [
            "Velocidade: 5.0 m/s\n"
          ]
        }
      ]
    },
    {
      "cell_type": "markdown",
      "metadata": {
        "id": "YqgJLV6plKGn"
      },
      "source": [
        "# Parâmetros"
      ]
    },
    {
      "cell_type": "code",
      "metadata": {
        "id": "WZ0S7TIzlL3Y"
      },
      "source": [
        "# Atribui um novo valor a váriavel nome.\n",
        "nome = 'João'"
      ],
      "execution_count": null,
      "outputs": []
    },
    {
      "cell_type": "code",
      "metadata": {
        "id": "1I8q3czSlRfR"
      },
      "source": [
        "# Cria uma nova função e passa como parâmetro a variável especificada entre parênteses.\n",
        "def saudacao_com_parametros(nome_da_pessoa):\n",
        "  print(f'Olá {nome_da_pessoa}')"
      ],
      "execution_count": null,
      "outputs": []
    },
    {
      "cell_type": "code",
      "metadata": {
        "id": "e3Gc170WlSsu",
        "outputId": "d8570f1a-2a48-4957-fcd8-af1da4410901",
        "colab": {
          "base_uri": "https://localhost:8080/",
          "height": 34
        }
      },
      "source": [
        "# Executa a função criada acima com o parâmetro especificado entre parênteses.\n",
        "saudacao_com_parametros(nome)"
      ],
      "execution_count": null,
      "outputs": [
        {
          "output_type": "stream",
          "text": [
            "Olá João\n"
          ],
          "name": "stdout"
        }
      ]
    },
    {
      "cell_type": "markdown",
      "metadata": {
        "id": "z6vzg4CJm-Jt"
      },
      "source": [
        "# Condicional"
      ]
    },
    {
      "cell_type": "code",
      "metadata": {
        "id": "d-FD9ckim5Pb",
        "outputId": "f6a2a381-99c9-4c16-9085-420388f748c5",
        "colab": {
          "base_uri": "https://localhost:8080/",
          "height": 34
        }
      },
      "source": [
        "# Atribui um novo valor para a variável idade.\n",
        "idade = 10\n",
        "\n",
        "# Cria uma nova função, condicional com if e else.\n",
        "def verifica_se_pode_dirigir(idade):\n",
        "  if idade >= 18:\n",
        "    print('Tem permissão para dirigir')\n",
        "  else:\n",
        "    print('Não tem permissão para dirigir')\n",
        "\n",
        "# Executa a função criada acima.\n",
        "verifica_se_pode_dirigir(idade)"
      ],
      "execution_count": null,
      "outputs": [
        {
          "output_type": "stream",
          "text": [
            "Não tem permissão para dirigir\n"
          ],
          "name": "stdout"
        }
      ]
    },
    {
      "cell_type": "markdown",
      "metadata": {
        "id": "ZZch3gSDpM-n"
      },
      "source": [
        "# Convertendo tipo para inteiro"
      ]
    },
    {
      "cell_type": "code",
      "metadata": {
        "id": "NthmkdmFneUO",
        "outputId": "837c594a-afe5-4fba-bf8e-63a874da7196",
        "colab": {
          "base_uri": "https://localhost:8080/",
          "height": 50
        }
      },
      "source": [
        "# Cria uma nova função, que recebe um valor de input(), e verifica conforme condicional if e else.\n",
        "def verifica_se_pode_dirigir_sem_parametros():\n",
        "  idade = input('Qual sua idade? ')\n",
        "  idade = int(idade) # Convert o valor recebido como string para inteiro.\n",
        "  if idade >= 18:\n",
        "    print('Tem permissão para dirigir')\n",
        "  else:\n",
        "    print('Não tem permissão para dirigir')\n",
        "\n",
        "# Executa a função criada acima.\n",
        "verifica_se_pode_dirigir_sem_parametros()"
      ],
      "execution_count": null,
      "outputs": [
        {
          "output_type": "stream",
          "text": [
            "Qual sua idade? 18\n",
            "Tem permissão para dirigir\n"
          ],
          "name": "stdout"
        }
      ]
    },
    {
      "cell_type": "markdown",
      "source": [
        "## Exercício - Habilitação\n",
        "\n",
        "Uma pessoa criou a seguinte função para descobrir quantos anos faltam para tirar habilitação, caso não tenha a idade permitida. Caso tenha, uma mensagem informa que pode tirar habilitação:"
      ],
      "metadata": {
        "id": "2a3oVVypaAiV"
      }
    },
    {
      "cell_type": "code",
      "source": [
        "# Resolução.\n",
        "# Cria uma nova função, que recebe um valor de input(), e verifica conforme condicional if e else.\n",
        "def habilitacao():\n",
        " idade = input('Qual sua idade? ')\n",
        " idade = int(idade) # Convert o valor recebido como string para inteiro.\n",
        " if idade >= 18:\n",
        "   print('Pode tirar habilitação')\n",
        " else:\n",
        "   tempo = 18 - idade\n",
        "   print(f'Calma... espere {tempo} ano(s) para tirar habilitação')\n",
        "\n",
        "# Executa a função criada acima.\n",
        "habilitacao()"
      ],
      "metadata": {
        "colab": {
          "base_uri": "https://localhost:8080/"
        },
        "id": "ahVN-yIjaGLz",
        "outputId": "a31917c7-5745-48bf-c420-8f9f2b48e95e"
      },
      "execution_count": null,
      "outputs": [
        {
          "output_type": "stream",
          "name": "stdout",
          "text": [
            "Qual sua idade? 16\n",
            "Calma... espere 2 ano(s) para tirar habilitação\n"
          ]
        }
      ]
    },
    {
      "cell_type": "markdown",
      "metadata": {
        "id": "dsoF5WyLsohy"
      },
      "source": [
        "# Lista\n",
        "\n",
        "Um conjunto de parâmetros consiste em uma lista com nenhum ou mais elementos. Porém é possível uma lista com um único parâmetro."
      ]
    },
    {
      "cell_type": "code",
      "metadata": {
        "id": "Qx5n3YADsgcT",
        "outputId": "d065253b-e380-4fd7-c142-d29c7221ac39",
        "colab": {
          "base_uri": "https://localhost:8080/",
          "height": 34
        }
      },
      "source": [
        "# Atribui um valor para a variável.\n",
        "idade = 22\n",
        "idade"
      ],
      "execution_count": null,
      "outputs": [
        {
          "output_type": "execute_result",
          "data": {
            "text/plain": [
              "22"
            ]
          },
          "metadata": {
            "tags": []
          },
          "execution_count": 109
        }
      ]
    },
    {
      "cell_type": "code",
      "metadata": {
        "id": "oI5JFDMfslqv",
        "outputId": "fab03f90-cc3f-4e3a-9e48-afb713e47d39",
        "colab": {
          "base_uri": "https://localhost:8080/",
          "height": 34
        }
      },
      "source": [
        "# Verifica o tipo de dado está armazenado na variável.\n",
        "type(idade)"
      ],
      "execution_count": null,
      "outputs": [
        {
          "output_type": "execute_result",
          "data": {
            "text/plain": [
              "int"
            ]
          },
          "metadata": {
            "tags": []
          },
          "execution_count": 110
        }
      ]
    },
    {
      "cell_type": "code",
      "metadata": {
        "id": "SjqnFUrosvhc",
        "outputId": "3d232523-ae40-4705-9dd8-58aac353be63",
        "colab": {
          "base_uri": "https://localhost:8080/",
          "height": 34
        }
      },
      "source": [
        "# Atribui um valor para a variável.\n",
        "nome = 'Guilherme'\n",
        "# Verifica o tipo de dado está armazenado na variável.\n",
        "type(nome)"
      ],
      "execution_count": null,
      "outputs": [
        {
          "output_type": "execute_result",
          "data": {
            "text/plain": [
              "str"
            ]
          },
          "metadata": {
            "tags": []
          },
          "execution_count": 111
        }
      ]
    },
    {
      "cell_type": "code",
      "metadata": {
        "id": "wl3ZUnJ0s0Rd",
        "outputId": "308c4ccb-fb91-4085-b579-1dc12c3d2010",
        "colab": {
          "base_uri": "https://localhost:8080/",
          "height": 34
        }
      },
      "source": [
        "# Atribui uma lista de valores para variável.\n",
        "idades = [18, 22, 15, 50]\n",
        "# Verifica o tipo de dado está armazenado na variável.\n",
        "type(idades)"
      ],
      "execution_count": null,
      "outputs": [
        {
          "output_type": "execute_result",
          "data": {
            "text/plain": [
              "list"
            ]
          },
          "metadata": {
            "tags": []
          },
          "execution_count": 112
        }
      ]
    },
    {
      "cell_type": "code",
      "metadata": {
        "id": "kSNAw_wys_hI",
        "outputId": "a96c0c49-64cd-49cf-ee16-f9ec7cecddc8",
        "colab": {
          "base_uri": "https://localhost:8080/",
          "height": 34
        }
      },
      "source": [
        "# Seleciona na lista criada acima o item na posição 2, contando a partir de 0.\n",
        "idades[2]"
      ],
      "execution_count": null,
      "outputs": [
        {
          "output_type": "execute_result",
          "data": {
            "text/plain": [
              "15"
            ]
          },
          "metadata": {
            "tags": []
          },
          "execution_count": 113
        }
      ]
    },
    {
      "cell_type": "code",
      "metadata": {
        "id": "f-BXWd7vtEH-"
      },
      "source": [
        "idades = [18, 22, 15, 50]\n",
        "#         0   1   2   3  Seleciona a partir início da lista.\n",
        "#         0  -3  -2  -1  Seleciona a partir do final da lista."
      ],
      "execution_count": null,
      "outputs": []
    },
    {
      "cell_type": "code",
      "metadata": {
        "id": "MD374lZntOF7",
        "outputId": "bbc75f3c-32b3-407b-c59e-fc71a1ff3039",
        "colab": {
          "base_uri": "https://localhost:8080/",
          "height": 34
        }
      },
      "source": [
        "# Seleciona o item na posição 1.\n",
        "idades[1]"
      ],
      "execution_count": null,
      "outputs": [
        {
          "output_type": "execute_result",
          "data": {
            "text/plain": [
              "22"
            ]
          },
          "metadata": {
            "tags": []
          },
          "execution_count": 115
        }
      ]
    },
    {
      "cell_type": "code",
      "metadata": {
        "id": "TnvEOFuLtQND",
        "outputId": "1a270fdd-5d6f-4e2d-9496-97f828245e4f",
        "colab": {
          "base_uri": "https://localhost:8080/",
          "height": 34
        }
      },
      "source": [
        "# Selecionas os itens de 0 a 3, sendo o último item exclusivo na exibição.\n",
        "idades[0:3]"
      ],
      "execution_count": null,
      "outputs": [
        {
          "output_type": "execute_result",
          "data": {
            "text/plain": [
              "[18, 22, 15]"
            ]
          },
          "metadata": {
            "tags": []
          },
          "execution_count": 116
        }
      ]
    },
    {
      "cell_type": "code",
      "metadata": {
        "id": "xUxdyF5EtYsi",
        "outputId": "d1ac90b8-4811-4dca-f8ae-637febacdb11",
        "colab": {
          "base_uri": "https://localhost:8080/",
          "height": 34
        }
      },
      "source": [
        "# Selecionas os itens de 1 até o último item da lista.\n",
        "idades[1:]"
      ],
      "execution_count": null,
      "outputs": [
        {
          "output_type": "execute_result",
          "data": {
            "text/plain": [
              "[22, 15, 50]"
            ]
          },
          "metadata": {
            "tags": []
          },
          "execution_count": 117
        }
      ]
    },
    {
      "cell_type": "code",
      "metadata": {
        "id": "EXlsN5qstm2G",
        "outputId": "28bde832-d9a4-46de-da76-c5effd69cceb",
        "colab": {
          "base_uri": "https://localhost:8080/",
          "height": 34
        }
      },
      "source": [
        "# Seleciona a partir do último item da lista.\n",
        "idades[-1]"
      ],
      "execution_count": null,
      "outputs": [
        {
          "output_type": "execute_result",
          "data": {
            "text/plain": [
              "50"
            ]
          },
          "metadata": {
            "tags": []
          },
          "execution_count": 118
        }
      ]
    },
    {
      "cell_type": "code",
      "metadata": {
        "id": "KHatm1-8tsGh",
        "outputId": "5c588f28-032c-4501-9d3e-6051943cfeb3",
        "colab": {
          "base_uri": "https://localhost:8080/",
          "height": 34
        }
      },
      "source": [
        "# Seleciona a partir do último item da lista.\n",
        "idades[-2]"
      ],
      "execution_count": null,
      "outputs": [
        {
          "output_type": "execute_result",
          "data": {
            "text/plain": [
              "15"
            ]
          },
          "metadata": {
            "tags": []
          },
          "execution_count": 119
        }
      ]
    },
    {
      "cell_type": "markdown",
      "source": [
        "## Exercício - Slogan da Alura\n",
        "\n",
        "A plataforma da Alura possui diversos cursos de tecnologia e negócios. Podemos afirmar que a plataforma possui:\n",
        "\n",
        "Cursos de Tecnologia e Negócios Digitais\n",
        "\n",
        "Sabendo disso observe o código abaixo com todas as palavras em uma lista fora de ordem.\n",
        "\n",
        "Selecione na lista os itens na ordem para exibe o slogan de forma correta."
      ],
      "metadata": {
        "id": "hyHNvZLGiU7Y"
      }
    },
    {
      "cell_type": "code",
      "source": [
        "frase_alura = [' Digitais', 'e ', 'Negócios ', 'de ', 'Tecnologia ', 'Cursos ']"
      ],
      "metadata": {
        "id": "7vy9NCRHicVU"
      },
      "execution_count": null,
      "outputs": []
    },
    {
      "cell_type": "code",
      "source": [
        "# Resolução.\n",
        "frase_alura[-1] + frase_alura[3] + frase_alura[-2] + frase_alura[1] + frase_alura[2] + frase_alura[0]"
      ],
      "metadata": {
        "colab": {
          "base_uri": "https://localhost:8080/",
          "height": 36
        },
        "id": "gxKUp1Jei7yI",
        "outputId": "d47b4a91-cd58-4344-a7bc-3f0f345c2887"
      },
      "execution_count": null,
      "outputs": [
        {
          "output_type": "execute_result",
          "data": {
            "text/plain": [
              "'Cursos de Tecnologia e Negócios  Digitais'"
            ],
            "application/vnd.google.colaboratory.intrinsic+json": {
              "type": "string"
            }
          },
          "metadata": {},
          "execution_count": 5
        }
      ]
    },
    {
      "cell_type": "markdown",
      "source": [
        "## Exercício - Listas no Python\n",
        "\n",
        "Uma lista é representada como uma sequência de objetos separados por vírgula e dentro de colchetes []. No Python, uma lista pode armazenar elementos de diferentes tipos, como ilustra o código abaixo:"
      ],
      "metadata": {
        "id": "rSioqW--masI"
      }
    },
    {
      "cell_type": "code",
      "source": [
        "lista = ['int', False, True, '18', 2020]"
      ],
      "metadata": {
        "id": "5Fwx_c2jmlbq"
      },
      "execution_count": null,
      "outputs": []
    },
    {
      "cell_type": "markdown",
      "source": [
        "Para descobrir o tipo de cada elemento, podemos criar um loop, como mostra o código abaixo:"
      ],
      "metadata": {
        "id": "AdQ4p9hBmr3r"
      }
    },
    {
      "cell_type": "code",
      "source": [
        "for elemento in lista:\n",
        " print(type(elemento))"
      ],
      "metadata": {
        "colab": {
          "base_uri": "https://localhost:8080/"
        },
        "id": "XJfkNaQxmsqd",
        "outputId": "9684c085-9501-46df-b1cf-d5bf2d4bcf49"
      },
      "execution_count": null,
      "outputs": [
        {
          "output_type": "stream",
          "name": "stdout",
          "text": [
            "<class 'str'>\n",
            "<class 'bool'>\n",
            "<class 'bool'>\n",
            "<class 'str'>\n",
            "<class 'int'>\n"
          ]
        }
      ]
    },
    {
      "cell_type": "markdown",
      "metadata": {
        "id": "A4ole1EvwvVL"
      },
      "source": [
        "# Laços e loops"
      ]
    },
    {
      "cell_type": "code",
      "metadata": {
        "id": "koCXWIJPt2UP",
        "outputId": "d3337591-0ba7-4950-abba-215452c2afec",
        "colab": {
          "base_uri": "https://localhost:8080/",
          "height": 34
        }
      },
      "source": [
        "# Exibe os itens da lista contida na variável idade.\n",
        "idades"
      ],
      "execution_count": null,
      "outputs": [
        {
          "output_type": "execute_result",
          "data": {
            "text/plain": [
              "[18, 22, 15, 50]"
            ]
          },
          "metadata": {
            "tags": []
          },
          "execution_count": 121
        }
      ]
    },
    {
      "cell_type": "code",
      "metadata": {
        "id": "m6OT6-c3wpyM",
        "outputId": "3e2a3242-ca3c-4ccb-ab44-b9c1c6eaae0d",
        "colab": {
          "base_uri": "https://localhost:8080/",
          "height": 84
        }
      },
      "source": [
        "# Cria uma função para verificar as idades.\n",
        "def verifica_se_pode_dirigir(idade):\n",
        "  if idade >= 18:\n",
        "    print(f'{idade} anos de idade, TEM permissão para dirigir')\n",
        "  else:\n",
        "    print(f'{idade} anos de idade, NÃO TEM permissão para dirigir')\n",
        "\n",
        "# Executa um laço/loop para percorre todos os itens da lista e executa a função para cada um deles.\n",
        "for idade in idades:\n",
        "  verifica_se_pode_dirigir(idade)"
      ],
      "execution_count": null,
      "outputs": [
        {
          "output_type": "stream",
          "text": [
            "18 anos de idade, TEM permissão para dirigir\n",
            "22 anos de idade, TEM permissão para dirigir\n",
            "15 anos de idade, NÃO TEM permissão para dirigir\n",
            "50 anos de idade, TEM permissão para dirigir\n"
          ],
          "name": "stdout"
        }
      ]
    },
    {
      "cell_type": "code",
      "metadata": {
        "id": "7C6NLsnaxap-",
        "outputId": "b96f244d-329a-4d19-aedb-a8105e9518ec",
        "colab": {
          "base_uri": "https://localhost:8080/",
          "height": 84
        }
      },
      "source": [
        "# Cria uma função para percorrer e verificar a lista com as idades.\n",
        "def verifica_se_pode_dirigir(idades):\n",
        "  for idade in idades:\n",
        "    if idade >= 18:\n",
        "      print(f'{idade} anos de idade, TEM permissão para dirigir')\n",
        "    else:\n",
        "      print(f'{idade} anos de idade, NÃO TEM permissão para dirigir')\n",
        "\n",
        "# Executa a função criada acima.\n",
        "verifica_se_pode_dirigir(idades)"
      ],
      "execution_count": null,
      "outputs": [
        {
          "output_type": "stream",
          "text": [
            "18 anos de idade, TEM permissão para dirigir\n",
            "22 anos de idade, TEM permissão para dirigir\n",
            "15 anos de idade, NÃO TEM permissão para dirigir\n",
            "50 anos de idade, TEM permissão para dirigir\n"
          ],
          "name": "stdout"
        }
      ]
    },
    {
      "cell_type": "markdown",
      "source": [
        "## Exercício - Qual valor de a?\n",
        "\n",
        "A condicional if é uma estrutura condicional que executa um trecho de código, caso a afirmação seja verdadeira. Se for falsa, executa as afirmações dentro de else.\n",
        "\n",
        "Sabendo disso, observe o seguinte código:"
      ],
      "metadata": {
        "id": "hXYVzLK-jNVP"
      }
    },
    {
      "cell_type": "code",
      "source": [
        "# Resolução.\n",
        "a=2\n",
        "\n",
        "if a < 2: # Na primeira condição, 2 não é maior que 2 e a condição else será executada somando 2 a variável, resultando em 4.\n",
        " a = a + 1\n",
        "else:\n",
        " a = a + 2\n",
        "if a < 4: # Em seguida, a condição if verifica se 4 é menor que 4, o que não é verdade. 4 é igual a 4.\n",
        " a = a - 4\n",
        "else: # Sendo assim a condição else será executada somando 6 na variável, resultando no valor 10.\n",
        " a = a + 6\n",
        "\n",
        "a"
      ],
      "metadata": {
        "colab": {
          "base_uri": "https://localhost:8080/"
        },
        "id": "8JJDpI3TjUv_",
        "outputId": "7503f3ce-3938-4150-9d68-9111aa672890"
      },
      "execution_count": null,
      "outputs": [
        {
          "output_type": "execute_result",
          "data": {
            "text/plain": [
              "10"
            ]
          },
          "metadata": {},
          "execution_count": 6
        }
      ]
    },
    {
      "cell_type": "markdown",
      "metadata": {
        "id": "rsUr7whmzWhY"
      },
      "source": [
        "# Boleano"
      ]
    },
    {
      "cell_type": "code",
      "metadata": {
        "id": "8T8wJ28tzQpq",
        "outputId": "38e5b165-5223-4211-c25a-027e31624ae3",
        "colab": {
          "base_uri": "https://localhost:8080/",
          "height": 34
        }
      },
      "source": [
        "idade = 18 # Atribui um novo valor para idade.\n",
        "idade >= 18 # Verifica se o valor contido em idade é maior ou igual a 18."
      ],
      "execution_count": null,
      "outputs": [
        {
          "output_type": "execute_result",
          "data": {
            "text/plain": [
              "True"
            ]
          },
          "metadata": {
            "tags": []
          },
          "execution_count": 128
        }
      ]
    },
    {
      "cell_type": "code",
      "metadata": {
        "id": "Fsax-52ozf_V",
        "outputId": "3440a8a1-8363-4f05-ac53-9de75ace3830",
        "colab": {
          "base_uri": "https://localhost:8080/",
          "height": 34
        }
      },
      "source": [
        "idade = 15 # Atribui um novo valor para idade.\n",
        "idade >= 18 # Verifica se o valor contido em idade é maior ou igual a 18."
      ],
      "execution_count": null,
      "outputs": [
        {
          "output_type": "execute_result",
          "data": {
            "text/plain": [
              "False"
            ]
          },
          "metadata": {
            "tags": []
          },
          "execution_count": 129
        }
      ]
    },
    {
      "cell_type": "code",
      "metadata": {
        "id": "5TrL0hmkzjhF"
      },
      "source": [
        "# Cria uma lista vazia, para armazenar valores.\n",
        "permissoes = []\n",
        "# Cria uma lista com idades.\n",
        "idades = [20, 14, 40]\n",
        "\n",
        "# Cria uma função para verificar a lista idades e sendo verdadeiro ou falso adiciona os valores a lista permissoes.\n",
        "def verifica_se_pode_dirigir(idades, permissoes):\n",
        "  for idade in idades:\n",
        "    if idade >= 18:\n",
        "      permissoes.append(True) # Adiciona o valor definido como parâmetro a lista.\n",
        "    else:\n",
        "      permissoes.append(False) # Adiciona o valor definido como parâmetro a lista.\n",
        "\n",
        "# Executa a função.\n",
        "verifica_se_pode_dirigir(idades, permissoes)"
      ],
      "execution_count": null,
      "outputs": []
    },
    {
      "cell_type": "code",
      "metadata": {
        "id": "MXqN-zxf0UmK",
        "outputId": "f959051e-6a1d-479a-a682-62260998ffe9",
        "colab": {
          "base_uri": "https://localhost:8080/",
          "height": 34
        }
      },
      "source": [
        "# Exibe os valores contidos na lista.\n",
        "permissoes"
      ],
      "execution_count": null,
      "outputs": [
        {
          "output_type": "execute_result",
          "data": {
            "text/plain": [
              "[True, False, True]"
            ]
          },
          "metadata": {
            "tags": []
          },
          "execution_count": 131
        }
      ]
    },
    {
      "cell_type": "code",
      "metadata": {
        "id": "SDv5J8qx0Wet",
        "outputId": "702c1df9-3976-4129-beb8-d98afdcbe79c",
        "colab": {
          "base_uri": "https://localhost:8080/",
          "height": 67
        }
      },
      "source": [
        "# Executa um laço/loop para percorrer todos os valores na lista permissoes e verificar se é verdadeiro.\n",
        "for permissao in permissoes:\n",
        "  if permissao == True: # Verifica se o valor é igual.\n",
        "    print('Tem permissão para dirigir')\n",
        "  else:\n",
        "    print('Não tem permissão para dirigir')"
      ],
      "execution_count": null,
      "outputs": [
        {
          "output_type": "stream",
          "text": [
            "Tem permissão para dirigir\n",
            "Não tem permissão para dirigir\n",
            "Tem permissão para dirigir\n"
          ],
          "name": "stdout"
        }
      ]
    },
    {
      "cell_type": "markdown",
      "metadata": {
        "id": "vdOrSJjHfyUS"
      },
      "source": [
        "# Tipos em uma lista"
      ]
    },
    {
      "cell_type": "code",
      "metadata": {
        "id": "d3OZM-F80189",
        "outputId": "994e5104-9071-4fa2-89e3-d6ba50d41521",
        "colab": {
          "base_uri": "https://localhost:8080/",
          "height": 84
        }
      },
      "source": [
        "# Cria uma lista com elementos de tipos variádos.\n",
        "lista = ['Guilherme', 28, True, '18']\n",
        "\n",
        "# Executa um laço/loop que percorre a lista e verifica o tipo de elemento com a função type().\n",
        "for elemento in lista:\n",
        "  print(f'O elemento {elemento} é do tipo: ', type(elemento)) # Exibe o reultado."
      ],
      "execution_count": null,
      "outputs": [
        {
          "output_type": "stream",
          "text": [
            "O elemento Guilherme é do tipo:  <class 'str'>\n",
            "O elemento 28 é do tipo:  <class 'int'>\n",
            "O elemento True é do tipo:  <class 'bool'>\n",
            "O elemento 18 é do tipo:  <class 'str'>\n"
          ],
          "name": "stdout"
        }
      ]
    },
    {
      "cell_type": "markdown",
      "metadata": {
        "id": "RrNcy3X-xVIh"
      },
      "source": [
        "# Import\n",
        "\n",
        "É possível importar libs ou módulos incorporando em nossa aplicação, possibilitando utilizar códigos para resolver nossos problemas."
      ]
    },
    {
      "cell_type": "code",
      "metadata": {
        "id": "cTevC2tGwiZ_"
      },
      "source": [
        "# Importa do pacote random o módulo/método randrange e seed.\n",
        "from random import randrange, seed"
      ],
      "execution_count": null,
      "outputs": []
    },
    {
      "cell_type": "code",
      "metadata": {
        "id": "j6Z8PYfuyXsc"
      },
      "source": [
        "# Define o número inicial e sempre obter os mesmos valores na sequência.\n",
        "seed(11)"
      ],
      "execution_count": null,
      "outputs": []
    },
    {
      "cell_type": "code",
      "metadata": {
        "id": "jCa-0X4YxhIC",
        "outputId": "e744b62a-4cf4-4ccc-d4ce-ec08fa43fdc5",
        "colab": {
          "base_uri": "https://localhost:8080/",
          "height": 34
        }
      },
      "source": [
        "# Gera pseudo números aleatórios, que recebe como parâmetro a faixa de valores de início e o fim.\n",
        "randrange(0,11)"
      ],
      "execution_count": null,
      "outputs": [
        {
          "output_type": "execute_result",
          "data": {
            "text/plain": [
              "7"
            ]
          },
          "metadata": {
            "tags": []
          },
          "execution_count": 26
        }
      ]
    },
    {
      "cell_type": "code",
      "source": [
        "# Verifica o tipo.\n",
        "type(randrange)"
      ],
      "metadata": {
        "colab": {
          "base_uri": "https://localhost:8080/"
        },
        "id": "yCBq2sCZpNQH",
        "outputId": "340b6795-c01b-477c-9c9c-692707295dc4"
      },
      "execution_count": null,
      "outputs": [
        {
          "output_type": "execute_result",
          "data": {
            "text/plain": [
              "method"
            ]
          },
          "metadata": {},
          "execution_count": 11
        }
      ]
    },
    {
      "cell_type": "code",
      "metadata": {
        "id": "7dTMwODmxwzj",
        "outputId": "7ca75ac8-1887-4716-aea7-3096b471dee2",
        "colab": {
          "base_uri": "https://localhost:8080/",
          "height": 34
        }
      },
      "source": [
        "# Cria uma lista vazia para armazenas as notas que serão gerada de forma aleatória.\n",
        "notas_matematica = []\n",
        "\n",
        "# Executa um laço que irar os valores aleatórios e adicionar a lista.\n",
        "for notas in range(8): # range define o número de vezes que o valore será gerado.\n",
        "  notas_matematica.append(randrange(0,11))\n",
        "\n",
        "# Exibe os valores contidos na lista.\n",
        "notas_matematica"
      ],
      "execution_count": null,
      "outputs": [
        {
          "output_type": "execute_result",
          "data": {
            "text/plain": [
              "[8, 7, 7, 8, 9, 3, 2, 8]"
            ]
          },
          "metadata": {
            "tags": []
          },
          "execution_count": 27
        }
      ]
    },
    {
      "cell_type": "code",
      "metadata": {
        "id": "rbfck3oWx-aN",
        "outputId": "1e076ad6-e7f4-44f1-a9b6-66da68cac0b6",
        "colab": {
          "base_uri": "https://localhost:8080/",
          "height": 34
        }
      },
      "source": [
        "# A função verifica o tamanho da lista, quantos itens/elementos há dentro.\n",
        "len(notas_matematica)"
      ],
      "execution_count": null,
      "outputs": [
        {
          "output_type": "execute_result",
          "data": {
            "text/plain": [
              "8"
            ]
          },
          "metadata": {
            "tags": []
          },
          "execution_count": 12
        }
      ]
    },
    {
      "cell_type": "markdown",
      "metadata": {
        "id": "y1pVu50b01Pi"
      },
      "source": [
        "# Matplotlib\n",
        "\n",
        "No Python, existem inumeros módulos, libs, métodos que resolvem diferentes problemas. Quando plotar um gráfico, por exemplo, podemos usar o Matplolib."
      ]
    },
    {
      "cell_type": "code",
      "metadata": {
        "id": "VttCCSEAyNVy"
      },
      "source": [
        "import matplotlib.pyplot as plt"
      ],
      "execution_count": null,
      "outputs": []
    },
    {
      "cell_type": "code",
      "source": [
        "x = list(range(1, 9)) # Definio x para receber os valores da lista que será gerada de 1 a 9, sendo o último exclusivo.\n",
        "x"
      ],
      "metadata": {
        "colab": {
          "base_uri": "https://localhost:8080/"
        },
        "id": "1DoY37EMsJ9M",
        "outputId": "9eeeebda-edf1-4e24-ae9e-759abda0f1d8"
      },
      "execution_count": null,
      "outputs": [
        {
          "output_type": "execute_result",
          "data": {
            "text/plain": [
              "[1, 2, 3, 4, 5, 6, 7, 8]"
            ]
          },
          "metadata": {},
          "execution_count": 16
        }
      ]
    },
    {
      "cell_type": "code",
      "source": [
        "y = notas_matematica\n",
        "y"
      ],
      "metadata": {
        "colab": {
          "base_uri": "https://localhost:8080/"
        },
        "id": "JrTcLd2JsJxw",
        "outputId": "b2afa52d-6af2-43d5-b3da-5a64e29a7504"
      },
      "execution_count": null,
      "outputs": [
        {
          "output_type": "execute_result",
          "data": {
            "text/plain": [
              "['Matemática', 8, 7, 6, 6, 7, 7, 8, 10]"
            ]
          },
          "metadata": {},
          "execution_count": 17
        }
      ]
    },
    {
      "cell_type": "code",
      "metadata": {
        "id": "qC5cBhqj1GHV",
        "outputId": "67237799-e2b1-4375-82e6-37626c5ea25b",
        "colab": {
          "base_uri": "https://localhost:8080/",
          "height": 295
        }
      },
      "source": [
        "# Cria um gráfico de linhas com os valores de x e y.\n",
        "plt.plot(x, y, marker='o') # Define um marcador.\n",
        "plt.title('Notas de matemática') # Define um título para o gráfico.\n",
        "plt.xlabel('Provas') # Define rótulo para o eixo x.\n",
        "plt.ylabel('Notas') # Define rótulo para o eixo y.\n",
        "plt.show() # Não exibe a propriedade do texto que está sendo utilizanda."
      ],
      "execution_count": null,
      "outputs": [
        {
          "output_type": "display_data",
          "data": {
            "image/png": "[encoded data removed]",
            "text/plain": [
              "<Figure size 432x288 with 1 Axes>"
            ]
          },
          "metadata": {
            "tags": [],
            "needs_background": "light"
          }
        }
      ]
    },
    {
      "cell_type": "code",
      "metadata": {
        "id": "1Cc1SeYE1i2x",
        "outputId": "c3d30d5b-38d2-4120-d954-536455fc863e",
        "colab": {
          "base_uri": "https://localhost:8080/",
          "height": 34
        }
      },
      "source": [
        "notas_matematica"
      ],
      "execution_count": null,
      "outputs": [
        {
          "output_type": "execute_result",
          "data": {
            "text/plain": [
              "[8, 7, 7, 8, 9, 3, 2, 8]"
            ]
          },
          "metadata": {
            "tags": []
          },
          "execution_count": 36
        }
      ]
    },
    {
      "cell_type": "markdown",
      "source": [
        "## Exercício - Lógica e valor final\n",
        "\n",
        "Para comparar o desempenho escolar de um determinado aluno, a escola decidiu criar um gráfico para cada matéria, como ilustra o código abaixo. Gere um gráfico para cada matéria.\n"
      ],
      "metadata": {
        "id": "VSmsB2NvpzxD"
      }
    },
    {
      "cell_type": "code",
      "source": [
        "notas_matematica = ['Matemática',8,7,6,6,7,7,8,10]\n",
        "notas_portugues = ['Português',9,9,9,8,5,6,8,5]\n",
        "notas_geografia = ['Geografia',10,10,6,7,7,7,8,7]\n",
        "\n",
        "notas = [notas_matematica, notas_portugues, notas_geografia]"
      ],
      "metadata": {
        "id": "LPE5QBRCp-Kv"
      },
      "execution_count": null,
      "outputs": []
    },
    {
      "cell_type": "code",
      "source": [
        "# Resolução.\n",
        "# Executa um laço que percorre a lista notas.\n",
        "for nota in notas:\n",
        " x = list(range(1, 9)) # Define a posição de início e fim do laço, sendo o último item exclusivo.\n",
        " y = nota[1:] # Armazenar a nota de cada matéria a partir do índice 1.\n",
        "\n",
        " # Cria um gráfico de linhas, conforme especificado abaixo.\n",
        " plt.plot(x, y, marker='o')\n",
        " plt.xlabel('Provas')\n",
        " plt.ylabel('Notas')\n",
        " plt.title(nota[0]) # O título, armazenado no índice 0 será incluso no gráfico.\n",
        " plt.show()"
      ],
      "metadata": {
        "colab": {
          "base_uri": "https://localhost:8080/",
          "height": 1000
        },
        "id": "HkGzYu2KqDne",
        "outputId": "f3256e69-2b6d-4312-8bd0-0406595a1ee4"
      },
      "execution_count": null,
      "outputs": [
        {
          "output_type": "display_data",
          "data": {
            "text/plain": [
              "<Figure size 640x480 with 1 Axes>"
            ],
            "image/png": "[encoded data removed]"
          },
          "metadata": {}
        },
        {
          "output_type": "display_data",
          "data": {
            "text/plain": [
              "<Figure size 640x480 with 1 Axes>"
            ],
            "image/png": "[encoded data removed]"
          },
          "metadata": {}
        },
        {
          "output_type": "display_data",
          "data": {
            "text/plain": [
              "<Figure size 640x480 with 1 Axes>"
            ],
            "image/png": "[encoded data removed]"
          },
          "metadata": {}
        }
      ]
    }
  ]
}