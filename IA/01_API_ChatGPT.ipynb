{
  "nbformat": 4,
  "nbformat_minor": 0,
  "metadata": {
    "colab": {
      "provenance": [],
      "toc_visible": true,
      "authorship_tag": "ABX9TyOc+eLwp8wDqkcelgy7drwZ",
      "include_colab_link": true
    },
    "kernelspec": {
      "name": "python3",
      "display_name": "Python 3"
    },
    "language_info": {
      "name": "python"
    }
  },
  "cells": [
    {
      "cell_type": "markdown",
      "metadata": {
        "id": "view-in-github",
        "colab_type": "text"
      },
      "source": [
        "<a href=\"https://colab.research.google.com/github/crislanecas/estudos_python/blob/main/IA/01_API_ChatGPT.ipynb\" target=\"_parent\"><img src=\"https://colab.research.google.com/assets/colab-badge.svg\" alt=\"Open In Colab\"/></a>"
      ]
    },
    {
      "cell_type": "markdown",
      "source": [
        "# Preparando ambiente"
      ],
      "metadata": {
        "id": "xVcrYaiNXZtZ"
      }
    },
    {
      "cell_type": "code",
      "execution_count": null,
      "metadata": {
        "id": "-RmP0gN6aF6J"
      },
      "outputs": [],
      "source": [
        "# Instala a biblioteca da OpenAi.\n",
        "!pip install openai"
      ]
    },
    {
      "cell_type": "code",
      "source": [
        "# Importa a biblioteca da OpenAi.\n",
        "import openai"
      ],
      "metadata": {
        "id": "eE7_b3h3b7PJ"
      },
      "execution_count": null,
      "outputs": []
    },
    {
      "cell_type": "markdown",
      "source": [
        "# Configurando API"
      ],
      "metadata": {
        "id": "qNYCYVn3ZSc9"
      }
    },
    {
      "cell_type": "code",
      "source": [
        "# Configura acesso via API key.\n",
        "openai.api_key = \"sua_api_key\""
      ],
      "metadata": {
        "id": "kCrGqamRlSm4"
      },
      "execution_count": null,
      "outputs": []
    },
    {
      "cell_type": "markdown",
      "source": [
        "# Acessando ChatGPT"
      ],
      "metadata": {
        "id": "xo33shpSXekW"
      }
    },
    {
      "cell_type": "code",
      "source": [
        "# Define a personalidade do sistema.\n",
        "messages = [\n",
        "    {\"role\": \"system\",\n",
        "     \"content\": \"Você é um assistente prestativo\"}\n",
        "]\n",
        "\n",
        "# Define o prompting de entrada.\n",
        "input_message = input(\"Faça uma pergunta: \")\n",
        "messages.append({\"role\": \"user\",\n",
        "                 \"content\": input_message}) # Adiciona a perguta no histórico do chat.\n",
        "\n",
        "# Cria um loop para receber o prompt e enviar para o modelo.\n",
        "while input_message != \"fim\": # Define qualquer input diferente de 'fim' para execução.\n",
        "  # Faz uma chamada para ChatGPT.\n",
        "  response = openai.ChatCompletion.create(\n",
        "    model = \"gpt-3.5-turbo\",\n",
        "    messages = messages,\n",
        "    temperature = 1.0, # Define a temperatura.\n",
        "    max_tokens = 100 # Limite de tokens.\n",
        "  )\n",
        "\n",
        "  # Recebe a resposta do modelo.\n",
        "  answer = response.choices[0]['message']['content']\n",
        "  messages.append({\"role\": \"assistant\", \"content\": answer}) # Adiciona a resposta no histórico do chat.\n",
        "\n",
        "  # Imprime em tela a resposta.\n",
        "  print(answer)\n",
        "\n",
        "  # Define um novo prompting de entrada.\n",
        "  input_message = input(\"Faça uma pergunta: \")\n",
        "  messages.append({\"role\": \"user\", \"content\": input_message}) # Adiciona a sua perguta no histórico do chat."
      ],
      "metadata": {
        "id": "ICLbACmPiwKq"
      },
      "execution_count": null,
      "outputs": []
    },
    {
      "cell_type": "markdown",
      "source": [
        "# Fontes\n",
        "\n",
        "[Como usar a API do ChatGPT com PYTHON na PRÁTICA! - Alura](https://www.youtube.com/watch?v=VQZWtBW-Vbs)\n",
        "\n",
        "https://platform.openai.com/"
      ],
      "metadata": {
        "id": "cqNZJghEXErK"
      }
    }
  ]
}