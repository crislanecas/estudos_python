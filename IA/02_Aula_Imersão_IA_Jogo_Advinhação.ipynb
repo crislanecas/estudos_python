{
  "nbformat": 4,
  "nbformat_minor": 0,
  "metadata": {
    "colab": {
      "provenance": [],
      "toc_visible": true,
      "authorship_tag": "ABX9TyMj0rHUktVuZFl5fRoX6yQP",
      "include_colab_link": true
    },
    "kernelspec": {
      "name": "python3",
      "display_name": "Python 3"
    },
    "language_info": {
      "name": "python"
    }
  },
  "cells": [
    {
      "cell_type": "markdown",
      "metadata": {
        "id": "view-in-github",
        "colab_type": "text"
      },
      "source": [
        "<a href=\"https://colab.research.google.com/github/crislanecas/estudos_python/blob/main/IA/02_Aula_Imers%C3%A3o_IA_Jogo_Advinha%C3%A7%C3%A3o.ipynb\" target=\"_parent\"><img src=\"https://colab.research.google.com/assets/colab-badge.svg\" alt=\"Open In Colab\"/></a>"
      ]
    },
    {
      "cell_type": "markdown",
      "source": [
        "# Preparando ambiente"
      ],
      "metadata": {
        "id": "ucjkMn23QDEf"
      }
    },
    {
      "cell_type": "code",
      "execution_count": null,
      "metadata": {
        "id": "TRrwakryq387"
      },
      "outputs": [],
      "source": [
        "# Importa as bibliotecas\n",
        "import requests\n",
        "import random"
      ]
    },
    {
      "cell_type": "markdown",
      "source": [
        "# Importando os dados"
      ],
      "metadata": {
        "id": "ddmNJ3-4QIyg"
      }
    },
    {
      "cell_type": "code",
      "source": [
        "# Recebe o conteúdo que está no endereço de URL\n",
        "url = 'https://raw.githubusercontent.com/guilhermeonrails/api-imersao-ia/main/words.json'\n",
        "\n",
        "# Faz uma requisição para a URL que está sendo informada como argumento\n",
        "resposta = requests.get(url) # Exibe o status da requisição\n",
        "resposta.json() # Exibe o resultado da requisição no formato JSON"
      ],
      "metadata": {
        "id": "K9hUBW_e1ev_",
        "colab": {
          "base_uri": "https://localhost:8080/"
        },
        "collapsed": true,
        "outputId": "a88d4686-a996-4b72-fe41-5b971ebf0f69"
      },
      "execution_count": null,
      "outputs": [
        {
          "output_type": "execute_result",
          "data": {
            "text/plain": [
              "[{'palavra': 'python',\n",
              "  'dica': 'automatizar tarefas e desenvolver aplicações web.'},\n",
              " {'palavra': 'javascript',\n",
              "  'dica': 'criar interatividade em páginas web e desenvolver aplicações front-end.'},\n",
              " {'palavra': 'java',\n",
              "  'dica': 'desenvolver aplicações empresariais e para dispositivos móveis.'},\n",
              " {'palavra': 'html', 'dica': 'estruturar conteúdo em páginas web.'},\n",
              " {'palavra': 'css', 'dica': 'estilizar elementos em páginas web.'},\n",
              " {'palavra': 'sql',\n",
              "  'dica': 'gerenciar e consultar bancos de dados relacionais.'},\n",
              " {'palavra': 'react',\n",
              "  'dica': 'desenvolver interfaces de usuário reativas e escaláveis.'},\n",
              " {'palavra': 'angular',\n",
              "  'dica': 'construir aplicativos web spa (single page application) complexos.'},\n",
              " {'palavra': 'node',\n",
              "  'dica': 'criar aplicativos de servidor escaláveis e de alta performance.'},\n",
              " {'palavra': 'vue',\n",
              "  'dica': 'desenvolver interfaces de usuário interativas e dinâmicas.'},\n",
              " {'palavra': 'ruby',\n",
              "  'dica': 'desenvolver aplicações web e scripts de automação.'},\n",
              " {'palavra': 'php',\n",
              "  'dica': 'construir aplicações web dinâmicas e interativas.'},\n",
              " {'palavra': 'c++',\n",
              "  'dica': 'desenvolver software de sistema, jogos e aplicações de alto desempenho.'},\n",
              " {'palavra': 'c#',\n",
              "  'dica': 'desenvolver aplicações windows e jogos utilizando o framework .net.'},\n",
              " {'palavra': 'swift',\n",
              "  'dica': 'desenvolver aplicativos para dispositivos apple, como iphone e ipad.'},\n",
              " {'palavra': 'kotlin',\n",
              "  'dica': 'desenvolver aplicativos android modernos e seguros.'},\n",
              " {'palavra': 'tensorflow',\n",
              "  'dica': 'construir e treinar modelos de aprendizado de máquina.'},\n",
              " {'palavra': 'pytorch',\n",
              "  'dica': 'desenvolver e treinar modelos de aprendizado profundo.'},\n",
              " {'palavra': 'mongodb',\n",
              "  'dica': 'armazenar e consultar dados de forma flexível e escalável.'},\n",
              " {'palavra': 'postgresql',\n",
              "  'dica': 'gerenciar dados estruturados e relacionais com segurança.'},\n",
              " {'palavra': 'docker',\n",
              "  'dica': 'empacotar, distribuir e executar aplicativos em contêineres.'},\n",
              " {'palavra': 'kubernetes',\n",
              "  'dica': 'orquestrar e gerenciar contêineres em ambientes de produção.'},\n",
              " {'palavra': 'git',\n",
              "  'dica': 'controlar e colaborar no desenvolvimento de código-fonte.'},\n",
              " {'palavra': 'jupyter',\n",
              "  'dica': 'criar e compartilhar documentos que contenham código interativo, visualizações e textos explicativos.'},\n",
              " {'palavra': 'r',\n",
              "  'dica': 'analisar dados e criar visualizações estatísticas.'},\n",
              " {'palavra': 'scala',\n",
              "  'dica': 'desenvolver aplicativos escaláveis e concorrentes na jvm.'},\n",
              " {'palavra': 'hadoop',\n",
              "  'dica': 'armazenar e processar grandes volumes de dados em clusters distribuídos.'},\n",
              " {'palavra': 'spark',\n",
              "  'dica': 'processar e analisar dados de forma rápida e escalável.'},\n",
              " {'palavra': 'arduino',\n",
              "  'dica': 'desenvolver projetos eletrônicos interativos e automatizados.'},\n",
              " {'palavra': 'raspberry',\n",
              "  'dica': 'criar dispositivos e projetos de iot (internet das coisas) com baixo custo.'},\n",
              " {'palavra': 'linux',\n",
              "  'dica': 'utilizar e administrar sistemas operacionais de código aberto.'},\n",
              " {'palavra': 'windows',\n",
              "  'dica': 'desenvolver aplicativos e sistemas operacionais para computadores pessoais.'},\n",
              " {'palavra': 'macos',\n",
              "  'dica': 'desenvolver aplicativos para computadores apple e sistemas operacionais.'},\n",
              " {'palavra': 'android',\n",
              "  'dica': 'desenvolver aplicativos para dispositivos móveis android.'},\n",
              " {'palavra': 'ios',\n",
              "  'dica': 'desenvolver aplicativos para dispositivos móveis apple (iphone e ipad).'},\n",
              " {'palavra': 'firebase',\n",
              "  'dica': 'desenvolver aplicativos móveis e web com uma plataforma de backend escalável.'},\n",
              " {'palavra': 'aws',\n",
              "  'dica': 'implantar e gerenciar aplicativos em uma plataforma de nuvem líder de mercado.'},\n",
              " {'palavra': 'azure',\n",
              "  'dica': 'desenvolver, implantar e gerenciar aplicativos em uma plataforma de nuvem da microsoft.'},\n",
              " {'palavra': 'google',\n",
              "  'dica': 'utilizar serviços e produtos da google para desenvolvimento e negócios.'},\n",
              " {'palavra': 'api',\n",
              "  'dica': 'integrar e comunicar sistemas e serviços de software.'},\n",
              " {'palavra': 'rest',\n",
              "  'dica': 'criar e consumir apis web de maneira simples e eficiente.'},\n",
              " {'palavra': 'graphql',\n",
              "  'dica': 'consultar e manipular dados de forma eficiente e flexível.'},\n",
              " {'palavra': 'oauth',\n",
              "  'dica': 'implementar autenticação e autorização em aplicativos.'}]"
            ]
          },
          "metadata": {},
          "execution_count": 3
        }
      ]
    },
    {
      "cell_type": "markdown",
      "source": [
        "# Verificando os dados"
      ],
      "metadata": {
        "id": "DHZ7vY1nQ8zO"
      }
    },
    {
      "cell_type": "code",
      "source": [
        "# Recebe os dados do arquivo JSON\n",
        "data = resposta.json()\n",
        "len(data) # Conta quantidade de objetos registrados"
      ],
      "metadata": {
        "colab": {
          "base_uri": "https://localhost:8080/"
        },
        "id": "W77Yrc9q2r30",
        "outputId": "2761eddf-1017-4618-e496-8485e68b0789"
      },
      "execution_count": null,
      "outputs": [
        {
          "output_type": "execute_result",
          "data": {
            "text/plain": [
              "43"
            ]
          },
          "metadata": {},
          "execution_count": 4
        }
      ]
    },
    {
      "cell_type": "code",
      "source": [
        "# Verifica o tipo do dado\n",
        "type(data)"
      ],
      "metadata": {
        "colab": {
          "base_uri": "https://localhost:8080/"
        },
        "id": "FiFUZKOx5ZTr",
        "outputId": "322c7f94-fbc4-4f46-f92a-2d58aced1437"
      },
      "execution_count": null,
      "outputs": [
        {
          "output_type": "execute_result",
          "data": {
            "text/plain": [
              "list"
            ]
          },
          "metadata": {},
          "execution_count": 5
        }
      ]
    },
    {
      "cell_type": "code",
      "source": [
        "# Seleciona o objeto específicado na lista\n",
        "data[0]"
      ],
      "metadata": {
        "colab": {
          "base_uri": "https://localhost:8080/"
        },
        "id": "suY1tMII5fk4",
        "outputId": "2a74b24e-fc9a-434e-9812-da7d33b8b058"
      },
      "execution_count": null,
      "outputs": [
        {
          "output_type": "execute_result",
          "data": {
            "text/plain": [
              "{'palavra': 'python',\n",
              " 'dica': 'automatizar tarefas e desenvolver aplicações web.'}"
            ]
          },
          "metadata": {},
          "execution_count": 6
        }
      ]
    },
    {
      "cell_type": "code",
      "source": [
        "# Seleciona de forma aleatória um objeto na lista específicada\n",
        "random.choice(data)"
      ],
      "metadata": {
        "colab": {
          "base_uri": "https://localhost:8080/"
        },
        "id": "oJYCLFtu9yzx",
        "outputId": "85a73b55-5451-4f2b-8dff-73796eb7b809"
      },
      "execution_count": null,
      "outputs": [
        {
          "output_type": "execute_result",
          "data": {
            "text/plain": [
              "{'palavra': 'kotlin',\n",
              " 'dica': 'desenvolver aplicativos android modernos e seguros.'}"
            ]
          },
          "metadata": {},
          "execution_count": 7
        }
      ]
    },
    {
      "cell_type": "markdown",
      "source": [
        "# Selecionando as informações"
      ],
      "metadata": {
        "id": "JHHq7ubLQpnH"
      }
    },
    {
      "cell_type": "code",
      "source": [
        "# Seleciona de forma aleatória um objeto na lista\n",
        "valor_secreto = random.choice(data)\n",
        "palavra_secreta = valor_secreto['palavra'] # Seleciona a valor correspondente a chave 'palavra'\n",
        "dica = valor_secreto['dica'] # Seleciona a valor correspondente a chave 'dica'\n",
        "\n",
        "# Imprimi em tela as seleções\n",
        "print(len(palavra_secreta)) # Conta o tamanho da palavra_secreta\n",
        "print(dica) # Exibe a dica"
      ],
      "metadata": {
        "id": "eDQGzS1X-cbA",
        "colab": {
          "base_uri": "https://localhost:8080/"
        },
        "outputId": "19f78e8e-dd73-45cb-f75e-1c0063962c64"
      },
      "execution_count": null,
      "outputs": [
        {
          "output_type": "stream",
          "name": "stdout",
          "text": [
            "5\n",
            "processar e analisar dados de forma rápida e escalável.\n"
          ]
        }
      ]
    },
    {
      "cell_type": "markdown",
      "source": [
        "# Criando um jogo de advinhação"
      ],
      "metadata": {
        "id": "_oZpDriFQw4y"
      }
    },
    {
      "cell_type": "code",
      "source": [
        "# Seleciona de forma aleatória um objeto na lista\n",
        "valor_secreto = random.choice(data)\n",
        "palavra_secreta = valor_secreto['palavra']\n",
        "dica = valor_secreto['dica']\n",
        "\n",
        "# Imprime em tela o texto concatenado com as variáveis\n",
        "print(f'A palavra secreta tem {len(palavra_secreta)} letras.')\n",
        "print(f'Dica: {dica}')\n",
        "\n",
        "# Recebe o chute do usuário\n",
        "chute = input('Qual tecnológia é: ')\n",
        "\n",
        "# Verifica se o chute corresponde à palavra_secreta\n",
        "if chute == palavra_secreta:\n",
        "  print('Você acertou!')\n",
        "else:\n",
        "  print(f'Você errou! A palavra secreta é: {palavra_secreta}')"
      ],
      "metadata": {
        "id": "1pTELDkbAOkh",
        "colab": {
          "base_uri": "https://localhost:8080/"
        },
        "outputId": "fca54704-5c40-44fa-a104-f05499a41e03"
      },
      "execution_count": null,
      "outputs": [
        {
          "output_type": "stream",
          "name": "stdout",
          "text": [
            "A palavra secreta tem 5 letras.\n",
            "Dica: desenvolver aplicativos para computadores apple e sistemas operacionais.\n",
            "Qual tecnológia é: ibm\n",
            "Você errou! A palavra secreta é: macos\n"
          ]
        }
      ]
    },
    {
      "cell_type": "markdown",
      "source": [
        "# Fonte\n",
        "\n",
        "[Imersão IA Google Gemini: Mergulhe em Python: Prepare-se para criar o seu chatbot - Alura](https://www.youtube.com/watch?v=j_0HRH7gZtA)\n",
        "\n",
        "[Arquivo JSON](https://raw.githubusercontent.com/guilhermeonrails/api-imersao-ia/main/words.json)\n",
        "  \n",
        "[GitHub com código](https://github.com/guilhermeonrails/codigo-ia/blob/main/app.py)"
      ],
      "metadata": {
        "id": "kDOjPWMKSTan"
      }
    }
  ]
}