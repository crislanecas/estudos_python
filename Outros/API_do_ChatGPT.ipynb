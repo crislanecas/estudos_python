{
  "nbformat": 4,
  "nbformat_minor": 0,
  "metadata": {
    "colab": {
      "provenance": [],
      "toc_visible": true,
      "authorship_tag": "ABX9TyOweQY6xvph9VSNq5TBuyE5",
      "include_colab_link": true
    },
    "kernelspec": {
      "name": "python3",
      "display_name": "Python 3"
    },
    "language_info": {
      "name": "python"
    }
  },
  "cells": [
    {
      "cell_type": "markdown",
      "metadata": {
        "id": "view-in-github",
        "colab_type": "text"
      },
      "source": [
        "<a href=\"https://colab.research.google.com/github/crislanecas/estudos_python/blob/main/Outros/API_do_ChatGPT.ipynb\" target=\"_parent\"><img src=\"https://colab.research.google.com/assets/colab-badge.svg\" alt=\"Open In Colab\"/></a>"
      ]
    },
    {
      "cell_type": "markdown",
      "source": [
        "# Preparando ambiente"
      ],
      "metadata": {
        "id": "xVcrYaiNXZtZ"
      }
    },
    {
      "cell_type": "code",
      "execution_count": null,
      "metadata": {
        "id": "-RmP0gN6aF6J"
      },
      "outputs": [],
      "source": [
        "# Instala a biblioteca da OpenAi.\n",
        "!pip install openai"
      ]
    },
    {
      "cell_type": "code",
      "source": [
        "# Importa a biblioteca da OpenAi.\n",
        "import openai"
      ],
      "metadata": {
        "id": "eE7_b3h3b7PJ"
      },
      "execution_count": null,
      "outputs": []
    },
    {
      "cell_type": "markdown",
      "source": [
        "# Acessando o ChatGPT"
      ],
      "metadata": {
        "id": "xo33shpSXekW"
      }
    },
    {
      "cell_type": "code",
      "source": [
        "# Configura a API key.\n",
        "openai.api_key = \"sua api key\""
      ],
      "metadata": {
        "id": "kCrGqamRlSm4"
      },
      "execution_count": null,
      "outputs": []
    },
    {
      "cell_type": "code",
      "source": [
        "# Define a personalidade do sistema.\n",
        "messages = [\n",
        "    {\"role\": \"system\", \"content\": \"Você é um assistente prestativo\"}\n",
        "]\n",
        "\n",
        "# Define o prompting de entrada.\n",
        "input_message = input(\"Faça uma pergunta: \")\n",
        "messages.append({\"role\": \"user\", \"content\": input_message}) # Adiciona a sua perguta no histórico do chat.\n",
        "\n",
        "# Define o input não para a palavra 'fim', para não ficar em um loop infinito.\n",
        "while input_message != \"fim\":\n",
        "  # Faz uma chamada para ChatGPT.\n",
        "  response = openai.ChatCompletion.create(\n",
        "    model = \"gpt-3.5-turbo\",\n",
        "    messages = messages,\n",
        "    temperature = 1.0, # Define a temperatura.\n",
        "    max_tokens = 100 # Limite de tokens.\n",
        "  )\n",
        "\n",
        "  # Definie uma variável para armazenar a resposta\n",
        "  answer = response.choices[0]['message']['content']\n",
        "  messages.append({\"role\": \"assistant\", \"content\": answer}) # Adiciona a resposta no histórico do chat.\n",
        "\n",
        "  # Imprime a resposta.\n",
        "  print(answer)\n",
        "\n",
        "  # Define um novo prompting de entrada.\n",
        "  input_message = input(\"Faça uma pergunta: \")\n",
        "  messages.append({\"role\": \"user\", \"content\": input_message}) # Adiciona a sua perguta no histórico do chat."
      ],
      "metadata": {
        "id": "ICLbACmPiwKq"
      },
      "execution_count": null,
      "outputs": []
    },
    {
      "cell_type": "markdown",
      "source": [
        "# Fonte:\n",
        "[Como usar a API do ChatGPT com PYTHON na PRÁTICA! - Alura](https://www.youtube.com/watch?v=VQZWtBW-Vbs)"
      ],
      "metadata": {
        "id": "cqNZJghEXErK"
      }
    }
  ]
}