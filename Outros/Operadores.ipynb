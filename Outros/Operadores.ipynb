{
  "nbformat": 4,
  "nbformat_minor": 0,
  "metadata": {
    "colab": {
      "provenance": [],
      "toc_visible": true,
      "authorship_tag": "ABX9TyMyfYWFC9rfdW0IdY4uWVjc",
      "include_colab_link": true
    },
    "kernelspec": {
      "name": "python3",
      "display_name": "Python 3"
    },
    "language_info": {
      "name": "python"
    }
  },
  "cells": [
    {
      "cell_type": "markdown",
      "metadata": {
        "id": "view-in-github",
        "colab_type": "text"
      },
      "source": [
        "<a href=\"https://colab.research.google.com/github/crislanecas/estudos_python/blob/main/Outros/Operadores.ipynb\" target=\"_parent\"><img src=\"https://colab.research.google.com/assets/colab-badge.svg\" alt=\"Open In Colab\"/></a>"
      ]
    },
    {
      "cell_type": "markdown",
      "source": [
        "# Operadores aritméticos ou matemáticos\n",
        "Os exemplos usados abaixo são baseados na criação de duas variáveis x e y."
      ],
      "metadata": {
        "id": "OW46FK22Ka6M"
      }
    },
    {
      "cell_type": "code",
      "source": [
        "# Atribui valores as variáveis.\n",
        "x = 2\n",
        "y = 5"
      ],
      "metadata": {
        "id": "4HFFSO_CKdj-"
      },
      "execution_count": 1,
      "outputs": []
    },
    {
      "cell_type": "code",
      "source": [
        "# Soma.\n",
        "x + y"
      ],
      "metadata": {
        "colab": {
          "base_uri": "https://localhost:8080/"
        },
        "id": "Uew1CQ4OKgPr",
        "outputId": "820b1900-14ca-4cc8-c691-e298c3da4fc6"
      },
      "execution_count": 2,
      "outputs": [
        {
          "output_type": "execute_result",
          "data": {
            "text/plain": [
              "7"
            ]
          },
          "metadata": {},
          "execution_count": 2
        }
      ]
    },
    {
      "cell_type": "code",
      "source": [
        "# Subtraição.\n",
        "x - y"
      ],
      "metadata": {
        "colab": {
          "base_uri": "https://localhost:8080/"
        },
        "id": "1f_vrAzlKhyG",
        "outputId": "3ea62432-8d24-4ccf-b2a0-55d43691a0b2"
      },
      "execution_count": 3,
      "outputs": [
        {
          "output_type": "execute_result",
          "data": {
            "text/plain": [
              "-3"
            ]
          },
          "metadata": {},
          "execution_count": 3
        }
      ]
    },
    {
      "cell_type": "code",
      "source": [
        "# Multiplicação.\n",
        "x * y"
      ],
      "metadata": {
        "colab": {
          "base_uri": "https://localhost:8080/"
        },
        "id": "KfQvNrPzKjH1",
        "outputId": "4c4d8a93-6615-4b86-8e78-2dff89e92e5f"
      },
      "execution_count": 4,
      "outputs": [
        {
          "output_type": "execute_result",
          "data": {
            "text/plain": [
              "10"
            ]
          },
          "metadata": {},
          "execution_count": 4
        }
      ]
    },
    {
      "cell_type": "code",
      "source": [
        "# Divisão.\n",
        "x / y"
      ],
      "metadata": {
        "colab": {
          "base_uri": "https://localhost:8080/"
        },
        "id": "5WpDOjxdKkWN",
        "outputId": "20cd4199-e07a-44d9-da19-c6354aa2d20b"
      },
      "execution_count": 5,
      "outputs": [
        {
          "output_type": "execute_result",
          "data": {
            "text/plain": [
              "0.4"
            ]
          },
          "metadata": {},
          "execution_count": 5
        }
      ]
    },
    {
      "cell_type": "code",
      "source": [
        "# Divisão inteira (retorna um valor inteiro após a divisão).\n",
        "y // x"
      ],
      "metadata": {
        "colab": {
          "base_uri": "https://localhost:8080/"
        },
        "id": "t5yTIM6cKncW",
        "outputId": "10161039-64fa-4000-c8d9-e07ecaa44f47"
      },
      "execution_count": 6,
      "outputs": [
        {
          "output_type": "execute_result",
          "data": {
            "text/plain": [
              "2"
            ]
          },
          "metadata": {},
          "execution_count": 6
        }
      ]
    },
    {
      "cell_type": "code",
      "source": [
        "# Módulo (retorna o restante após a divisão ou resto da divisão).\n",
        "y % x"
      ],
      "metadata": {
        "colab": {
          "base_uri": "https://localhost:8080/"
        },
        "id": "4OUo26bCKlts",
        "outputId": "6a11c5db-4878-4b0d-eb9e-ea3c3f170dea"
      },
      "execution_count": 7,
      "outputs": [
        {
          "output_type": "execute_result",
          "data": {
            "text/plain": [
              "1"
            ]
          },
          "metadata": {},
          "execution_count": 7
        }
      ]
    },
    {
      "cell_type": "code",
      "source": [
        "# Exponenciação ou potenciação\n",
        "y ** x"
      ],
      "metadata": {
        "colab": {
          "base_uri": "https://localhost:8080/"
        },
        "id": "6PTPLgXpKo2H",
        "outputId": "a6140fff-fb8d-49f9-e20e-fac3c89f29c6"
      },
      "execution_count": 8,
      "outputs": [
        {
          "output_type": "execute_result",
          "data": {
            "text/plain": [
              "25"
            ]
          },
          "metadata": {},
          "execution_count": 8
        }
      ]
    },
    {
      "cell_type": "markdown",
      "source": [
        "# Operadores relacionais ou de comparação"
      ],
      "metadata": {
        "id": "3GjasFZPKq5C"
      }
    },
    {
      "cell_type": "code",
      "source": [
        "# Menor que.\n",
        "x < y"
      ],
      "metadata": {
        "colab": {
          "base_uri": "https://localhost:8080/"
        },
        "id": "cGI8RKI8Kr1P",
        "outputId": "05d454a6-c92c-441a-f491-959605646544"
      },
      "execution_count": 9,
      "outputs": [
        {
          "output_type": "execute_result",
          "data": {
            "text/plain": [
              "True"
            ]
          },
          "metadata": {},
          "execution_count": 9
        }
      ]
    },
    {
      "cell_type": "code",
      "source": [
        "# Maior que.\n",
        "x > y"
      ],
      "metadata": {
        "colab": {
          "base_uri": "https://localhost:8080/"
        },
        "id": "KTG0yt2fKuLX",
        "outputId": "596a0957-2c2f-4347-c0e2-a9e41daa82f1"
      },
      "execution_count": 10,
      "outputs": [
        {
          "output_type": "execute_result",
          "data": {
            "text/plain": [
              "False"
            ]
          },
          "metadata": {},
          "execution_count": 10
        }
      ]
    },
    {
      "cell_type": "code",
      "source": [
        "# Menor ou igual a.\n",
        "x <= 2"
      ],
      "metadata": {
        "colab": {
          "base_uri": "https://localhost:8080/"
        },
        "id": "x-hwQIr6KvlO",
        "outputId": "3b891754-c4d4-4a4f-d92e-37a0bed52e59"
      },
      "execution_count": 11,
      "outputs": [
        {
          "output_type": "execute_result",
          "data": {
            "text/plain": [
              "True"
            ]
          },
          "metadata": {},
          "execution_count": 11
        }
      ]
    },
    {
      "cell_type": "code",
      "source": [
        "# Maior ou igual a.\n",
        "y >= 10"
      ],
      "metadata": {
        "colab": {
          "base_uri": "https://localhost:8080/"
        },
        "id": "6CaaIYNIKw28",
        "outputId": "13677e60-6568-4f67-bf41-0aea05904a99"
      },
      "execution_count": 12,
      "outputs": [
        {
          "output_type": "execute_result",
          "data": {
            "text/plain": [
              "False"
            ]
          },
          "metadata": {},
          "execution_count": 12
        }
      ]
    },
    {
      "cell_type": "code",
      "source": [
        "# Igual a.\n",
        "y == 5"
      ],
      "metadata": {
        "colab": {
          "base_uri": "https://localhost:8080/"
        },
        "id": "tNoiCpZCKyLV",
        "outputId": "f1dea6b1-b7ce-42c5-93d8-189d584d825f"
      },
      "execution_count": 13,
      "outputs": [
        {
          "output_type": "execute_result",
          "data": {
            "text/plain": [
              "True"
            ]
          },
          "metadata": {},
          "execution_count": 13
        }
      ]
    },
    {
      "cell_type": "code",
      "source": [
        "# Diferente de.\n",
        "x != 2"
      ],
      "metadata": {
        "colab": {
          "base_uri": "https://localhost:8080/"
        },
        "id": "PWCHQVv2KzfE",
        "outputId": "ade99c9f-a258-4544-e1a5-d00a34369df6"
      },
      "execution_count": 14,
      "outputs": [
        {
          "output_type": "execute_result",
          "data": {
            "text/plain": [
              "False"
            ]
          },
          "metadata": {},
          "execution_count": 14
        }
      ]
    },
    {
      "cell_type": "markdown",
      "source": [
        "# Operadores lógicos"
      ],
      "metadata": {
        "id": "vxyWS3BcK1rY"
      }
    },
    {
      "cell_type": "code",
      "source": [
        "# Atribui um novo valor a variável x.\n",
        "x = 10"
      ],
      "metadata": {
        "id": "IcT3Ucv2K1RJ"
      },
      "execution_count": 15,
      "outputs": []
    },
    {
      "cell_type": "code",
      "source": [
        "# Operador lógico AND (&).\n",
        "x > 2 & x < 12"
      ],
      "metadata": {
        "colab": {
          "base_uri": "https://localhost:8080/"
        },
        "id": "q049-haVK4eJ",
        "outputId": "82d5ef6d-9eda-4746-a421-bbbe8190eafd"
      },
      "execution_count": 16,
      "outputs": [
        {
          "output_type": "execute_result",
          "data": {
            "text/plain": [
              "True"
            ]
          },
          "metadata": {},
          "execution_count": 16
        }
      ]
    },
    {
      "cell_type": "code",
      "source": [
        "# Operador lógico OR (|).\n",
        "x > 2 | x < 8"
      ],
      "metadata": {
        "colab": {
          "base_uri": "https://localhost:8080/"
        },
        "id": "Yx1OHtXDK5zh",
        "outputId": "926dcffc-e140-4c38-85f3-029600f5db6b"
      },
      "execution_count": 17,
      "outputs": [
        {
          "output_type": "execute_result",
          "data": {
            "text/plain": [
              "False"
            ]
          },
          "metadata": {},
          "execution_count": 17
        }
      ]
    },
    {
      "cell_type": "code",
      "source": [
        "# O operador NOT (!) basicamente inverte o valor lógico.\n",
        "!(x < 15)"
      ],
      "metadata": {
        "colab": {
          "base_uri": "https://localhost:8080/"
        },
        "id": "bNgnAH4sLpCM",
        "outputId": "c54f6a8e-2afa-47df-e9da-aec295b029e5"
      },
      "execution_count": 18,
      "outputs": [
        {
          "output_type": "stream",
          "name": "stdout",
          "text": [
            "/bin/bash: line 1: 15: No such file or directory\n"
          ]
        }
      ]
    },
    {
      "cell_type": "markdown",
      "source": [
        "# Operadores de atribuição"
      ],
      "metadata": {
        "id": "pjFGFdSPLslp"
      }
    },
    {
      "cell_type": "code",
      "source": [
        "# Atribuição de valor.\n",
        "x = 2\n",
        "x"
      ],
      "metadata": {
        "id": "dimYqAYALsHN",
        "colab": {
          "base_uri": "https://localhost:8080/"
        },
        "outputId": "f958ebf0-ea1c-475a-9b24-8bad53cc3760"
      },
      "execution_count": 19,
      "outputs": [
        {
          "output_type": "execute_result",
          "data": {
            "text/plain": [
              "2"
            ]
          },
          "metadata": {},
          "execution_count": 19
        }
      ]
    },
    {
      "cell_type": "code",
      "source": [
        "# Atribuição de soma.\n",
        "x += 1\n",
        "x"
      ],
      "metadata": {
        "id": "6saKHcOlLyMj",
        "colab": {
          "base_uri": "https://localhost:8080/"
        },
        "outputId": "15835dcc-20ed-446c-fd84-821c886bd2ad"
      },
      "execution_count": 20,
      "outputs": [
        {
          "output_type": "execute_result",
          "data": {
            "text/plain": [
              "3"
            ]
          },
          "metadata": {},
          "execution_count": 20
        }
      ]
    },
    {
      "cell_type": "code",
      "source": [
        "# Atribuição de subtração.\n",
        "x -= 1\n",
        "x"
      ],
      "metadata": {
        "id": "n8Nu9P7DUv2o",
        "colab": {
          "base_uri": "https://localhost:8080/"
        },
        "outputId": "4ec8b42b-0d5f-4a6a-be0d-a634b2010ade"
      },
      "execution_count": 21,
      "outputs": [
        {
          "output_type": "execute_result",
          "data": {
            "text/plain": [
              "2"
            ]
          },
          "metadata": {},
          "execution_count": 21
        }
      ]
    },
    {
      "cell_type": "code",
      "source": [
        "# Atribuição de multiplicação.\n",
        "x *= 1\n",
        "x"
      ],
      "metadata": {
        "id": "_pn8IkgqU6Nx",
        "colab": {
          "base_uri": "https://localhost:8080/"
        },
        "outputId": "c8017950-227f-4f38-cd30-57c3caa9aa3a"
      },
      "execution_count": 22,
      "outputs": [
        {
          "output_type": "execute_result",
          "data": {
            "text/plain": [
              "2"
            ]
          },
          "metadata": {},
          "execution_count": 22
        }
      ]
    },
    {
      "cell_type": "code",
      "source": [
        "# Atribuição de divisão.\n",
        "x /= 1\n",
        "x"
      ],
      "metadata": {
        "colab": {
          "base_uri": "https://localhost:8080/"
        },
        "id": "-gZtjoM7Fpj5",
        "outputId": "e23fb6aa-8446-4b24-8be2-b741ec65b1cc"
      },
      "execution_count": 23,
      "outputs": [
        {
          "output_type": "execute_result",
          "data": {
            "text/plain": [
              "2.0"
            ]
          },
          "metadata": {},
          "execution_count": 23
        }
      ]
    },
    {
      "cell_type": "code",
      "source": [
        "# Atribuição de módulo.\n",
        "x %= 1\n",
        "x"
      ],
      "metadata": {
        "colab": {
          "base_uri": "https://localhost:8080/"
        },
        "id": "LLF2qQ8TFtI5",
        "outputId": "5e0d938f-bf77-4877-a74b-fefe65a56234"
      },
      "execution_count": 24,
      "outputs": [
        {
          "output_type": "execute_result",
          "data": {
            "text/plain": [
              "0.0"
            ]
          },
          "metadata": {},
          "execution_count": 24
        }
      ]
    }
  ]
}