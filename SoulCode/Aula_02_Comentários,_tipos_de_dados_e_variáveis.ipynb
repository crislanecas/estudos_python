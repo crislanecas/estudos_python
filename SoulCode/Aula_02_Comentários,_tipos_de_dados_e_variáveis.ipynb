{
  "nbformat": 4,
  "nbformat_minor": 0,
  "metadata": {
    "colab": {
      "provenance": [],
      "toc_visible": true,
      "authorship_tag": "ABX9TyMEQnzdJqqg+ONtO04mbBTK",
      "include_colab_link": true
    },
    "kernelspec": {
      "name": "python3",
      "display_name": "Python 3"
    },
    "language_info": {
      "name": "python"
    }
  },
  "cells": [
    {
      "cell_type": "markdown",
      "metadata": {
        "id": "view-in-github",
        "colab_type": "text"
      },
      "source": [
        "<a href=\"https://colab.research.google.com/github/crislanecas/estudos_python/blob/main/SoulCode/Aula_02_Coment%C3%A1rios%2C_tipos_de_dados_e_vari%C3%A1veis.ipynb\" target=\"_parent\"><img src=\"https://colab.research.google.com/assets/colab-badge.svg\" alt=\"Open In Colab\"/></a>"
      ]
    },
    {
      "cell_type": "markdown",
      "source": [
        "# **Introdução ao Python**"
      ],
      "metadata": {
        "id": "q8Jb1onLIM2x"
      }
    },
    {
      "cell_type": "markdown",
      "source": [
        "Escola: SoulCode Academy\n",
        "\n",
        "Curso: Análise de Dados e Dashboards\n",
        "\n",
        "Período: Noturno\n",
        "\n",
        "Professora: Franciane Rodrigures\n",
        "\n",
        "Aluna: Crislane Silva"
      ],
      "metadata": {
        "id": "M_W5Gz9dITVX"
      }
    },
    {
      "cell_type": "markdown",
      "source": [
        "## Comentários"
      ],
      "metadata": {
        "id": "AT9wHrefJj6b"
      }
    },
    {
      "cell_type": "code",
      "source": [
        "print('Hello World!') # usando aspas simples.\n",
        "print(\"Olá mundo!\") # usando aspas duplas."
      ],
      "metadata": {
        "colab": {
          "base_uri": "https://localhost:8080/"
        },
        "id": "SXgGLjr0JjWa",
        "outputId": "565487be-83da-4883-9cb2-837f710d2301"
      },
      "execution_count": 30,
      "outputs": [
        {
          "output_type": "stream",
          "name": "stdout",
          "text": [
            "Hello World!\n",
            "Olá mundo!\n"
          ]
        }
      ]
    },
    {
      "cell_type": "code",
      "execution_count": 17,
      "metadata": {
        "id": "arP0rZhbBRTd"
      },
      "outputs": [],
      "source": [
        "# Isso aqui é um comentário."
      ]
    },
    {
      "cell_type": "code",
      "source": [
        "# Isso\n",
        "# também é um\n",
        "# comentário."
      ],
      "metadata": {
        "id": "UDMk2cnzPWpR"
      },
      "execution_count": 18,
      "outputs": []
    },
    {
      "cell_type": "code",
      "source": [
        "'''\n",
        "Isso\n",
        "é um comentário\n",
        "longo.\n",
        "'''"
      ],
      "metadata": {
        "colab": {
          "base_uri": "https://localhost:8080/",
          "height": 36
        },
        "id": "Uaw3u48GOx-J",
        "outputId": "90337480-cdf7-4916-be42-ca926897f777"
      },
      "execution_count": 19,
      "outputs": [
        {
          "output_type": "execute_result",
          "data": {
            "text/plain": [
              "'\\nIsso\\né um comentário\\nlongo.\\n'"
            ],
            "application/vnd.google.colaboratory.intrinsic+json": {
              "type": "string"
            }
          },
          "metadata": {},
          "execution_count": 19
        }
      ]
    },
    {
      "cell_type": "code",
      "source": [
        "\"\"\"Isso é um comentário também.\"\"\""
      ],
      "metadata": {
        "colab": {
          "base_uri": "https://localhost:8080/",
          "height": 36
        },
        "id": "Si8R9xgTO7W3",
        "outputId": "6a0d9eb4-6d9a-4dfb-cdd5-07988452feb1"
      },
      "execution_count": 20,
      "outputs": [
        {
          "output_type": "execute_result",
          "data": {
            "text/plain": [
              "'Isso é um comentário também.'"
            ],
            "application/vnd.google.colaboratory.intrinsic+json": {
              "type": "string"
            }
          },
          "metadata": {},
          "execution_count": 20
        }
      ]
    },
    {
      "cell_type": "markdown",
      "source": [
        "## Tipos básicos de dados"
      ],
      "metadata": {
        "id": "FMXDTTKUOlxY"
      }
    },
    {
      "cell_type": "code",
      "source": [
        "print(41)         # int - tipo númerica/quantitativa.\n",
        "print(1.68)       # float - tipo númerica/quantitativa.\n",
        "print('Crislane') # str (string) - tipo texto (caracteres)/qualitativo ou categóricas.\n",
        "print(\"Silva\")    # str (string) - tipo texto (caracteres)/qualitativo ou categóricas.\n",
        "print(False)      # boleanas ou bool - tipo lógico/qualitativo ou categóricas."
      ],
      "metadata": {
        "colab": {
          "base_uri": "https://localhost:8080/"
        },
        "id": "VadnOz_fPs3p",
        "outputId": "a1ceefea-677a-4a01-f444-0a948b290a2f"
      },
      "execution_count": 21,
      "outputs": [
        {
          "output_type": "stream",
          "name": "stdout",
          "text": [
            "41\n",
            "1.68\n",
            "Crislane\n",
            "Silva\n",
            "False\n"
          ]
        }
      ]
    },
    {
      "cell_type": "markdown",
      "source": [
        "### **Variáveis**"
      ],
      "metadata": {
        "id": "k1mFczwOWRZP"
      }
    },
    {
      "cell_type": "code",
      "source": [
        "# Declarando variáveis.\n",
        "idade = 24\n",
        "altura = 1.60\n",
        "nome = 'Maria'\n",
        "sobrenome = \"Sales\"\n",
        "filhos = False"
      ],
      "metadata": {
        "id": "EwXk2bt1WVnJ"
      },
      "execution_count": 22,
      "outputs": []
    },
    {
      "cell_type": "code",
      "source": [
        "# Imprimindo na tela.\n",
        "print(idade)\n",
        "print(altura)\n",
        "print(nome)\n",
        "print(sobrenome)\n",
        "print(filhos)"
      ],
      "metadata": {
        "colab": {
          "base_uri": "https://localhost:8080/"
        },
        "id": "Cv40gLgwZkQS",
        "outputId": "bf2814aa-e8f8-4e8c-99f1-05313e251814"
      },
      "execution_count": 23,
      "outputs": [
        {
          "output_type": "stream",
          "name": "stdout",
          "text": [
            "24\n",
            "1.6\n",
            "Maria\n",
            "Sales\n",
            "False\n"
          ]
        }
      ]
    },
    {
      "cell_type": "code",
      "source": [
        "# Imprimindo variáveis.\n",
        "print(idade, altura, nome, sobrenome, filhos)"
      ],
      "metadata": {
        "colab": {
          "base_uri": "https://localhost:8080/"
        },
        "id": "KdwArZOVZ0oz",
        "outputId": "6b230750-8f47-4457-a706-23c236843d8a"
      },
      "execution_count": 24,
      "outputs": [
        {
          "output_type": "stream",
          "name": "stdout",
          "text": [
            "24 1.6 Maria Sales False\n"
          ]
        }
      ]
    },
    {
      "cell_type": "code",
      "source": [
        "# Verifica o tipo de dado.\n",
        "type(idade)"
      ],
      "metadata": {
        "colab": {
          "base_uri": "https://localhost:8080/"
        },
        "id": "AS7JxeIcb7MU",
        "outputId": "f63fbf09-d65f-4cd5-c77f-8236467e4a72"
      },
      "execution_count": 25,
      "outputs": [
        {
          "output_type": "execute_result",
          "data": {
            "text/plain": [
              "int"
            ]
          },
          "metadata": {},
          "execution_count": 25
        }
      ]
    },
    {
      "cell_type": "code",
      "source": [
        "# Verifica o tipo de dado guardado em cada variável.\n",
        "print(type(idade))\n",
        "print(type(altura))\n",
        "print(type(nome))\n",
        "print(type(sobrenome))\n",
        "print(type(filhos))"
      ],
      "metadata": {
        "colab": {
          "base_uri": "https://localhost:8080/"
        },
        "id": "IIwkUEJQb8tr",
        "outputId": "dcf8e7bb-1940-4576-8e65-601a05fe1189"
      },
      "execution_count": 26,
      "outputs": [
        {
          "output_type": "stream",
          "name": "stdout",
          "text": [
            "<class 'int'>\n",
            "<class 'float'>\n",
            "<class 'str'>\n",
            "<class 'str'>\n",
            "<class 'bool'>\n"
          ]
        }
      ]
    },
    {
      "cell_type": "code",
      "source": [
        "# Armazenando string e números\n",
        "nome_completo = 'Laura Rodrigues'\n",
        "numero_fav = '34'"
      ],
      "metadata": {
        "id": "clk6APPwcF1C"
      },
      "execution_count": 27,
      "outputs": []
    },
    {
      "cell_type": "code",
      "source": [
        "# Verifica o tipo de dado contém a variável.\n",
        "print(type(nome_completo))\n",
        "print(type(numero_fav))"
      ],
      "metadata": {
        "colab": {
          "base_uri": "https://localhost:8080/"
        },
        "id": "rkjFhr4YcanE",
        "outputId": "a0809a14-4b89-41d3-8321-7f3f62259201"
      },
      "execution_count": 28,
      "outputs": [
        {
          "output_type": "stream",
          "name": "stdout",
          "text": [
            "<class 'str'>\n",
            "<class 'str'>\n"
          ]
        }
      ]
    },
    {
      "cell_type": "code",
      "source": [
        "# Atenção: o python é sensivel as letras maiúsculas e minúsculas (case sensitive).\n",
        "nome = 'Franciane'\n",
        "print(nome)"
      ],
      "metadata": {
        "colab": {
          "base_uri": "https://localhost:8080/"
        },
        "id": "7IaIldeJdE0S",
        "outputId": "8dbdd9ed-52b7-4da7-e6f7-3254f53a9d0a"
      },
      "execution_count": 29,
      "outputs": [
        {
          "output_type": "stream",
          "name": "stdout",
          "text": [
            "Franciane\n"
          ]
        }
      ]
    }
  ]
}