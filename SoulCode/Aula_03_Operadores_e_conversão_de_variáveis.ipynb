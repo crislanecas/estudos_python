{
  "nbformat": 4,
  "nbformat_minor": 0,
  "metadata": {
    "colab": {
      "provenance": [],
      "toc_visible": true,
      "authorship_tag": "ABX9TyOQBA7ZhQ3StyFT0b1ynatS",
      "include_colab_link": true
    },
    "kernelspec": {
      "name": "python3",
      "display_name": "Python 3"
    },
    "language_info": {
      "name": "python"
    }
  },
  "cells": [
    {
      "cell_type": "markdown",
      "metadata": {
        "id": "view-in-github",
        "colab_type": "text"
      },
      "source": [
        "<a href=\"https://colab.research.google.com/github/crislanecas/estudos_python/blob/main/SoulCode/Aula_03_Operadores_e_convers%C3%A3o_de_vari%C3%A1veis.ipynb\" target=\"_parent\"><img src=\"https://colab.research.google.com/assets/colab-badge.svg\" alt=\"Open In Colab\"/></a>"
      ]
    },
    {
      "cell_type": "markdown",
      "source": [
        "# Operadores matemáticos"
      ],
      "metadata": {
        "id": "q8Jb1onLIM2x"
      }
    },
    {
      "cell_type": "markdown",
      "source": [
        "## Soma"
      ],
      "metadata": {
        "id": "TmkezTAkHX6l"
      }
    },
    {
      "cell_type": "code",
      "execution_count": null,
      "metadata": {
        "id": "m2z3zc0C58hW"
      },
      "outputs": [],
      "source": [
        "# Declara as variáveis.\n",
        "n1 = 5.887\n",
        "n2 = 7.15"
      ]
    },
    {
      "cell_type": "code",
      "source": [
        "# Efetua a operação de soma.\n",
        "n1 + n2"
      ],
      "metadata": {
        "colab": {
          "base_uri": "https://localhost:8080/"
        },
        "id": "DCzEP_syJEX4",
        "outputId": "8368a257-2226-4a4d-dd77-688f1127cd57"
      },
      "execution_count": null,
      "outputs": [
        {
          "output_type": "execute_result",
          "data": {
            "text/plain": [
              "13.036999999999999"
            ]
          },
          "metadata": {},
          "execution_count": 7
        }
      ]
    },
    {
      "cell_type": "code",
      "source": [
        "# Atribui a soma a uma nova variável.\n",
        "soma = n1 + n2"
      ],
      "metadata": {
        "id": "njlEh7jHJHCk"
      },
      "execution_count": null,
      "outputs": []
    },
    {
      "cell_type": "code",
      "source": [
        "# Apresenta o resultado da operação.\n",
        "soma"
      ],
      "metadata": {
        "colab": {
          "base_uri": "https://localhost:8080/"
        },
        "id": "jV4SdD_dMR_3",
        "outputId": "69a8dfa5-9b3f-4c78-8a62-fcb50c3afc4e"
      },
      "execution_count": null,
      "outputs": [
        {
          "output_type": "execute_result",
          "data": {
            "text/plain": [
              "13.036999999999999"
            ]
          },
          "metadata": {},
          "execution_count": 9
        }
      ]
    },
    {
      "cell_type": "code",
      "source": [
        "# Outras formas de apresentar o mesmo resultado da operação.\n",
        "print(n1 + n2)\n",
        "print(soma)\n",
        "print('A soma é: ', soma)\n",
        "print(f'A soma dos números com formação é: {soma:.2f}.')\n",
        "print(f'a soma de {n1} com {n2} é igual a {soma}.')"
      ],
      "metadata": {
        "colab": {
          "base_uri": "https://localhost:8080/"
        },
        "outputId": "57de6527-8d2d-4a51-8b9d-d3a8ff4571e7",
        "id": "lVua-yw0_Dpn"
      },
      "execution_count": null,
      "outputs": [
        {
          "output_type": "stream",
          "name": "stdout",
          "text": [
            "13.036999999999999\n",
            "13.036999999999999\n",
            "A soma é:  13.036999999999999\n",
            "A soma dos números com formação é: 13.04.\n",
            "a soma de 5.887 com 7.15 é igual a 13.036999999999999.\n"
          ]
        }
      ]
    },
    {
      "cell_type": "markdown",
      "source": [
        "## Subtração"
      ],
      "metadata": {
        "id": "KqK_N84GHaUB"
      }
    },
    {
      "cell_type": "code",
      "source": [
        "# Declara as variáveis.\n",
        "a1 = 154.587\n",
        "a2 = 10.548"
      ],
      "metadata": {
        "id": "uk1ZO85U-8m6"
      },
      "execution_count": null,
      "outputs": []
    },
    {
      "cell_type": "code",
      "source": [
        "# Efetua a operação de subtração.\n",
        "a1 - a2"
      ],
      "metadata": {
        "id": "7GJmqZhRNmw3",
        "colab": {
          "base_uri": "https://localhost:8080/"
        },
        "outputId": "9f41c73b-7e57-493d-c972-a7a9f6bd5f27"
      },
      "execution_count": null,
      "outputs": [
        {
          "output_type": "execute_result",
          "data": {
            "text/plain": [
              "144.039"
            ]
          },
          "metadata": {},
          "execution_count": 12
        }
      ]
    },
    {
      "cell_type": "code",
      "source": [
        "# Atribui a subtração a uma nova variável.\n",
        "sub = a1 - a2"
      ],
      "metadata": {
        "id": "2PYq_FOQWTWG"
      },
      "execution_count": null,
      "outputs": []
    },
    {
      "cell_type": "code",
      "source": [
        "# Apresenta o resultado da operação.\n",
        "sub"
      ],
      "metadata": {
        "id": "2z1PFpFdWQ-s",
        "colab": {
          "base_uri": "https://localhost:8080/"
        },
        "outputId": "61f3ef9f-3080-454d-924b-8afdf4d23f7f"
      },
      "execution_count": null,
      "outputs": [
        {
          "output_type": "execute_result",
          "data": {
            "text/plain": [
              "144.039"
            ]
          },
          "metadata": {},
          "execution_count": 14
        }
      ]
    },
    {
      "cell_type": "code",
      "source": [
        "# Outras formas de apresentar o mesmo resultado da operação.\n",
        "print(a1 - a2)\n",
        "print(sub)\n",
        "print('A subtração é: ', sub)\n",
        "print(f'A subt dos números é: {sub:.2f}')\n",
        "print(f'a soma de {a1} com {a2} é igual a {sub}.')"
      ],
      "metadata": {
        "id": "C_c6ME-i_Nys",
        "colab": {
          "base_uri": "https://localhost:8080/"
        },
        "outputId": "719ec429-bb77-4197-ef53-fdd2343c86f6"
      },
      "execution_count": null,
      "outputs": [
        {
          "output_type": "stream",
          "name": "stdout",
          "text": [
            "144.039\n",
            "144.039\n",
            "A subtração é:  144.039\n",
            "A subt dos números é: 144.04\n",
            "a soma de 154.587 com 10.548 é igual a 144.039.\n"
          ]
        }
      ]
    },
    {
      "cell_type": "markdown",
      "source": [
        "## Divisão"
      ],
      "metadata": {
        "id": "SVs5VEn0HeVi"
      }
    },
    {
      "cell_type": "code",
      "source": [
        "# Declara as variáveis.\n",
        "x1 = 3\n",
        "x2 = 2\n",
        "\n",
        "# Efetua a operação de divisão e atribuia uma nova variável.\n",
        "div = x1 / x2\n",
        "\n",
        "# Imprimi o resultado da operação na tela.\n",
        "print(div)\n",
        "print(f'A divisão dos números é: {div:.2f}')"
      ],
      "metadata": {
        "colab": {
          "base_uri": "https://localhost:8080/"
        },
        "id": "6suCLb0eDaOT",
        "outputId": "f75c4538-81ac-4a29-b0cb-b4cbbe92d81b"
      },
      "execution_count": null,
      "outputs": [
        {
          "output_type": "stream",
          "name": "stdout",
          "text": [
            "1.5\n",
            "A divisão dos números é: 1.50\n"
          ]
        }
      ]
    },
    {
      "cell_type": "code",
      "source": [
        "# Calcula o resto da divisão.\n",
        "rdiv = 10 % 3\n",
        "\n",
        "# Imprimi o resultado da operação na tela.\n",
        "print(rdiv)"
      ],
      "metadata": {
        "colab": {
          "base_uri": "https://localhost:8080/"
        },
        "id": "Nakd64H-FEpp",
        "outputId": "d509f32c-9738-4287-f883-60a9a053ef35"
      },
      "execution_count": null,
      "outputs": [
        {
          "output_type": "stream",
          "name": "stdout",
          "text": [
            "1\n"
          ]
        }
      ]
    },
    {
      "cell_type": "code",
      "source": [
        "# Calcula a parte inteira da divisão.\n",
        "idiv = 10 // 3\n",
        "\n",
        "# Imprimi o resultado da operação na tela.\n",
        "print(f'A parte inteira da divisão 10 por 3 é : {idiv}')"
      ],
      "metadata": {
        "colab": {
          "base_uri": "https://localhost:8080/"
        },
        "id": "RN0qTgekFlgE",
        "outputId": "ab9c9ea8-94eb-4d81-f709-9cc54b430ba1"
      },
      "execution_count": null,
      "outputs": [
        {
          "output_type": "stream",
          "name": "stdout",
          "text": [
            "A parte inteira da divisão 10 por 3 é : 3\n"
          ]
        }
      ]
    },
    {
      "cell_type": "markdown",
      "source": [
        "## Exponenciação ou potenciação"
      ],
      "metadata": {
        "id": "0g2ANTT3HiiO"
      }
    },
    {
      "cell_type": "code",
      "source": [
        "# Calcula a potenciação.\n",
        "pot = 3 ** 2 # três ao quadrado.\n",
        "print(pot)"
      ],
      "metadata": {
        "colab": {
          "base_uri": "https://localhost:8080/"
        },
        "id": "78cBZVhTGWCo",
        "outputId": "3063d294-8232-4af2-b63b-51e46d22b5d7"
      },
      "execution_count": null,
      "outputs": [
        {
          "output_type": "stream",
          "name": "stdout",
          "text": [
            "9\n"
          ]
        }
      ]
    },
    {
      "cell_type": "code",
      "source": [
        "# Utilizando a função pow().\n",
        "pow(3,2)"
      ],
      "metadata": {
        "id": "Dba-qWhoHDCB",
        "colab": {
          "base_uri": "https://localhost:8080/"
        },
        "outputId": "34a70e0c-8d77-4cb0-c4fe-309eb44b8c01"
      },
      "execution_count": null,
      "outputs": [
        {
          "output_type": "execute_result",
          "data": {
            "text/plain": [
              "9"
            ]
          },
          "metadata": {},
          "execution_count": 20
        }
      ]
    },
    {
      "cell_type": "markdown",
      "source": [
        "## Radiação"
      ],
      "metadata": {
        "id": "sFGSunWMIarn"
      }
    },
    {
      "cell_type": "code",
      "source": [
        "# Importa a biblioteca para cálculos matemáticos.\n",
        "import math as mt"
      ],
      "metadata": {
        "id": "NkFExByAHQtb"
      },
      "execution_count": null,
      "outputs": []
    },
    {
      "cell_type": "code",
      "source": [
        "# Calcula raiz quadrada do valor informado como argumento.\n",
        "mt.sqrt(144)"
      ],
      "metadata": {
        "colab": {
          "base_uri": "https://localhost:8080/"
        },
        "id": "HOyuYUH0HgdR",
        "outputId": "73a4d37a-2590-40c7-96fe-29bd3194af81"
      },
      "execution_count": null,
      "outputs": [
        {
          "output_type": "execute_result",
          "data": {
            "text/plain": [
              "12.0"
            ]
          },
          "metadata": {},
          "execution_count": 22
        }
      ]
    },
    {
      "cell_type": "markdown",
      "source": [
        "# Operadores de comparação (Booleanos)\n"
      ],
      "metadata": {
        "id": "How4ipCNIoLP"
      }
    },
    {
      "cell_type": "markdown",
      "source": [
        "## Igual que (==)"
      ],
      "metadata": {
        "id": "HHMmSeVidZoA"
      }
    },
    {
      "cell_type": "code",
      "source": [
        "# Verifica se dois valores são iguais (retornar como resposta True ou False).\n",
        "a = 3\n",
        "b = 3.0\n",
        "teste_1 = a == b\n",
        "print(teste_1)"
      ],
      "metadata": {
        "colab": {
          "base_uri": "https://localhost:8080/"
        },
        "id": "xPdC7RrPIyV3",
        "outputId": "1b81740a-1bc5-417e-8cb0-1842cd222735"
      },
      "execution_count": null,
      "outputs": [
        {
          "output_type": "stream",
          "name": "stdout",
          "text": [
            "True\n"
          ]
        }
      ]
    },
    {
      "cell_type": "code",
      "source": [
        "# As comparações também podem ser feitas com variáveis do tipo string.\n",
        "teste_2 = 'fran' == 'Fran'\n",
        "print(teste_2)"
      ],
      "metadata": {
        "colab": {
          "base_uri": "https://localhost:8080/"
        },
        "id": "MvtCCa7JJ0I7",
        "outputId": "9fbbfeac-0292-42c8-b0d4-6f336a10fc6e"
      },
      "execution_count": null,
      "outputs": [
        {
          "output_type": "stream",
          "name": "stdout",
          "text": [
            "False\n"
          ]
        }
      ]
    },
    {
      "cell_type": "markdown",
      "source": [
        "## Diferente de (!=)"
      ],
      "metadata": {
        "id": "k-S0zeYo-Ur0"
      }
    },
    {
      "cell_type": "code",
      "source": [
        "# Verifica se dois valores são diferentes (retornar True ou False)\n",
        "a = 3\n",
        "b = 3.0\n",
        "teste_3 = a != b\n",
        "print(teste_3)"
      ],
      "metadata": {
        "colab": {
          "base_uri": "https://localhost:8080/"
        },
        "outputId": "fffb72a7-6899-4f78-ebfd-efc0e0880dd8",
        "id": "LevhQ0HcL7FE"
      },
      "execution_count": null,
      "outputs": [
        {
          "output_type": "stream",
          "name": "stdout",
          "text": [
            "False\n"
          ]
        }
      ]
    },
    {
      "cell_type": "markdown",
      "source": [
        "## Maior que (>)"
      ],
      "metadata": {
        "id": "Cezjbcy2-YuA"
      }
    },
    {
      "cell_type": "code",
      "source": [
        "# Verifica se um valor é maior que o outro.\n",
        "teste_4 = 3 > 2\n",
        "print(teste_4)"
      ],
      "metadata": {
        "colab": {
          "base_uri": "https://localhost:8080/"
        },
        "id": "uFn9SrUVLVA9",
        "outputId": "8ff223e7-a6a4-480e-e274-4a0502e6c6fd"
      },
      "execution_count": null,
      "outputs": [
        {
          "output_type": "stream",
          "name": "stdout",
          "text": [
            "True\n"
          ]
        }
      ]
    },
    {
      "cell_type": "code",
      "source": [
        "# (>=)\n",
        "# Verifica se um valor é maior ou igual ao outro.\n",
        "teste_5 = 3 >= 3\n",
        "print(teste_5)"
      ],
      "metadata": {
        "colab": {
          "base_uri": "https://localhost:8080/"
        },
        "id": "sZnkEIytMNgJ",
        "outputId": "ee2302ed-6171-4720-895c-339af44c45c6"
      },
      "execution_count": null,
      "outputs": [
        {
          "output_type": "stream",
          "name": "stdout",
          "text": [
            "True\n"
          ]
        }
      ]
    },
    {
      "cell_type": "markdown",
      "source": [
        "## Menor que (<)"
      ],
      "metadata": {
        "id": "oydi7cPG-p-Z"
      }
    },
    {
      "cell_type": "code",
      "source": [
        "# (<)\n",
        "# Verifica se um valor é menor que o outro.\n",
        "teste6 = 2 < 2\n",
        "print(teste6)"
      ],
      "metadata": {
        "colab": {
          "base_uri": "https://localhost:8080/"
        },
        "id": "22vow-YlMydm",
        "outputId": "cc203c26-8fcf-4073-de0e-96a3a6c9e397"
      },
      "execution_count": null,
      "outputs": [
        {
          "output_type": "stream",
          "name": "stdout",
          "text": [
            "False\n"
          ]
        }
      ]
    },
    {
      "cell_type": "markdown",
      "source": [
        "# Operadores de atribuição\n",
        "= (equivale x = 1)\n"
      ],
      "metadata": {
        "id": "pjFGFdSPLslp"
      }
    },
    {
      "cell_type": "code",
      "source": [
        "# Atribuição direta: atribui ao lado esquerdo do sinal um valor a variável.\n",
        "nome = 'fran'\n",
        "peso = 51\n",
        "altura = 1.65"
      ],
      "metadata": {
        "id": "BvH_iTyDRjdg"
      },
      "execution_count": null,
      "outputs": []
    },
    {
      "cell_type": "markdown",
      "source": [
        "## Atribuição de soma\n",
        "+= (equivale x = x + y)\n"
      ],
      "metadata": {
        "id": "pGbktLZNVdix"
      }
    },
    {
      "cell_type": "code",
      "source": [
        "# Cria uma variável t que recebe o número inteiro 3 e depois some 1 para essa variável.\n",
        "t = 3       # cria variável .\n",
        "t = t + 1   # soma 1 a variável.\n",
        "print(t)"
      ],
      "metadata": {
        "colab": {
          "base_uri": "https://localhost:8080/"
        },
        "id": "KLQ8sf0PSN2F",
        "outputId": "7cfc3eb0-dccb-401f-999c-19845498d72d"
      },
      "execution_count": null,
      "outputs": [
        {
          "output_type": "stream",
          "name": "stdout",
          "text": [
            "4\n"
          ]
        }
      ]
    },
    {
      "cell_type": "code",
      "source": [
        "# Outra forma de resolve o mesmo problema.\n",
        "t = 3\n",
        "t = 3 + 1\n",
        "print(t)"
      ],
      "metadata": {
        "colab": {
          "base_uri": "https://localhost:8080/"
        },
        "id": "k5ETxwSaTWo5",
        "outputId": "f5140330-cb1b-48c1-b1b0-39d3fd08c4e5"
      },
      "execution_count": null,
      "outputs": [
        {
          "output_type": "stream",
          "name": "stdout",
          "text": [
            "4\n"
          ]
        }
      ]
    },
    {
      "cell_type": "code",
      "source": [
        "# Usando operador de atribuição de soma.\n",
        "t = 3\n",
        "t += 1\n",
        "print(t)"
      ],
      "metadata": {
        "colab": {
          "base_uri": "https://localhost:8080/"
        },
        "id": "UPR5cEqlUDtY",
        "outputId": "b1d88632-6e54-4262-9630-20c0dfb34b81"
      },
      "execution_count": null,
      "outputs": [
        {
          "output_type": "stream",
          "name": "stdout",
          "text": [
            "4\n"
          ]
        }
      ]
    },
    {
      "cell_type": "markdown",
      "source": [
        "## Atribuição de subtração\n",
        "-= (equivale x = x - y)"
      ],
      "metadata": {
        "id": "bkOTs64rVhBN"
      }
    },
    {
      "cell_type": "code",
      "source": [
        "# Cria uma variável z que recebe o número inteiro 5 e depois diminua 2 para essa variável.\n",
        "z = 5\n",
        "z = z - 2\n",
        "print(z)"
      ],
      "metadata": {
        "colab": {
          "base_uri": "https://localhost:8080/"
        },
        "id": "-1q-29udUsC_",
        "outputId": "25213573-6669-48cc-e2a0-259b65900c69"
      },
      "execution_count": null,
      "outputs": [
        {
          "output_type": "stream",
          "name": "stdout",
          "text": [
            "3\n"
          ]
        }
      ]
    },
    {
      "cell_type": "code",
      "source": [
        "# Outra forma de resolve o mesmo problema.\n",
        "z = 5\n",
        "z = 5 - 2\n",
        "print(z)"
      ],
      "metadata": {
        "colab": {
          "base_uri": "https://localhost:8080/"
        },
        "id": "s-wluvvuVJjY",
        "outputId": "05e37450-e9a8-407c-ce0f-c65c5efbaecc"
      },
      "execution_count": null,
      "outputs": [
        {
          "output_type": "stream",
          "name": "stdout",
          "text": [
            "3\n"
          ]
        }
      ]
    },
    {
      "cell_type": "code",
      "source": [
        "# Usando operador de atribuição de subtração.\n",
        "z = 5\n",
        "z -= 2\n",
        "print(z)"
      ],
      "metadata": {
        "colab": {
          "base_uri": "https://localhost:8080/"
        },
        "id": "juTNZuUZVrKt",
        "outputId": "04aa04bb-eb5d-433f-e997-6423b4d0f2d3"
      },
      "execution_count": null,
      "outputs": [
        {
          "output_type": "stream",
          "name": "stdout",
          "text": [
            "3\n"
          ]
        }
      ]
    },
    {
      "cell_type": "markdown",
      "source": [
        "## Atribuição de multipliação\n",
        "*= (equivale x = x * y)\n"
      ],
      "metadata": {
        "id": "WonZ5lxjX7Fo"
      }
    },
    {
      "cell_type": "code",
      "source": [
        "# Cria uma variável j que recebe o número 5 e depois multiplique este número por 2.\n",
        "j = 5\n",
        "j = j * 2\n",
        "print(j)"
      ],
      "metadata": {
        "colab": {
          "base_uri": "https://localhost:8080/"
        },
        "id": "iaBBiSfcWUny",
        "outputId": "7ea8f9d7-a9cf-4a02-972e-5b62151b93b3"
      },
      "execution_count": null,
      "outputs": [
        {
          "output_type": "stream",
          "name": "stdout",
          "text": [
            "10\n"
          ]
        }
      ]
    },
    {
      "cell_type": "code",
      "source": [
        "# Outra forma de resolve o mesmo problema.\n",
        "j = 5\n",
        "j = 5 * 2\n",
        "print(j)"
      ],
      "metadata": {
        "colab": {
          "base_uri": "https://localhost:8080/"
        },
        "id": "BiJ3fos-XHXk",
        "outputId": "792fc2b3-326a-4044-b2ce-6230e5b4ebe0"
      },
      "execution_count": null,
      "outputs": [
        {
          "output_type": "stream",
          "name": "stdout",
          "text": [
            "10\n"
          ]
        }
      ]
    },
    {
      "cell_type": "code",
      "source": [
        "# Usando operador de atribuição de multiplicação.\n",
        "j = 5\n",
        "j *= 2\n",
        "print(j)"
      ],
      "metadata": {
        "colab": {
          "base_uri": "https://localhost:8080/"
        },
        "id": "cQC2K2cgXhsA",
        "outputId": "6e62fa34-b5c0-4321-b53d-400173a37cde"
      },
      "execution_count": null,
      "outputs": [
        {
          "output_type": "stream",
          "name": "stdout",
          "text": [
            "10\n"
          ]
        }
      ]
    },
    {
      "cell_type": "markdown",
      "source": [
        "## Atribuição de divisão\n",
        "/= (equivale x = x / y)"
      ],
      "metadata": {
        "id": "MtBBwmSVYROg"
      }
    },
    {
      "cell_type": "code",
      "source": [
        "# Cria uma variável k que recebe o número 4 e depois receba o resto da divisão dela por 2.\n",
        "k = 4\n",
        "k = k / 2\n",
        "print(k)"
      ],
      "metadata": {
        "colab": {
          "base_uri": "https://localhost:8080/"
        },
        "outputId": "b148e239-160c-4825-95f2-0c97fac0bbc8",
        "id": "Il0q1Np9cWQD"
      },
      "execution_count": null,
      "outputs": [
        {
          "output_type": "stream",
          "name": "stdout",
          "text": [
            "2.0\n"
          ]
        }
      ]
    },
    {
      "cell_type": "code",
      "source": [
        "# Outra forma de resolve o mesmo problema.\n",
        "k = 4\n",
        "k = 4 / 2\n",
        "print(k)"
      ],
      "metadata": {
        "colab": {
          "base_uri": "https://localhost:8080/"
        },
        "id": "wRCqBZlGcslY",
        "outputId": "2ea85da1-2688-46f0-85d6-9e29e1ed89ac"
      },
      "execution_count": null,
      "outputs": [
        {
          "output_type": "stream",
          "name": "stdout",
          "text": [
            "2.0\n"
          ]
        }
      ]
    },
    {
      "cell_type": "code",
      "source": [
        "# Usando atribuição de resto da divisão.\n",
        "k = 4\n",
        "k /= 2\n",
        "print(k)"
      ],
      "metadata": {
        "colab": {
          "base_uri": "https://localhost:8080/"
        },
        "outputId": "3aeb7f20-1b07-4e57-bec8-18a181fcc773",
        "id": "MrkTvSSXcWQE"
      },
      "execution_count": null,
      "outputs": [
        {
          "output_type": "stream",
          "name": "stdout",
          "text": [
            "2.0\n"
          ]
        }
      ]
    },
    {
      "cell_type": "markdown",
      "source": [
        "## Atribuição do resto da divisão\n",
        "%= (equivale x = x % y)\n"
      ],
      "metadata": {
        "id": "4uw8_9w_YV-I"
      }
    },
    {
      "cell_type": "code",
      "source": [
        "# Cria uma variável b que recebe o número 7 e depois receba o resto da divisão dela por 2.\n",
        "b = 7\n",
        "b = b % 2\n",
        "print(b)"
      ],
      "metadata": {
        "colab": {
          "base_uri": "https://localhost:8080/"
        },
        "id": "NTj6Ao3SYTmp",
        "outputId": "0191a357-6780-4be4-e4df-b664b4b05f01"
      },
      "execution_count": null,
      "outputs": [
        {
          "output_type": "stream",
          "name": "stdout",
          "text": [
            "1\n"
          ]
        }
      ]
    },
    {
      "cell_type": "code",
      "source": [
        "# Outra forma de resolve o mesmo problema.\n",
        "b = 7\n",
        "b = 7 % 2\n",
        "print(b)"
      ],
      "metadata": {
        "colab": {
          "base_uri": "https://localhost:8080/"
        },
        "id": "y5HNH06hc_-j",
        "outputId": "831a1d65-12ca-42ac-ffa4-12743434eb10"
      },
      "execution_count": null,
      "outputs": [
        {
          "output_type": "stream",
          "name": "stdout",
          "text": [
            "1\n"
          ]
        }
      ]
    },
    {
      "cell_type": "code",
      "source": [
        "# Usando atribuição de resto da divisão.\n",
        "b = 7\n",
        "b %= 2\n",
        "print(b)"
      ],
      "metadata": {
        "colab": {
          "base_uri": "https://localhost:8080/"
        },
        "id": "FvTD7K9oZElh",
        "outputId": "d6b167b9-6252-4df6-e89e-df69e469ca98"
      },
      "execution_count": null,
      "outputs": [
        {
          "output_type": "stream",
          "name": "stdout",
          "text": [
            "1\n"
          ]
        }
      ]
    },
    {
      "cell_type": "markdown",
      "source": [
        "# Operadores lógicos"
      ],
      "metadata": {
        "id": "tsXiE2r6nsB0"
      }
    },
    {
      "cell_type": "markdown",
      "source": [
        "## AND ou &\n",
        "Retorna verdadeiro somente se TODAS as condições de uma comparação forem satisfeitas."
      ],
      "metadata": {
        "id": "pxPNVZ6RZ-Lb"
      }
    },
    {
      "cell_type": "code",
      "source": [
        "teste_8 = 3 >= 2 and 3 != 2 and 3 < 4 # V and V and V.\n",
        "print(teste_8)"
      ],
      "metadata": {
        "colab": {
          "base_uri": "https://localhost:8080/"
        },
        "id": "Cqy1eRmeaBzN",
        "outputId": "5fb5c20f-9627-43a2-8cc7-74c0258ed7b3"
      },
      "execution_count": null,
      "outputs": [
        {
          "output_type": "stream",
          "name": "stdout",
          "text": [
            "True\n"
          ]
        }
      ]
    },
    {
      "cell_type": "code",
      "source": [
        "teste_9 = (3 >= 2) & (3 != 2) & (3 < 4) # v & v & V.\n",
        "print(teste_9)"
      ],
      "metadata": {
        "colab": {
          "base_uri": "https://localhost:8080/"
        },
        "id": "FpQwwVM_gnVt",
        "outputId": "61b2a5d9-111e-43f3-99da-74a2349f7011"
      },
      "execution_count": null,
      "outputs": [
        {
          "output_type": "stream",
          "name": "stdout",
          "text": [
            "True\n"
          ]
        }
      ]
    },
    {
      "cell_type": "markdown",
      "source": [
        "## OR ou |\n",
        "Retorna verdadeiro se PELO MENOS UM dos elementos das condições for verdadeiro."
      ],
      "metadata": {
        "id": "yjT4fIyXoB4y"
      }
    },
    {
      "cell_type": "code",
      "source": [
        "teste_10 = 3 >= 2 or 3 == 2 or 3 > 4 # v or f or f.\n",
        "print(teste_10)"
      ],
      "metadata": {
        "colab": {
          "base_uri": "https://localhost:8080/"
        },
        "id": "Tx9OdqXGh1b8",
        "outputId": "8a3ff79f-7216-458f-a4b6-702bfa47a1e7"
      },
      "execution_count": null,
      "outputs": [
        {
          "output_type": "stream",
          "name": "stdout",
          "text": [
            "True\n"
          ]
        }
      ]
    },
    {
      "cell_type": "code",
      "source": [
        "teste_11 = 1 >= 2 or 3 == 2 or 3 > 4 # f or f or f.\n",
        "print(teste_11)"
      ],
      "metadata": {
        "colab": {
          "base_uri": "https://localhost:8080/"
        },
        "id": "WDyIlxhEibcg",
        "outputId": "35dad440-64bc-490b-9e39-5d1d780845da"
      },
      "execution_count": null,
      "outputs": [
        {
          "output_type": "stream",
          "name": "stdout",
          "text": [
            "False\n"
          ]
        }
      ]
    },
    {
      "cell_type": "code",
      "source": [
        "teste_12 = (3 >= 2) | (3 == 2) | (3 > 4) # v or f or f.\n",
        "print(teste_12)"
      ],
      "metadata": {
        "colab": {
          "base_uri": "https://localhost:8080/"
        },
        "id": "0sowBq5fi1NI",
        "outputId": "2f427738-57f3-45d5-e682-badd3361bf45"
      },
      "execution_count": null,
      "outputs": [
        {
          "output_type": "stream",
          "name": "stdout",
          "text": [
            "True\n"
          ]
        }
      ]
    },
    {
      "cell_type": "markdown",
      "source": [
        "## NOT"
      ],
      "metadata": {
        "id": "XaWKmlQkotRx"
      }
    },
    {
      "cell_type": "code",
      "source": [
        "teste_13 = not 3 >= 2 # v (transforma True em False).\n",
        "print(teste_13)"
      ],
      "metadata": {
        "colab": {
          "base_uri": "https://localhost:8080/"
        },
        "id": "GD6M3HBugdoi",
        "outputId": "f71da2f5-56a2-4ef2-edea-43457718cabb"
      },
      "execution_count": null,
      "outputs": [
        {
          "output_type": "stream",
          "name": "stdout",
          "text": [
            "False\n"
          ]
        }
      ]
    },
    {
      "cell_type": "markdown",
      "source": [
        "# Conversão de variáveis"
      ],
      "metadata": {
        "id": "4YnW_kqJjzTZ"
      }
    },
    {
      "cell_type": "markdown",
      "source": [
        "## Conversão de int para float"
      ],
      "metadata": {
        "id": "WVdRK1ITe8-i"
      }
    },
    {
      "cell_type": "code",
      "source": [
        "# Atribui um valor inteiro a variável.\n",
        "num_int = 10\n",
        "\n",
        "# Conversão de int para float.\n",
        "num_float = float(num_int)\n",
        "\n",
        "# Checando a conversão.\n",
        "print(type(num_int))\n",
        "print(type(num_float))"
      ],
      "metadata": {
        "id": "Q3eSngWoj2w6",
        "colab": {
          "base_uri": "https://localhost:8080/"
        },
        "outputId": "0e78b2d3-8f12-40e7-e003-1c12edcdd7b9"
      },
      "execution_count": null,
      "outputs": [
        {
          "output_type": "stream",
          "name": "stdout",
          "text": [
            "<class 'int'>\n",
            "<class 'float'>\n"
          ]
        }
      ]
    },
    {
      "cell_type": "code",
      "source": [
        "# Checando se transformamos de 10 para 10.0.\n",
        "print(num_float)"
      ],
      "metadata": {
        "colab": {
          "base_uri": "https://localhost:8080/"
        },
        "id": "G6nkVkggllZ7",
        "outputId": "8b0ebb4b-a7c2-4c31-96a6-494e4ed4760d"
      },
      "execution_count": null,
      "outputs": [
        {
          "output_type": "stream",
          "name": "stdout",
          "text": [
            "10.0\n"
          ]
        }
      ]
    },
    {
      "cell_type": "markdown",
      "source": [
        "## Conversão de int para str"
      ],
      "metadata": {
        "id": "QzSHwkX8fEeP"
      }
    },
    {
      "cell_type": "code",
      "source": [
        "# Atribui um valor inteiro a variável.\n",
        "num_int = 10\n",
        "\n",
        "# Conversão de int pata string.\n",
        "num_str = str(num_int)\n",
        "\n",
        "# Checando a conversão.\n",
        "print(type(num_int))\n",
        "print(type(num_str))"
      ],
      "metadata": {
        "id": "uJqaHefNmYkX",
        "colab": {
          "base_uri": "https://localhost:8080/"
        },
        "outputId": "a635a8a5-9e46-4240-b8fd-87d852354d78"
      },
      "execution_count": null,
      "outputs": [
        {
          "output_type": "stream",
          "name": "stdout",
          "text": [
            "<class 'int'>\n",
            "<class 'str'>\n"
          ]
        }
      ]
    },
    {
      "cell_type": "code",
      "source": [
        "# Checando se transformamos de 10 para '10'.\n",
        "print(num_str)"
      ],
      "metadata": {
        "id": "POpd9ZCQnEOH",
        "colab": {
          "base_uri": "https://localhost:8080/"
        },
        "outputId": "f43aea38-a9c3-461b-f65c-d27264897676"
      },
      "execution_count": null,
      "outputs": [
        {
          "output_type": "stream",
          "name": "stdout",
          "text": [
            "10\n"
          ]
        }
      ]
    },
    {
      "cell_type": "markdown",
      "source": [
        "## Conversão de floar para int"
      ],
      "metadata": {
        "id": "d6FrVOZdfHM3"
      }
    },
    {
      "cell_type": "code",
      "source": [
        "# Atribui um valor decimal a variável.\n",
        "num_float = 10.5\n",
        "\n",
        "# Conversão de float para int.\n",
        "num_int = int(num_float)\n",
        "\n",
        "# Checando a conversão.\n",
        "print(type(num_float))\n",
        "print(type(num_int))"
      ],
      "metadata": {
        "id": "6RjgaNuZnlyZ"
      },
      "execution_count": null,
      "outputs": []
    },
    {
      "cell_type": "code",
      "source": [
        "# Checando a conversão.\n",
        "print(num_int)"
      ],
      "metadata": {
        "id": "RHaQW8sIoDVu",
        "outputId": "2745646e-d668-4d9b-abb7-75c2258aaedd",
        "colab": {
          "base_uri": "https://localhost:8080/"
        }
      },
      "execution_count": null,
      "outputs": [
        {
          "output_type": "stream",
          "name": "stdout",
          "text": [
            "10\n"
          ]
        }
      ]
    }
  ]
}