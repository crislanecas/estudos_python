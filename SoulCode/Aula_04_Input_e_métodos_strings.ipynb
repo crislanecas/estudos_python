{
  "nbformat": 4,
  "nbformat_minor": 0,
  "metadata": {
    "colab": {
      "provenance": [],
      "toc_visible": true,
      "authorship_tag": "ABX9TyOPebMdWWGmuW9AbBS7c/dl",
      "include_colab_link": true
    },
    "kernelspec": {
      "name": "python3",
      "display_name": "Python 3"
    },
    "language_info": {
      "name": "python"
    }
  },
  "cells": [
    {
      "cell_type": "markdown",
      "metadata": {
        "id": "view-in-github",
        "colab_type": "text"
      },
      "source": [
        "<a href=\"https://colab.research.google.com/github/crislanecas/estudos_python/blob/main/SoulCode/Aula_04_Input_e_m%C3%A9todos_strings.ipynb\" target=\"_parent\"><img src=\"https://colab.research.google.com/assets/colab-badge.svg\" alt=\"Open In Colab\"/></a>"
      ]
    },
    {
      "cell_type": "markdown",
      "source": [
        "## Coletando informações do usuário"
      ],
      "metadata": {
        "id": "PtNuvtAaBb9N"
      }
    },
    {
      "cell_type": "code",
      "execution_count": 3,
      "metadata": {
        "colab": {
          "base_uri": "https://localhost:8080/"
        },
        "id": "g4M4N_DNAhVo",
        "outputId": "d4295f2d-de5b-402c-c509-4611a1867fcc"
      },
      "outputs": [
        {
          "output_type": "stream",
          "name": "stdout",
          "text": [
            "Digite seu nome: Maria\n",
            "O nome digitado é:  Maria\n"
          ]
        }
      ],
      "source": [
        "# Coletando informações do usuário com input.\n",
        "nome = input('Digite seu nome: ')\n",
        "print('O nome digitado é: ', nome)"
      ]
    },
    {
      "cell_type": "code",
      "source": [
        "# Coletando informações numéricas do usuário com input.\n",
        "idade = int(input('Informe sua idade: '))\n",
        "print('A idade digitado é: ', idade)"
      ],
      "metadata": {
        "colab": {
          "base_uri": "https://localhost:8080/"
        },
        "id": "_7oitn-qC4AI",
        "outputId": "1634caf2-4d58-4553-e740-a886e87282bc"
      },
      "execution_count": 4,
      "outputs": [
        {
          "output_type": "stream",
          "name": "stdout",
          "text": [
            "Informe sua idade: 23\n",
            "A idade digitado é:  23\n"
          ]
        }
      ]
    },
    {
      "cell_type": "code",
      "source": [
        "# Coletando informações numéricas do usuário com input.\n",
        "peso = int(input('Informe sua peso: '))\n",
        "print('O peso digitado é: ', peso)"
      ],
      "metadata": {
        "colab": {
          "base_uri": "https://localhost:8080/"
        },
        "id": "DQNJ7fUGFYqw",
        "outputId": "1edc404c-857f-4650-ec1d-a61d29698440"
      },
      "execution_count": 5,
      "outputs": [
        {
          "output_type": "stream",
          "name": "stdout",
          "text": [
            "Informe sua peso: 60\n",
            "O peso digitado é:  60\n"
          ]
        }
      ]
    },
    {
      "cell_type": "code",
      "source": [
        "# Coletando informações numéricas do usuário com input.\n",
        "altura = float(input('Informe sua altura: '))\n",
        "print('A altura digitado é: ', altura)"
      ],
      "metadata": {
        "colab": {
          "base_uri": "https://localhost:8080/"
        },
        "id": "06UsieBpF4Qi",
        "outputId": "a7799086-e42a-456a-ee11-d9699ad91388"
      },
      "execution_count": 6,
      "outputs": [
        {
          "output_type": "stream",
          "name": "stdout",
          "text": [
            "Informe sua altura: 1.70\n",
            "A altura digitado é:  1.7\n"
          ]
        }
      ]
    },
    {
      "cell_type": "code",
      "source": [
        "# Crie um código que calcula o IMC e imprimi o resultado na tela.\n",
        "\n",
        "# Coletando informações numéricas do usuário com input.\n",
        "nome = input('Digite seu nome: ')\n",
        "peso = int(input('Informe seu peso: '))\n",
        "altura = float(input('Informe sua altura: '))\n",
        "\n",
        "# Calculando o IMC.\n",
        "imc = peso / altura ** 2\n",
        "\n",
        "# Imprimi resultado na tela.\n",
        "print(f'{nome}, seu imc é: {imc:.2f}')"
      ],
      "metadata": {
        "id": "zPEPOhr_G7S9",
        "colab": {
          "base_uri": "https://localhost:8080/"
        },
        "outputId": "dda3acb1-61ce-424e-e891-b4ce90d650cd"
      },
      "execution_count": 7,
      "outputs": [
        {
          "output_type": "stream",
          "name": "stdout",
          "text": [
            "Digite seu nome: Crislane\n",
            "Informe seu peso: 65\n",
            "Informe sua altura: 1.65\n",
            "Crislane, seu imc é: 23.88\n"
          ]
        }
      ]
    },
    {
      "cell_type": "code",
      "source": [
        "# Outra forma de escrever o resultado.\n",
        "print(nome + ', seu imc é:', round(imc,2))"
      ],
      "metadata": {
        "colab": {
          "base_uri": "https://localhost:8080/"
        },
        "id": "Xvxf3ORdJw2y",
        "outputId": "579443eb-0c9c-480b-fc24-8b9cb0503cb0"
      },
      "execution_count": 8,
      "outputs": [
        {
          "output_type": "stream",
          "name": "stdout",
          "text": [
            "Crislane, seu imc é: 23.88\n"
          ]
        }
      ]
    },
    {
      "cell_type": "code",
      "source": [
        "# Outras formas de escrever o resultado.\n",
        "print(nome , ', seu imc é:', round(imc,2))\n",
        "print(nome + ', seu imc é:', imc)\n",
        "print(nome + ', seu imc é: ' + str(imc)) # concatenação de strings."
      ],
      "metadata": {
        "colab": {
          "base_uri": "https://localhost:8080/"
        },
        "id": "mWjAw9EpKdZc",
        "outputId": "e8c28f9f-09ad-4350-845d-dcc48f17051d"
      },
      "execution_count": 9,
      "outputs": [
        {
          "output_type": "stream",
          "name": "stdout",
          "text": [
            "Crislane , seu imc é: 23.88\n",
            "Crislane, seu imc é: 23.875114784205696\n",
            "Crislane, seu imc é: 23.875114784205696\n"
          ]
        }
      ]
    },
    {
      "cell_type": "markdown",
      "source": [
        "## **String - Encontrando um caracter pelo índice**"
      ],
      "metadata": {
        "id": "aFt0lm7rSre-"
      }
    },
    {
      "cell_type": "markdown",
      "source": [
        "### Selecionando string"
      ],
      "metadata": {
        "id": "VQKHCgozyX7o"
      }
    },
    {
      "cell_type": "code",
      "source": [
        "# Define a string.\n",
        "nome = 'Franciane'"
      ],
      "metadata": {
        "id": "UzoRJH-FTBD_"
      },
      "execution_count": 10,
      "outputs": []
    },
    {
      "cell_type": "code",
      "source": [
        "# Sintaxe básica de localização de caracter em uma string.\n",
        "nome[0]"
      ],
      "metadata": {
        "colab": {
          "base_uri": "https://localhost:8080/",
          "height": 36
        },
        "id": "pH7xd07fUEB8",
        "outputId": "c3619ab2-d124-4b61-c53a-6f82af3e1f7a"
      },
      "execution_count": 11,
      "outputs": [
        {
          "output_type": "execute_result",
          "data": {
            "text/plain": [
              "'F'"
            ],
            "application/vnd.google.colaboratory.intrinsic+json": {
              "type": "string"
            }
          },
          "metadata": {},
          "execution_count": 11
        }
      ]
    },
    {
      "cell_type": "code",
      "source": [
        "# Imprimi na tela.\n",
        "print('O primeiro caracter da string é: ', nome[0])"
      ],
      "metadata": {
        "colab": {
          "base_uri": "https://localhost:8080/"
        },
        "id": "8ZY4Ym6BUvRk",
        "outputId": "b8259e3e-8d15-4d23-b769-0cbafc589b6c"
      },
      "execution_count": 12,
      "outputs": [
        {
          "output_type": "stream",
          "name": "stdout",
          "text": [
            "O primeiro caracter da string é:  F\n"
          ]
        }
      ]
    },
    {
      "cell_type": "code",
      "source": [
        "# Imprimi na tela.\n",
        "print('O último caracter da string é: ', nome[8])\n",
        "print('O último caracter da string é: ', nome[-1])"
      ],
      "metadata": {
        "colab": {
          "base_uri": "https://localhost:8080/"
        },
        "id": "85uhAjg8Vi2y",
        "outputId": "7e053960-5271-468f-f4ae-fd1c9b55edbd"
      },
      "execution_count": 13,
      "outputs": [
        {
          "output_type": "stream",
          "name": "stdout",
          "text": [
            "O último caracter da string é:  e\n",
            "O último caracter da string é:  e\n"
          ]
        }
      ]
    },
    {
      "cell_type": "code",
      "source": [
        "# Imprimi na tela o terceiro carater da string.\n",
        "print('O 3° caracter da string é: ', nome[2])\n",
        "\n",
        "# Imprima na tela o quinto caracter da string.\n",
        "print('O 5° caracter da string é: ', nome[4])"
      ],
      "metadata": {
        "colab": {
          "base_uri": "https://localhost:8080/"
        },
        "id": "zGlI1WnQWbLi",
        "outputId": "bdb09cd9-daae-437a-90c1-f1f3cbdbb9e8"
      },
      "execution_count": 14,
      "outputs": [
        {
          "output_type": "stream",
          "name": "stdout",
          "text": [
            "O 3° caracter da string é:  a\n",
            "O 5° caracter da string é:  c\n"
          ]
        }
      ]
    },
    {
      "cell_type": "code",
      "source": [
        "# Definie uma string sendo esta o seu nome.\n",
        "nome = 'Crislane'"
      ],
      "metadata": {
        "id": "x_Q6n-5gcJOG"
      },
      "execution_count": 15,
      "outputs": []
    },
    {
      "cell_type": "code",
      "source": [
        "# Imprimi na tela o primeiro caracter do seu nome (normal e reverso).\n",
        "print('O primeiro caracter do meu nome é: ', nome[0])\n",
        "print('O primeiro caracter do meu nome é: ', nome[-8])"
      ],
      "metadata": {
        "colab": {
          "base_uri": "https://localhost:8080/"
        },
        "id": "jpm4YDwRcNLG",
        "outputId": "6c270763-27f0-4217-ede6-11c98f857a17"
      },
      "execution_count": 16,
      "outputs": [
        {
          "output_type": "stream",
          "name": "stdout",
          "text": [
            "O primeiro caracter do meu nome é:  C\n",
            "O primeiro caracter do meu nome é:  C\n"
          ]
        }
      ]
    },
    {
      "cell_type": "code",
      "source": [
        "# Imprimi na tela o último caracter do seu nome (normal e reverso).\n",
        "print('O último caracter do meu nome é: ', nome[7])\n",
        "print('O último caracter do meu nome é: ', nome[-1])"
      ],
      "metadata": {
        "colab": {
          "base_uri": "https://localhost:8080/"
        },
        "id": "HkLYDuS9cNsz",
        "outputId": "19188dd6-3de3-4640-bf23-2f6afd9b248e"
      },
      "execution_count": 17,
      "outputs": [
        {
          "output_type": "stream",
          "name": "stdout",
          "text": [
            "O último caracter do meu nome é:  e\n",
            "O último caracter do meu nome é:  e\n"
          ]
        }
      ]
    },
    {
      "cell_type": "code",
      "source": [
        "# Imprimi na tela o terceiro caracter do seu nome (normal e reverso).\n",
        "print('O 3° caracter do meu nome é: ', nome[2])\n",
        "print('O 3° caracter do meu nome é: ', nome[-6])"
      ],
      "metadata": {
        "colab": {
          "base_uri": "https://localhost:8080/"
        },
        "id": "Bah5jyy0cOMU",
        "outputId": "3d502d71-fb6e-43d7-e2d0-a0c7963b9bde"
      },
      "execution_count": 18,
      "outputs": [
        {
          "output_type": "stream",
          "name": "stdout",
          "text": [
            "O 3° caracter do meu nome é:  i\n",
            "O 3° caracter do meu nome é:  i\n"
          ]
        }
      ]
    },
    {
      "cell_type": "markdown",
      "source": [
        "### Fatiando string"
      ],
      "metadata": {
        "id": "xmCUL6Qiypfh"
      }
    },
    {
      "cell_type": "code",
      "source": [
        "# Fatiamento de uma string (slicing).\n",
        "nome = 'FRANCIANE'\n",
        "\n",
        "# F   R   A   N   C   I   A   N   E\n",
        "# 0   1   2   3   4   5   6   7   8\n",
        "# 1°  2°  3°  4°  5°  6°  7°  8°  9°"
      ],
      "metadata": {
        "id": "O29T2TEEioya"
      },
      "execution_count": 19,
      "outputs": []
    },
    {
      "cell_type": "code",
      "source": [
        "# Imprima na tela a sequencia do segundo ao quinto caracter\n",
        "# RANC\n",
        "nome[1:5] # Sintaxe"
      ],
      "metadata": {
        "colab": {
          "base_uri": "https://localhost:8080/",
          "height": 36
        },
        "id": "noviey3khlqP",
        "outputId": "480e8cec-a836-449b-d709-91821c76ddf0"
      },
      "execution_count": 20,
      "outputs": [
        {
          "output_type": "execute_result",
          "data": {
            "text/plain": [
              "'RANC'"
            ],
            "application/vnd.google.colaboratory.intrinsic+json": {
              "type": "string"
            }
          },
          "metadata": {},
          "execution_count": 20
        }
      ]
    },
    {
      "cell_type": "code",
      "source": [
        "# Imprima na tela a sequencia do primeiro até o quinto caracter.\n",
        "nome[0:5]"
      ],
      "metadata": {
        "colab": {
          "base_uri": "https://localhost:8080/",
          "height": 36
        },
        "id": "h_KGGyZ3lAuh",
        "outputId": "9805119b-55c8-45cd-f0aa-fed701713025"
      },
      "execution_count": 21,
      "outputs": [
        {
          "output_type": "execute_result",
          "data": {
            "text/plain": [
              "'FRANC'"
            ],
            "application/vnd.google.colaboratory.intrinsic+json": {
              "type": "string"
            }
          },
          "metadata": {},
          "execution_count": 21
        }
      ]
    },
    {
      "cell_type": "markdown",
      "source": [
        "# Métodos strings"
      ],
      "metadata": {
        "id": "thbu_UGFrvtJ"
      }
    },
    {
      "cell_type": "code",
      "source": [
        "# Sinal de (+) para concatenar (juntar) string.\n",
        "nome = 'Crislane'\n",
        "sobrenome = 'Silva'\n",
        "print(nome +' '+ sobrenome)"
      ],
      "metadata": {
        "colab": {
          "base_uri": "https://localhost:8080/"
        },
        "id": "75ivT07irweX",
        "outputId": "ac6bf2be-933c-429e-fc1e-8b0bae4bf5d3"
      },
      "execution_count": 22,
      "outputs": [
        {
          "output_type": "stream",
          "name": "stdout",
          "text": [
            "Crislane Silva\n"
          ]
        }
      ]
    },
    {
      "cell_type": "markdown",
      "source": [
        "## len()"
      ],
      "metadata": {
        "id": "7JOiaNAKwYdk"
      }
    },
    {
      "cell_type": "code",
      "source": [
        "# Conta o número de caracteres de uma string.\n",
        "nome = 'Crislane'\n",
        "contagem = len(nome)\n",
        "print(nome, 'tem', contagem, 'caracteres')"
      ],
      "metadata": {
        "colab": {
          "base_uri": "https://localhost:8080/"
        },
        "id": "0KBEBHnGtOqA",
        "outputId": "0da2e8b7-7b4a-4602-ae0b-a1df4721e4f5"
      },
      "execution_count": 23,
      "outputs": [
        {
          "output_type": "stream",
          "name": "stdout",
          "text": [
            "Crislane tem 8 caracteres\n"
          ]
        }
      ]
    },
    {
      "cell_type": "code",
      "source": [
        "# Conta o número de caracteres de uma string.\n",
        "# Obs.: Espaços são contabilizados.\n",
        "nome = ' Crislane '\n",
        "contagem = len(nome)\n",
        "print(nome, 'tem', contagem, 'caracteres')"
      ],
      "metadata": {
        "colab": {
          "base_uri": "https://localhost:8080/"
        },
        "id": "sLV9nvpktUh9",
        "outputId": "19950da3-30f2-4ef1-a66f-850c3c17071d"
      },
      "execution_count": 24,
      "outputs": [
        {
          "output_type": "stream",
          "name": "stdout",
          "text": [
            " Crislane  tem 10 caracteres\n"
          ]
        }
      ]
    },
    {
      "cell_type": "markdown",
      "source": [
        "## strim()"
      ],
      "metadata": {
        "id": "31TKkbkGwUC0"
      }
    },
    {
      "cell_type": "code",
      "source": [
        "# Remove caracteres indesejados no incio e no final de uma string.\n",
        "nome = nome.strip()\n",
        "\n",
        "# Verificando se o método foi aplicado.\n",
        "print(len(nome))"
      ],
      "metadata": {
        "id": "ZzBiS0IeuMqI",
        "colab": {
          "base_uri": "https://localhost:8080/"
        },
        "outputId": "87d0afa7-794e-4d18-a44d-89e00c343a11"
      },
      "execution_count": 25,
      "outputs": [
        {
          "output_type": "stream",
          "name": "stdout",
          "text": [
            "8\n"
          ]
        }
      ]
    },
    {
      "cell_type": "markdown",
      "source": [
        "## replace()"
      ],
      "metadata": {
        "id": "x-waLueuwPM5"
      }
    },
    {
      "cell_type": "code",
      "source": [
        "# Atribui um valor a variável.\n",
        "preco = 'R$ 10,50'\n",
        "print(preco)"
      ],
      "metadata": {
        "colab": {
          "base_uri": "https://localhost:8080/"
        },
        "id": "u75Zen_5ugpI",
        "outputId": "926fe237-46e9-4323-cd5c-ac7a61efad34"
      },
      "execution_count": 26,
      "outputs": [
        {
          "output_type": "stream",
          "name": "stdout",
          "text": [
            "R$ 10,50\n"
          ]
        }
      ]
    },
    {
      "cell_type": "code",
      "source": [
        "# Substitui um caracter por outro.\n",
        "preco = preco.replace(',','.')\n",
        "\n",
        "# Verifica se o método foi aplicado.\n",
        "print(preco)"
      ],
      "metadata": {
        "id": "8XPoLCa2wDb1",
        "outputId": "2a29f5ca-c0c0-45f7-e332-d5db7c07f6b7",
        "colab": {
          "base_uri": "https://localhost:8080/"
        }
      },
      "execution_count": 27,
      "outputs": [
        {
          "output_type": "stream",
          "name": "stdout",
          "text": [
            "R$ 10.50\n"
          ]
        }
      ]
    },
    {
      "cell_type": "code",
      "source": [
        "# Coletando novos valores para a variável.\n",
        "nome = input('Informe seu nome: ')\n",
        "print('O nome digitado é: ', nome)"
      ],
      "metadata": {
        "colab": {
          "base_uri": "https://localhost:8080/"
        },
        "id": "-Oxb8jy-xS3C",
        "outputId": "7ac0a334-ee1b-4cb8-d988-9b3b99e2a52a"
      },
      "execution_count": 28,
      "outputs": [
        {
          "output_type": "stream",
          "name": "stdout",
          "text": [
            "Informe seu nome: Ana Clara\n",
            "O nome digitado é:  Ana Clara\n"
          ]
        }
      ]
    },
    {
      "cell_type": "markdown",
      "source": [
        "## capitalize()"
      ],
      "metadata": {
        "id": "iGW-uqsYycWa"
      }
    },
    {
      "cell_type": "code",
      "source": [
        "# Altera primeira letra para maiúscula.\n",
        "nome = nome.capitalize()\n",
        "nome"
      ],
      "metadata": {
        "colab": {
          "base_uri": "https://localhost:8080/",
          "height": 36
        },
        "id": "UYqafIfAxxSW",
        "outputId": "181543a6-f262-43ef-8923-728be0ba7d85"
      },
      "execution_count": 29,
      "outputs": [
        {
          "output_type": "execute_result",
          "data": {
            "text/plain": [
              "'Ana clara'"
            ],
            "application/vnd.google.colaboratory.intrinsic+json": {
              "type": "string"
            }
          },
          "metadata": {},
          "execution_count": 29
        }
      ]
    },
    {
      "cell_type": "markdown",
      "source": [
        "## title()"
      ],
      "metadata": {
        "id": "EO22OweTl9-E"
      }
    },
    {
      "cell_type": "code",
      "source": [
        "# Deixa as primeiras letras maiúsculas.\n",
        "nome = nome.title()\n",
        "print(nome)"
      ],
      "metadata": {
        "id": "5ys-Ke9Jsj0n",
        "colab": {
          "base_uri": "https://localhost:8080/"
        },
        "outputId": "e60554ab-9662-4897-a35c-f9ca6ee2baec"
      },
      "execution_count": 30,
      "outputs": [
        {
          "output_type": "stream",
          "name": "stdout",
          "text": [
            "Ana Clara\n"
          ]
        }
      ]
    },
    {
      "cell_type": "markdown",
      "source": [
        "## casefold()"
      ],
      "metadata": {
        "id": "jtE4a0gry1Yu"
      }
    },
    {
      "cell_type": "code",
      "source": [
        "# Altera todas as letras para minúsculas.\n",
        "nome = nome.casefold()\n",
        "nome"
      ],
      "metadata": {
        "id": "-UxWJAoHy050",
        "outputId": "299de3e9-5600-4c5c-c0f0-13a586e6f027",
        "colab": {
          "base_uri": "https://localhost:8080/",
          "height": 36
        }
      },
      "execution_count": 31,
      "outputs": [
        {
          "output_type": "execute_result",
          "data": {
            "text/plain": [
              "'ana clara'"
            ],
            "application/vnd.google.colaboratory.intrinsic+json": {
              "type": "string"
            }
          },
          "metadata": {},
          "execution_count": 31
        }
      ]
    },
    {
      "cell_type": "markdown",
      "source": [
        "## upper()"
      ],
      "metadata": {
        "id": "ZpMODEbnyZkX"
      }
    },
    {
      "cell_type": "code",
      "source": [
        "# Altera todas as letras para maiúsculas.\n",
        "nome = nome.upper()\n",
        "nome"
      ],
      "metadata": {
        "colab": {
          "base_uri": "https://localhost:8080/",
          "height": 36
        },
        "id": "CqZKCnI9yIPW",
        "outputId": "e9f07ef1-09b2-4f01-ad19-3a751b87175a"
      },
      "execution_count": 32,
      "outputs": [
        {
          "output_type": "execute_result",
          "data": {
            "text/plain": [
              "'ANA CLARA'"
            ],
            "application/vnd.google.colaboratory.intrinsic+json": {
              "type": "string"
            }
          },
          "metadata": {},
          "execution_count": 32
        }
      ]
    },
    {
      "cell_type": "markdown",
      "source": [
        "## lower()"
      ],
      "metadata": {
        "id": "ib17fPFdmOPZ"
      }
    },
    {
      "cell_type": "code",
      "source": [
        "# Altera todas as letras para minúsculas, de acordo com a língua adotada.\n",
        "nome = nome.lower()\n",
        "nome"
      ],
      "metadata": {
        "id": "ouibtGZlmQna",
        "colab": {
          "base_uri": "https://localhost:8080/",
          "height": 36
        },
        "outputId": "dd791eb8-2ccf-403e-ee7a-90a01e4908ae"
      },
      "execution_count": 33,
      "outputs": [
        {
          "output_type": "execute_result",
          "data": {
            "text/plain": [
              "'ana clara'"
            ],
            "application/vnd.google.colaboratory.intrinsic+json": {
              "type": "string"
            }
          },
          "metadata": {},
          "execution_count": 33
        }
      ]
    }
  ]
}