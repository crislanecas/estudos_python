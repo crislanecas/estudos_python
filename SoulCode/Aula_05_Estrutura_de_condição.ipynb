{
  "nbformat": 4,
  "nbformat_minor": 0,
  "metadata": {
    "colab": {
      "provenance": [],
      "toc_visible": true,
      "authorship_tag": "ABX9TyPEPFZ+FUpFV7bfL/OVAUbB",
      "include_colab_link": true
    },
    "kernelspec": {
      "name": "python3",
      "display_name": "Python 3"
    },
    "language_info": {
      "name": "python"
    }
  },
  "cells": [
    {
      "cell_type": "markdown",
      "metadata": {
        "id": "view-in-github",
        "colab_type": "text"
      },
      "source": [
        "<a href=\"https://colab.research.google.com/github/crislanecas/estudos_python/blob/main/SoulCode/Aula_05_Estrutura_de_condi%C3%A7%C3%A3o.ipynb\" target=\"_parent\"><img src=\"https://colab.research.google.com/assets/colab-badge.svg\" alt=\"Open In Colab\"/></a>"
      ]
    },
    {
      "cell_type": "markdown",
      "source": [
        "# Estrutura de condição"
      ],
      "metadata": {
        "id": "oONFaXrVpigx"
      }
    },
    {
      "cell_type": "markdown",
      "source": [
        "## IF\n",
        "A instrução \"if\" é usada para executar um bloco de código se uma determiada condição for verdadeira. A seguinte sintaxe geral é a seguinte:"
      ],
      "metadata": {
        "id": "LrfC3Al3pm3H"
      }
    },
    {
      "cell_type": "code",
      "source": [
        "# Estrutura.\n",
        "'''\n",
        "if condição:\n",
        "    # bloco de código a ser executado\n",
        "'''"
      ],
      "metadata": {
        "id": "tW3dEMLc4Qsq"
      },
      "execution_count": null,
      "outputs": []
    },
    {
      "cell_type": "code",
      "source": [
        "# Atribui um valor a variável.\n",
        "idade = 19\n",
        "\n",
        "# Realizar a condição.\n",
        "if idade >= 18:\n",
        "    print('Você é maior de idade.')"
      ],
      "metadata": {
        "colab": {
          "base_uri": "https://localhost:8080/"
        },
        "id": "TMhCEg6qrFU9",
        "outputId": "83245e08-57d3-4391-ea9f-8eafb39189fc"
      },
      "execution_count": null,
      "outputs": [
        {
          "output_type": "stream",
          "name": "stdout",
          "text": [
            "Você é maior de idade.\n"
          ]
        }
      ]
    },
    {
      "cell_type": "code",
      "source": [
        "# Atribui um valor a variável.\n",
        "idade = 18\n",
        "\n",
        "# Realizar a condição.\n",
        "if idade >= 18:\n",
        "    print('Você é maior de idade.')"
      ],
      "metadata": {
        "colab": {
          "base_uri": "https://localhost:8080/"
        },
        "id": "N08TnIELskRP",
        "outputId": "c4abf06e-6e32-4c86-bb34-65f830028e1d"
      },
      "execution_count": null,
      "outputs": [
        {
          "output_type": "stream",
          "name": "stdout",
          "text": [
            "Você é maior de idade.\n"
          ]
        }
      ]
    },
    {
      "cell_type": "code",
      "source": [
        "# Atribui um valor a variável.\n",
        "idade = 17\n",
        "\n",
        "# Realizar a condição.\n",
        "if idade >= 18:\n",
        "    print('Você é maior de idade.')"
      ],
      "metadata": {
        "id": "WIuaJMWYs6SR"
      },
      "execution_count": null,
      "outputs": []
    },
    {
      "cell_type": "markdown",
      "source": [
        "### Exemplo de comparação de strings"
      ],
      "metadata": {
        "id": "h8TR-UeL15MH"
      }
    },
    {
      "cell_type": "code",
      "source": [
        "# Atribui um valor a variável.\n",
        "clima = 'ensolarado'\n",
        "\n",
        "# Verificar se o clima é igual a ensolarado.\n",
        "if clima == 'ensolarado':\n",
        "    print('É um bom dia para ir na pracinha.')"
      ],
      "metadata": {
        "colab": {
          "base_uri": "https://localhost:8080/"
        },
        "id": "9Rg_aBxItT2N",
        "outputId": "642d93f6-27d4-4eff-8dc7-8ff27baa6aee"
      },
      "execution_count": null,
      "outputs": [
        {
          "output_type": "stream",
          "name": "stdout",
          "text": [
            "É um bom dia para ir na pracinha.\n"
          ]
        }
      ]
    },
    {
      "cell_type": "code",
      "source": [
        "# Atribui um valor a variável.\n",
        "clima = input('Digite o clima atual: ')\n",
        "\n",
        "# Verificar se o clima é igual a ensolarado.\n",
        "if clima == 'ensolarado':\n",
        "    print('É um bom dia para ir na pracinha.')"
      ],
      "metadata": {
        "colab": {
          "base_uri": "https://localhost:8080/"
        },
        "id": "_GAM6u94u9kM",
        "outputId": "ca1a431f-78d6-4530-b833-eff75434b244"
      },
      "execution_count": null,
      "outputs": [
        {
          "output_type": "stream",
          "name": "stdout",
          "text": [
            "Digite o clima atual: ensolarado\n",
            "É um bom dia para ir na pracinha.\n"
          ]
        }
      ]
    },
    {
      "cell_type": "code",
      "source": [
        "# Atribui um valor a variável.\n",
        "clima = input('Digite o clima atual: ')\n",
        "\n",
        "# Verificar se o clima é igual a ensolarado.\n",
        "if clima == 'ensolarado':\n",
        "    print('É um bom dia para ir na pracinha')"
      ],
      "metadata": {
        "colab": {
          "base_uri": "https://localhost:8080/"
        },
        "id": "FmkWFD32ufcn",
        "outputId": "79c52711-08dd-4e9d-d95c-bc44127dd884"
      },
      "execution_count": null,
      "outputs": [
        {
          "name": "stdout",
          "output_type": "stream",
          "text": [
            "Digite o clima atual: ENSOLARADO\n"
          ]
        }
      ]
    },
    {
      "cell_type": "code",
      "source": [
        "# Atribui um valor a variável.\n",
        "clima = input('Digite o clima atual: ')\n",
        "\n",
        "# Verificar se o clima é igual a ensolarado.\n",
        "if clima.lower() == 'ensolarado':\n",
        "    print('É um bom dia para ir na pracinha.')"
      ],
      "metadata": {
        "colab": {
          "base_uri": "https://localhost:8080/"
        },
        "id": "6uBfye0_vXsD",
        "outputId": "37da4471-c1e4-4c93-ef2a-6def49ca6ddb"
      },
      "execution_count": null,
      "outputs": [
        {
          "output_type": "stream",
          "name": "stdout",
          "text": [
            "Digite o clima atual: ENSOLARADO\n",
            "É um bom dia para ir na pracinha.\n"
          ]
        }
      ]
    },
    {
      "cell_type": "markdown",
      "source": [
        "## ELSE\n",
        "A instrução \"else\" é usada em conjunto com a instrução \"if\"  e especifica um bloco de código a ser executado se a condição do \"if\" for falsa. A sintaxe geral é a seguinte:"
      ],
      "metadata": {
        "id": "Osg_xht6pqW0"
      }
    },
    {
      "cell_type": "code",
      "source": [
        "# Estrutura.\n",
        "'''\n",
        "if condição:\n",
        "    # bloco de código a ser executado se a condição for verdadeira;\n",
        "else:\n",
        "    # bloco de código a ser executado se a condição for falsa;\n",
        "'''"
      ],
      "metadata": {
        "id": "RikQEo9607Le"
      },
      "execution_count": null,
      "outputs": []
    },
    {
      "cell_type": "code",
      "source": [
        "# Atribui um valor a variável.\n",
        "idade = int(input('Digite sua idade: '))\n",
        "\n",
        "# Decisão.\n",
        "if idade >= 18:\n",
        "    print('Você é maior de idade!')\n",
        "else:\n",
        "    print('Você é menor de idade!')"
      ],
      "metadata": {
        "colab": {
          "base_uri": "https://localhost:8080/"
        },
        "id": "rpLSG8JW1abV",
        "outputId": "0b1cb30f-62bb-41d5-c1f2-254f751a1137"
      },
      "execution_count": null,
      "outputs": [
        {
          "output_type": "stream",
          "name": "stdout",
          "text": [
            "Digite sua idade: 22\n",
            "Você é maior de idade!\n"
          ]
        }
      ]
    },
    {
      "cell_type": "markdown",
      "source": [
        "### Exemplo de verificação de valor + ou -\n",
        "Escreva um pequeno código que decida se um número é positivo ou negativo."
      ],
      "metadata": {
        "id": "2lB4RFuI1hGI"
      }
    },
    {
      "cell_type": "code",
      "source": [
        "# Atribui um valor a variável.\n",
        "numero = float(input('Escreva um número: '))\n",
        "\n",
        "# Verifica se o número informado é positivo ou negativo.\n",
        "if numero > 0:\n",
        "    print('O número informado é positivo')\n",
        "else:\n",
        "    print('O número informado é negativo')"
      ],
      "metadata": {
        "colab": {
          "base_uri": "https://localhost:8080/"
        },
        "id": "cp5RnOc12Na-",
        "outputId": "f8e3b23a-2d43-4c3a-b48c-4b4fd1ad38a1"
      },
      "execution_count": null,
      "outputs": [
        {
          "output_type": "stream",
          "name": "stdout",
          "text": [
            "Escreva um número: 3\n",
            "O número informado é positivo\n"
          ]
        }
      ]
    },
    {
      "cell_type": "markdown",
      "source": [
        "## ELIF\n",
        "A instrução \"elif\" é um abreviação de \"else if\" (senão se) e permite testar multiplas condições em sequencia. Ela é usada quando há mais de duas possibilidades a serem consideradas. A sintaxe geral é a seguinte:"
      ],
      "metadata": {
        "id": "UqZQRL_qpuPJ"
      }
    },
    {
      "cell_type": "code",
      "source": [
        "# Estrutura.\n",
        "'''\n",
        "if condição1:\n",
        "    # bloco de código a ser executado se a condição1 for verdadeira\n",
        "elif condição2:\n",
        "    # bloco de código a ser executado se a condição2 for verdadeira\n",
        "else:\n",
        "    # bloco de código a ser executado se nenhuma das condições\n",
        "    # anteriores forem verdadeiras\n",
        "'''"
      ],
      "metadata": {
        "id": "7zbXul68pwqy"
      },
      "execution_count": null,
      "outputs": []
    },
    {
      "cell_type": "markdown",
      "source": [
        "### Exemplo calculo de nota\n",
        "Faça um algoritmo que avalie a nota do aluno:\n",
        "* Se ele tirou igual ou acima de 90, seu conceito é A;\n",
        "* Se ele tirou igual ou acima de 80, seu conceito é B;\n",
        "* Se ele tirou igual ou acima de 70, seu conceito é C;\n",
        "* Se ele tirou abaixo de 70, seu conceito é D."
      ],
      "metadata": {
        "id": "BaUtgR6XBwug"
      }
    },
    {
      "cell_type": "code",
      "source": [
        "# Atribui um valor a variável.\n",
        "nota = float(input('Digite a nota do aluno: '))\n",
        "\n",
        "# Avalia e decide.\n",
        "if nota >= 90 and nota <= 100:\n",
        "    print('Sua nota é A!')\n",
        "\n",
        "elif nota >= 80 and nota < 90:\n",
        "    print('Sua nota é B!')\n",
        "\n",
        "elif nota >= 70 and nota < 80:\n",
        "    print('Sua nota é C!')\n",
        "\n",
        "elif nota >= 0 and nota < 70:\n",
        "    print('Seu conceito é D!')\n",
        "\n",
        "else:\n",
        "    print('Favor inserir uma nota entre 0 e 100.')"
      ],
      "metadata": {
        "colab": {
          "base_uri": "https://localhost:8080/"
        },
        "id": "cUumsZDuCVQF",
        "outputId": "8e8f574e-bcfd-44c5-fea8-85175eed8473"
      },
      "execution_count": null,
      "outputs": [
        {
          "output_type": "stream",
          "name": "stdout",
          "text": [
            "Digite a nota do aluno: 40\n",
            "Seu conceito é D!\n"
          ]
        }
      ]
    },
    {
      "cell_type": "markdown",
      "source": [
        "### Exemplo calculo IMC"
      ],
      "metadata": {
        "id": "clJaEt-wIlSL"
      }
    },
    {
      "cell_type": "code",
      "source": [
        "# Entradas de dados.\n",
        "nome = input('Digite seu nome: ')\n",
        "peso = int(input('Informe seu peso: '))\n",
        "altura = float(input('Informe sua altura: '))\n",
        "\n",
        "# Calcula o IMC.\n",
        "imc = peso / altura ** 2\n",
        "\n",
        "# Imprime na tela.\n",
        "print(f'{nome}, seu IMC é: {imc:.2f}')\n",
        "\n",
        "# Verifica e classifica o IMC.\n",
        "if imc > 0 and imc < 18.5:\n",
        "     print('Você está abaixo do peso.')\n",
        "\n",
        "elif imc >= 18.5 and imc < 25:\n",
        "    print('Seu peso está normal.')\n",
        "\n",
        "elif imc >=25 and imc < 40:\n",
        "    print('Você está com sobrepeso.')\n",
        "\n",
        "else:\n",
        "    print('Você esta obeso.')"
      ],
      "metadata": {
        "colab": {
          "base_uri": "https://localhost:8080/"
        },
        "id": "8DY_dvtEICyt",
        "outputId": "11f09599-6a19-425a-b415-52091f5dc9b9"
      },
      "execution_count": null,
      "outputs": [
        {
          "output_type": "stream",
          "name": "stdout",
          "text": [
            "Digite seu nome: Cris\n",
            "Informe seu peso: 0\n",
            "Informe sua altura: 165\n",
            "Cris, seu IMC é: 0.00\n",
            "Você esta obeso.\n"
          ]
        }
      ]
    },
    {
      "cell_type": "markdown",
      "source": [
        "# Condição aninhada\n",
        "Este programa em Python solicita a nota e a frequência do aluno em uma disciplina e determina se ele foi aprovado ou reprovado. Se a frequência for igual ou superior a 75% e a nota for igual ou superior a 60, o aluno é aprovado. Caso contrário, ele é reprovado, seja por nota ou por frequência."
      ],
      "metadata": {
        "id": "pp_qmmyHQP0I"
      }
    },
    {
      "cell_type": "code",
      "source": [
        "# Entrada de dados.\n",
        "frequencia = int(input('Digite a frequência do aluno: '))\n",
        "nota = float(input('Digite a nota do aluno: '))\n",
        "\n",
        "# Compara e decide.\n",
        "if frequencia >=75 and frequencia <= 100:\n",
        "    if nota >= 60 and nota <= 100:\n",
        "        print('Aprovado!')\n",
        "    else:\n",
        "        print('Reprovado por nota.')\n",
        "else:\n",
        "    print('Reprovado por frequencia.')"
      ],
      "metadata": {
        "colab": {
          "base_uri": "https://localhost:8080/"
        },
        "id": "NNLcPEkGQPav",
        "outputId": "ad526fb1-b668-47fb-a3ec-d4d834696220"
      },
      "execution_count": null,
      "outputs": [
        {
          "output_type": "stream",
          "name": "stdout",
          "text": [
            "Digite a frequência do aluno: 74\n",
            "Digite a nota do aluno: 80\n",
            "Reprovado por frequencia.\n"
          ]
        }
      ]
    },
    {
      "cell_type": "markdown",
      "source": [
        "Limitações: As estruturas condicionais toma apenas uma decisão, a primeira que é verdadeira. Elas funcionam bem para coisas simples e se você não organizar o código direito, pode causar problemas."
      ],
      "metadata": {
        "id": "7h_M73FVW9zD"
      }
    }
  ]
}