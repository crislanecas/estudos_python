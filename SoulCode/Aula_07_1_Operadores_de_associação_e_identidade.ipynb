{
  "nbformat": 4,
  "nbformat_minor": 0,
  "metadata": {
    "colab": {
      "provenance": [],
      "toc_visible": true,
      "authorship_tag": "ABX9TyNj8aBahZIUfPYmrllpAbSO",
      "include_colab_link": true
    },
    "kernelspec": {
      "name": "python3",
      "display_name": "Python 3"
    },
    "language_info": {
      "name": "python"
    }
  },
  "cells": [
    {
      "cell_type": "markdown",
      "metadata": {
        "id": "view-in-github",
        "colab_type": "text"
      },
      "source": [
        "<a href=\"https://colab.research.google.com/github/crislanecas/estudos_python/blob/main/SoulCode/Aula_07_1_Operadores_de_associa%C3%A7%C3%A3o_e_identidade.ipynb\" target=\"_parent\"><img src=\"https://colab.research.google.com/assets/colab-badge.svg\" alt=\"Open In Colab\"/></a>"
      ]
    },
    {
      "cell_type": "markdown",
      "source": [
        "# Operadores de associação"
      ],
      "metadata": {
        "id": "J4CHdvRF9nbz"
      }
    },
    {
      "cell_type": "markdown",
      "source": [
        "## in\n",
        "Retorna verdadeiro se um caracter  ou sequencia de caracteres for encontrado dentro de uma string."
      ],
      "metadata": {
        "id": "XteMQAwP91ha"
      }
    },
    {
      "cell_type": "code",
      "execution_count": null,
      "metadata": {
        "colab": {
          "base_uri": "https://localhost:8080/"
        },
        "id": "lhiKK-H88NvC",
        "outputId": "fb34be6f-dcf6-4f30-f1b5-a45c80eb37b4"
      },
      "outputs": [
        {
          "output_type": "execute_result",
          "data": {
            "text/plain": [
              "True"
            ]
          },
          "metadata": {},
          "execution_count": 68
        }
      ],
      "source": [
        "# Exemplo 1.\n",
        "nome = 'Franciane'\n",
        "'ane' in nome"
      ]
    },
    {
      "cell_type": "code",
      "source": [
        "# Exemplo 2.\n",
        "nome = 'Franciane'\n",
        "'Ane' in nome"
      ],
      "metadata": {
        "colab": {
          "base_uri": "https://localhost:8080/"
        },
        "id": "cwgPWeTF-eg4",
        "outputId": "81f76665-1395-4820-ddc0-1c66f511aed0"
      },
      "execution_count": null,
      "outputs": [
        {
          "output_type": "execute_result",
          "data": {
            "text/plain": [
              "False"
            ]
          },
          "metadata": {},
          "execution_count": 69
        }
      ]
    },
    {
      "cell_type": "code",
      "source": [
        "# Exemplo 3.\n",
        "nome1 = 'Victor Gabriel'\n",
        "'vic' in nome1"
      ],
      "metadata": {
        "colab": {
          "base_uri": "https://localhost:8080/"
        },
        "id": "ZDKGgx3E-zBT",
        "outputId": "ef503c90-0ffd-4979-a69a-5f691ba95753"
      },
      "execution_count": null,
      "outputs": [
        {
          "output_type": "execute_result",
          "data": {
            "text/plain": [
              "False"
            ]
          },
          "metadata": {},
          "execution_count": 70
        }
      ]
    },
    {
      "cell_type": "code",
      "source": [
        "# Exemplo 4.\n",
        "nome = 'Marcos'\n",
        "'mar' in nome.lower()"
      ],
      "metadata": {
        "colab": {
          "base_uri": "https://localhost:8080/"
        },
        "id": "tccEQ5hC_VJV",
        "outputId": "1d92f863-4cbb-4bbf-ee16-f8216925d8fb"
      },
      "execution_count": null,
      "outputs": [
        {
          "output_type": "execute_result",
          "data": {
            "text/plain": [
              "True"
            ]
          },
          "metadata": {},
          "execution_count": 71
        }
      ]
    },
    {
      "cell_type": "markdown",
      "source": [
        "## not in\n",
        "Retorna verdadeiro se um caracter ou sequência de caracteres **NÃO** for encontrado dentro de uma string."
      ],
      "metadata": {
        "id": "rSW1PaNT_1NY"
      }
    },
    {
      "cell_type": "code",
      "source": [
        "# Exemplo 1.\n",
        "nome = 'daniela'\n",
        "teste1 = 'Dani' not in nome\n",
        "print('Dani não está contido em daniela? ', teste1)"
      ],
      "metadata": {
        "colab": {
          "base_uri": "https://localhost:8080/"
        },
        "id": "ZaUV9k1nAQHy",
        "outputId": "ef352908-fea9-4ddc-8dbf-0a23aae061f2"
      },
      "execution_count": null,
      "outputs": [
        {
          "output_type": "stream",
          "name": "stdout",
          "text": [
            "Dani não está contido em daniela?  True\n"
          ]
        }
      ]
    },
    {
      "cell_type": "markdown",
      "source": [
        "# Operador de identidade"
      ],
      "metadata": {
        "id": "TDHP-CJUCmd-"
      }
    },
    {
      "cell_type": "markdown",
      "source": [
        "## is\n",
        "Compara se um objeto é igual ao outro em relação ao **valor** e **tipo**."
      ],
      "metadata": {
        "id": "Q52YStVQHGzO"
      }
    },
    {
      "cell_type": "code",
      "source": [
        "# Entrada de dados.\n",
        "h = 3\n",
        "p = 3\n",
        "\n",
        "# Primeira comparação.\n",
        "teste2 = p == h\n",
        "\n",
        "# Exibe o resultado em tela.\n",
        "teste2"
      ],
      "metadata": {
        "colab": {
          "base_uri": "https://localhost:8080/"
        },
        "id": "7Ywv_YHGCxT9",
        "outputId": "4552ac01-4d16-4706-a261-a3d3c08d0973"
      },
      "execution_count": null,
      "outputs": [
        {
          "output_type": "execute_result",
          "data": {
            "text/plain": [
              "True"
            ]
          },
          "metadata": {},
          "execution_count": 73
        }
      ]
    },
    {
      "cell_type": "code",
      "source": [
        "# Entrada de dados.\n",
        "h = 3\n",
        "p = 3\n",
        "\n",
        "# Segunda comparação.\n",
        "teste3 = p is h\n",
        "\n",
        "# Exibe o resultado em tela.\n",
        "teste3"
      ],
      "metadata": {
        "colab": {
          "base_uri": "https://localhost:8080/"
        },
        "id": "3QqdVZDKJh8e",
        "outputId": "53196bc1-1c29-42c0-ace3-e1afdb02d8ab"
      },
      "execution_count": null,
      "outputs": [
        {
          "output_type": "execute_result",
          "data": {
            "text/plain": [
              "True"
            ]
          },
          "metadata": {},
          "execution_count": 74
        }
      ]
    },
    {
      "cell_type": "code",
      "source": [
        "# Entrada de dados.\n",
        "h = 3\n",
        "p = 3.0\n",
        "\n",
        "# Comparação.\n",
        "teste4 = p == h\n",
        "\n",
        "# Exibe o resultado em tela.\n",
        "teste4"
      ],
      "metadata": {
        "colab": {
          "base_uri": "https://localhost:8080/"
        },
        "id": "1qT__DWNKQ6Z",
        "outputId": "b3a47298-aca8-4e14-9bb1-b576cf829ebd"
      },
      "execution_count": null,
      "outputs": [
        {
          "output_type": "execute_result",
          "data": {
            "text/plain": [
              "True"
            ]
          },
          "metadata": {},
          "execution_count": 75
        }
      ]
    },
    {
      "cell_type": "code",
      "source": [
        "# Entrada de dados.\n",
        "h = 3\n",
        "p = 3.0\n",
        "\n",
        "# Comparação.\n",
        "teste5 = p is h\n",
        "\n",
        "# Exibe o resultado em tela.\n",
        "print(teste5)\n",
        "print(type(h))\n",
        "print(type(p))"
      ],
      "metadata": {
        "colab": {
          "base_uri": "https://localhost:8080/"
        },
        "id": "Cc02091IKqtl",
        "outputId": "7fc55564-2efb-4967-dee7-a8a946f6c53e"
      },
      "execution_count": null,
      "outputs": [
        {
          "output_type": "stream",
          "name": "stdout",
          "text": [
            "False\n",
            "<class 'int'>\n",
            "<class 'float'>\n"
          ]
        }
      ]
    },
    {
      "cell_type": "code",
      "source": [
        "# Entrada de dados.\n",
        "h = 'Maria'\n",
        "p = 'maria'\n",
        "\n",
        "# Comparação.\n",
        "teste6 = p is h # lembrando que o python é case sensitive.\n",
        "\n",
        "# Exibe o resultado em tela.\n",
        "print(teste6)\n",
        "print(type(h))\n",
        "print(type(p))"
      ],
      "metadata": {
        "colab": {
          "base_uri": "https://localhost:8080/"
        },
        "id": "04rRyKtWMTLd",
        "outputId": "65128067-dc6e-416b-de91-352698479bf3"
      },
      "execution_count": null,
      "outputs": [
        {
          "output_type": "stream",
          "name": "stdout",
          "text": [
            "False\n",
            "<class 'str'>\n",
            "<class 'str'>\n"
          ]
        }
      ]
    },
    {
      "cell_type": "code",
      "source": [
        "# Entrada de dados.\n",
        "h = 3.0\n",
        "p = 3.0\n",
        "\n",
        "# Comparação.\n",
        "teste7 = p is h\n",
        "\n",
        "# Exibe o resultado em tela.\n",
        "print(teste7)\n",
        "print(type(h))\n",
        "print(type(p))"
      ],
      "metadata": {
        "colab": {
          "base_uri": "https://localhost:8080/"
        },
        "id": "X0bHMY1PMvPM",
        "outputId": "4c135705-d24c-47dc-91ee-2b9af7c563a8"
      },
      "execution_count": null,
      "outputs": [
        {
          "output_type": "stream",
          "name": "stdout",
          "text": [
            "False\n",
            "<class 'float'>\n",
            "<class 'float'>\n"
          ]
        }
      ]
    },
    {
      "cell_type": "code",
      "source": [
        "# Entrada de dados.\n",
        "h = 3.0\n",
        "p = 3.0\n",
        "\n",
        "# Comparação.\n",
        "teste8 = p == h\n",
        "\n",
        "# Exibe o resultado em tela.\n",
        "print(teste8)\n",
        "print(type(h))\n",
        "print(type(p))"
      ],
      "metadata": {
        "colab": {
          "base_uri": "https://localhost:8080/"
        },
        "id": "xxYXKNo4Nh1L",
        "outputId": "97277102-fe97-43af-e5d1-5befa22def2e"
      },
      "execution_count": null,
      "outputs": [
        {
          "output_type": "stream",
          "name": "stdout",
          "text": [
            "True\n",
            "<class 'float'>\n",
            "<class 'float'>\n"
          ]
        }
      ]
    },
    {
      "cell_type": "markdown",
      "source": [
        "## is not\n",
        "Compara se um objeto é diferente do outro em relação ao **valor** e **tipo**."
      ],
      "metadata": {
        "id": "OZNzBddAOzqg"
      }
    },
    {
      "cell_type": "code",
      "source": [
        "# Entrada de dados.\n",
        "h = 3\n",
        "p = 4\n",
        "\n",
        "# Comparação.\n",
        "teste9 = h != p\n",
        "\n",
        "# Exibe o resultado em tela.\n",
        "teste9"
      ],
      "metadata": {
        "colab": {
          "base_uri": "https://localhost:8080/"
        },
        "id": "DB_Q8Q46PFmN",
        "outputId": "3cf9f11c-e802-472b-b35a-193ba8f1c60b"
      },
      "execution_count": null,
      "outputs": [
        {
          "output_type": "execute_result",
          "data": {
            "text/plain": [
              "True"
            ]
          },
          "metadata": {},
          "execution_count": 80
        }
      ]
    },
    {
      "cell_type": "code",
      "source": [
        "# Entrada de dados.\n",
        "h = 3\n",
        "p = 4\n",
        "\n",
        "# Comparação.\n",
        "teste10 = h is not p\n",
        "\n",
        "# Exibe o resultado em tela.\n",
        "teste10"
      ],
      "metadata": {
        "id": "rsUs5rkFPdr4",
        "colab": {
          "base_uri": "https://localhost:8080/"
        },
        "outputId": "f8c00819-5caf-4721-b0f0-2e70b806b416"
      },
      "execution_count": null,
      "outputs": [
        {
          "output_type": "execute_result",
          "data": {
            "text/plain": [
              "True"
            ]
          },
          "metadata": {},
          "execution_count": 81
        }
      ]
    }
  ]
}