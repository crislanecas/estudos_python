{
  "nbformat": 4,
  "nbformat_minor": 0,
  "metadata": {
    "colab": {
      "provenance": [],
      "toc_visible": true,
      "authorship_tag": "ABX9TyOfyR/cjizLK9EL86njqnCb",
      "include_colab_link": true
    },
    "kernelspec": {
      "name": "python3",
      "display_name": "Python 3"
    },
    "language_info": {
      "name": "python"
    }
  },
  "cells": [
    {
      "cell_type": "markdown",
      "metadata": {
        "id": "view-in-github",
        "colab_type": "text"
      },
      "source": [
        "<a href=\"https://colab.research.google.com/github/crislanecas/estudos_python/blob/main/SoulCode/Aula_07_2_Estrutura_de_dados_Lista.ipynb\" target=\"_parent\"><img src=\"https://colab.research.google.com/assets/colab-badge.svg\" alt=\"Open In Colab\"/></a>"
      ]
    },
    {
      "cell_type": "markdown",
      "source": [
        "# **Estrutura de dados**"
      ],
      "metadata": {
        "id": "4YG9Uy1kRNEb"
      }
    },
    {
      "cell_type": "markdown",
      "source": [
        "# Lista\n",
        "* Uma lista é um objeto que pode ser vazio ou ter vários elementos.\n",
        "* Podemos localizar elementos dentro da lista através de índices, inclusive fazer fatiamento se necessário."
      ],
      "metadata": {
        "id": "vGVVyJjmZ1am"
      }
    },
    {
      "cell_type": "code",
      "source": [
        "# Cria uma lista.\n",
        "lista = ['dado1', 'dado2', 'dado3', 'dado4', 'dado5']\n",
        "\n",
        "# indices     0         1        2        3        4\n",
        "# reverso    -5        -4       -3       -2       -1\n",
        "\n",
        "# Qual é o quinto elemento da minha lista de forma direta e inversa?\n",
        "print(lista[4])\n",
        "print(lista[-1])"
      ],
      "metadata": {
        "colab": {
          "base_uri": "https://localhost:8080/"
        },
        "id": "rNJMqSblRQT-",
        "outputId": "80248bad-6fd8-429d-9473-c4b4a4789c0d"
      },
      "execution_count": null,
      "outputs": [
        {
          "output_type": "stream",
          "name": "stdout",
          "text": [
            "dado5\n",
            "dado5\n"
          ]
        }
      ]
    },
    {
      "cell_type": "code",
      "source": [
        "# Cria uma lista com elemento de vários tipos.\n",
        "lista = ['banana', 2.0, True, -2, 34, 'Bel']\n",
        "lista"
      ],
      "metadata": {
        "colab": {
          "base_uri": "https://localhost:8080/"
        },
        "id": "wTzZbE3CbpWC",
        "outputId": "29c25dd1-9307-4ae4-9fb2-5fca60bb8622"
      },
      "execution_count": null,
      "outputs": [
        {
          "output_type": "execute_result",
          "data": {
            "text/plain": [
              "['banana', 2.0, True, -2, 34, 'Bel']"
            ]
          },
          "metadata": {},
          "execution_count": 116
        }
      ]
    },
    {
      "cell_type": "code",
      "source": [
        "# Exibe o tipo do dado.\n",
        "type(lista)"
      ],
      "metadata": {
        "colab": {
          "base_uri": "https://localhost:8080/"
        },
        "id": "GB_yB1BxdETw",
        "outputId": "269567f3-5292-4b1c-a6e2-5661b1080984"
      },
      "execution_count": null,
      "outputs": [
        {
          "output_type": "execute_result",
          "data": {
            "text/plain": [
              "list"
            ]
          },
          "metadata": {},
          "execution_count": 117
        }
      ]
    },
    {
      "cell_type": "code",
      "source": [
        "# Exibe o tipo do elemento selecionado da lista.\n",
        "type(lista[0])"
      ],
      "metadata": {
        "colab": {
          "base_uri": "https://localhost:8080/"
        },
        "id": "bvviIgm3cy1M",
        "outputId": "e5119d3f-33f0-41a6-bbf0-5a748b27b7d4"
      },
      "execution_count": null,
      "outputs": [
        {
          "output_type": "execute_result",
          "data": {
            "text/plain": [
              "str"
            ]
          },
          "metadata": {},
          "execution_count": 118
        }
      ]
    },
    {
      "cell_type": "code",
      "source": [
        "# Criar uma lista com input.\n",
        "alunos = input('Informe os nomes separados por espaços que você deseja cadastrar: ')\n",
        "nomes = alunos.split()\n",
        "print(nomes)"
      ],
      "metadata": {
        "colab": {
          "base_uri": "https://localhost:8080/"
        },
        "id": "KLAs1cI_eaZs",
        "outputId": "d4cc6aa9-c463-4ea0-f342-e6821a229139"
      },
      "execution_count": null,
      "outputs": [
        {
          "output_type": "stream",
          "name": "stdout",
          "text": [
            "Informe os nomes separados por espaços que você deseja cadastrar: Bruno Arthur Carina Felipe Juliana Kleisson Luane Lucas Marcos Vanessa Vinicius\n",
            "['Bruno', 'Arthur', 'Carina', 'Felipe', 'Juliana', 'Kleisson', 'Luane', 'Lucas', 'Marcos', 'Vanessa', 'Vinicius']\n"
          ]
        }
      ]
    },
    {
      "cell_type": "markdown",
      "source": [
        "## Funções"
      ],
      "metadata": {
        "id": "suUh_tg7UTwh"
      }
    },
    {
      "cell_type": "markdown",
      "source": [
        "### len()\n"
      ],
      "metadata": {
        "id": "cR4dzj9WcS8Q"
      }
    },
    {
      "cell_type": "code",
      "source": [
        "# Retorna o número de elementos dentro da lista.\n",
        "len(lista)"
      ],
      "metadata": {
        "colab": {
          "base_uri": "https://localhost:8080/"
        },
        "id": "jFuM96y6cSHs",
        "outputId": "d0807cff-b8c8-4b73-aab5-dcf31b777acf"
      },
      "execution_count": null,
      "outputs": [
        {
          "output_type": "execute_result",
          "data": {
            "text/plain": [
              "6"
            ]
          },
          "metadata": {},
          "execution_count": 119
        }
      ]
    },
    {
      "cell_type": "code",
      "source": [
        "# Retorna o tamanho da lista.\n",
        "len(nomes)"
      ],
      "metadata": {
        "colab": {
          "base_uri": "https://localhost:8080/"
        },
        "id": "GlledqiPjCie",
        "outputId": "49397018-6d57-4dcc-df3c-99a1e8c7064b"
      },
      "execution_count": null,
      "outputs": [
        {
          "output_type": "execute_result",
          "data": {
            "text/plain": [
              "11"
            ]
          },
          "metadata": {},
          "execution_count": 121
        }
      ]
    },
    {
      "cell_type": "code",
      "source": [
        "# Retorna o 4° nome dessa lista.\n",
        "print(nomes[3])\n",
        "\n",
        "# Retorna os nomes do 2º ao 5° nome dessa lista.\n",
        "print(nomes[1:5])\n",
        "\n",
        "# Retorna o 8° nome da lista.\n",
        "print(nomes[7])\n",
        "\n",
        "# Retorna os nomes do 7º ao 10° nome dessa lista.\n",
        "print(nomes[6:10])"
      ],
      "metadata": {
        "colab": {
          "base_uri": "https://localhost:8080/"
        },
        "id": "dwVXVmOcjOGC",
        "outputId": "83c33516-c15f-4682-bb4b-ed0053cc86d1"
      },
      "execution_count": null,
      "outputs": [
        {
          "output_type": "stream",
          "name": "stdout",
          "text": [
            "Felipe\n",
            "['Arthur', 'Carina', 'Felipe', 'Juliana']\n",
            "Lucas\n",
            "['Luane', 'Lucas', 'Marcos', 'Vanessa']\n"
          ]
        }
      ]
    },
    {
      "cell_type": "markdown",
      "source": [
        "### sum()"
      ],
      "metadata": {
        "id": "Lf05twO-T1lY"
      }
    },
    {
      "cell_type": "code",
      "source": [],
      "metadata": {
        "id": "PZeCzegxT66l"
      },
      "execution_count": null,
      "outputs": []
    },
    {
      "cell_type": "markdown",
      "source": [
        "### max()"
      ],
      "metadata": {
        "id": "S2Zzh2XqUM3i"
      }
    },
    {
      "cell_type": "code",
      "source": [],
      "metadata": {
        "id": "Tok-QAeGUPWY"
      },
      "execution_count": null,
      "outputs": []
    },
    {
      "cell_type": "markdown",
      "source": [
        "### min()"
      ],
      "metadata": {
        "id": "tyzfq7LdUPlz"
      }
    },
    {
      "cell_type": "markdown",
      "source": [
        "## Métodos"
      ],
      "metadata": {
        "id": "rfAZCQAVUkY9"
      }
    },
    {
      "cell_type": "markdown",
      "source": [
        "### append()\n",
        "* Por padrão o método append vai inserir o elemento sempre na última posição.\n",
        "* Mantendo os demais que eventualmente já existam."
      ],
      "metadata": {
        "id": "DRH5ZP12lqP-"
      }
    },
    {
      "cell_type": "code",
      "source": [
        "# Cria uma lista vazia.\n",
        "descarte = []\n",
        "print(descarte)"
      ],
      "metadata": {
        "colab": {
          "base_uri": "https://localhost:8080/"
        },
        "id": "0pMkL-prmGNS",
        "outputId": "2cf055be-5f8c-4818-b6d2-1a110edc40e8"
      },
      "execution_count": 14,
      "outputs": [
        {
          "output_type": "stream",
          "name": "stdout",
          "text": [
            "[]\n"
          ]
        }
      ]
    },
    {
      "cell_type": "code",
      "source": [
        "# Insere elemento na lista.\n",
        "descarte.append('bateria')\n",
        "print(descarte)"
      ],
      "metadata": {
        "colab": {
          "base_uri": "https://localhost:8080/"
        },
        "id": "8G_GH1V0mICl",
        "outputId": "13d730f6-c027-49f2-e983-c1ce38d55d54"
      },
      "execution_count": 15,
      "outputs": [
        {
          "output_type": "stream",
          "name": "stdout",
          "text": [
            "['bateria']\n"
          ]
        }
      ]
    },
    {
      "cell_type": "code",
      "source": [
        "# Insere elemento mais elementps na mesma lista.\n",
        "descarte.append('mouse')\n",
        "print(descarte)\n",
        "\n",
        "descarte.append('cabo para Iphone')\n",
        "print(descarte)\n",
        "\n",
        "descarte.append('teclado')\n",
        "print(descarte)"
      ],
      "metadata": {
        "colab": {
          "base_uri": "https://localhost:8080/"
        },
        "id": "_f33M6AcnB09",
        "outputId": "abdfeacd-5352-4ac8-e378-917c9ee79e80"
      },
      "execution_count": 16,
      "outputs": [
        {
          "output_type": "stream",
          "name": "stdout",
          "text": [
            "['bateria', 'mouse']\n",
            "['bateria', 'mouse', 'cabo para Iphone']\n",
            "['bateria', 'mouse', 'cabo para Iphone', 'teclado']\n"
          ]
        }
      ]
    },
    {
      "cell_type": "markdown",
      "source": [
        "### extend()\n",
        "O método permite adicionar mais de um elemento a lista."
      ],
      "metadata": {
        "id": "yT9AjnJJtAcd"
      }
    },
    {
      "cell_type": "code",
      "source": [
        "# Criando uma lista.\n",
        "lista = ['Maria', 'Paulo']\n",
        "\n",
        "# Adiciona uma lista de itens ao final da lista.\n",
        "lista.extend(['Ana', 'Narcos', 'Karina'])\n",
        "\n",
        "# Imprimi a lista na tela.\n",
        "print(lista)"
      ],
      "metadata": {
        "id": "uKlSeWOjgFb_",
        "colab": {
          "base_uri": "https://localhost:8080/"
        },
        "outputId": "0b99ea3a-b531-42c5-e8c6-88f23331e493"
      },
      "execution_count": null,
      "outputs": [
        {
          "output_type": "stream",
          "name": "stdout",
          "text": [
            "['Maria', 'Paulo', 'Ana', 'Narcos', 'Karina']\n"
          ]
        }
      ]
    },
    {
      "cell_type": "markdown",
      "source": [
        "### insert()"
      ],
      "metadata": {
        "id": "Eg6P0ooFnwhm"
      }
    },
    {
      "cell_type": "code",
      "source": [
        "# Insere um elemento na lista na posição especificada como argumento.\n",
        "descarte.insert(3, 'iphone')\n",
        "print(descarte)"
      ],
      "metadata": {
        "colab": {
          "base_uri": "https://localhost:8080/"
        },
        "id": "bIKObiS4nBzx",
        "outputId": "51f799ee-e986-4068-a609-f3349d8111ba"
      },
      "execution_count": null,
      "outputs": [
        {
          "output_type": "stream",
          "name": "stdout",
          "text": [
            "['bateria', 'mouse', 'cabo para Iphone', 'iphone', 'teclado']\n"
          ]
        }
      ]
    },
    {
      "cell_type": "markdown",
      "source": [
        "### remove()"
      ],
      "metadata": {
        "id": "xIr0eb08nzsK"
      }
    },
    {
      "cell_type": "code",
      "source": [
        "# Remove o primeiro elemento encontraro na lista, especificado como argumento\n",
        "descarte.remove('iphone')\n",
        "print(descarte)"
      ],
      "metadata": {
        "colab": {
          "base_uri": "https://localhost:8080/"
        },
        "id": "DXIsFzcNnesL",
        "outputId": "2d6279b1-c860-4a03-f939-60c83026c734"
      },
      "execution_count": null,
      "outputs": [
        {
          "output_type": "stream",
          "name": "stdout",
          "text": [
            "['bateria', 'mouse', 'cabo para Iphone', 'teclado']\n"
          ]
        }
      ]
    },
    {
      "cell_type": "markdown",
      "source": [
        "### pop()"
      ],
      "metadata": {
        "id": "t7OQOCZ-oVT1"
      }
    },
    {
      "cell_type": "code",
      "source": [
        "# Remove o elemento pelo índice.\n",
        "descarte.pop(0)\n",
        "print(descarte)"
      ],
      "metadata": {
        "colab": {
          "base_uri": "https://localhost:8080/"
        },
        "id": "heO_IxEdoUwK",
        "outputId": "bd81a7f9-288d-4c4e-9408-83c9acf8c9e3"
      },
      "execution_count": null,
      "outputs": [
        {
          "output_type": "stream",
          "name": "stdout",
          "text": [
            "['mouse', 'cabo para Iphone', 'teclado']\n"
          ]
        }
      ]
    },
    {
      "cell_type": "markdown",
      "source": [
        "### reverse()"
      ],
      "metadata": {
        "id": "tRIIvt9Dot9f"
      }
    },
    {
      "cell_type": "code",
      "source": [
        "# Inverte a ordem da lista.\n",
        "descarte.reverse()\n",
        "print(descarte)"
      ],
      "metadata": {
        "colab": {
          "base_uri": "https://localhost:8080/"
        },
        "id": "FDRbB4lKotlF",
        "outputId": "11111624-9009-4b6f-ce08-bc9c7ec2aaeb"
      },
      "execution_count": null,
      "outputs": [
        {
          "output_type": "stream",
          "name": "stdout",
          "text": [
            "['teclado', 'cabo para Iphone', 'mouse']\n"
          ]
        }
      ]
    },
    {
      "cell_type": "markdown",
      "source": [
        "### copy()"
      ],
      "metadata": {
        "id": "vWDApXTiqbGD"
      }
    },
    {
      "cell_type": "code",
      "source": [
        "# Retorna uma cópia da lista.\n",
        "descarte_bkp = descarte.copy()\n",
        "descarte_bkp"
      ],
      "metadata": {
        "colab": {
          "base_uri": "https://localhost:8080/"
        },
        "id": "weBJukGdqalx",
        "outputId": "5b5e5e83-6b19-4d83-8274-1dcec884cc94"
      },
      "execution_count": null,
      "outputs": [
        {
          "output_type": "execute_result",
          "data": {
            "text/plain": [
              "['teclado', 'cabo para Iphone', 'mouse']"
            ]
          },
          "metadata": {},
          "execution_count": 130
        }
      ]
    },
    {
      "cell_type": "markdown",
      "source": [
        "### count()"
      ],
      "metadata": {
        "id": "isTooAwWPhHZ"
      }
    },
    {
      "cell_type": "code",
      "source": [
        "# Atribui valores as listas.\n",
        "lista = [2, 3, 7, 2, 5, 8]\n",
        "\n",
        "# Conta o número de elementos especificados como argumento.\n",
        "lista.count(2)"
      ],
      "metadata": {
        "colab": {
          "base_uri": "https://localhost:8080/"
        },
        "id": "vCDfyr7CPlFY",
        "outputId": "6948997c-20f2-44c2-d0d1-b37eb1083bef"
      },
      "execution_count": 6,
      "outputs": [
        {
          "output_type": "execute_result",
          "data": {
            "text/plain": [
              "2"
            ]
          },
          "metadata": {},
          "execution_count": 6
        }
      ]
    },
    {
      "cell_type": "code",
      "source": [
        "# Atribui valores as listas.\n",
        "lista = ['banana', 'laraja', 'abacaxi', 'banana', 'pera', 'banana']\n",
        "\n",
        "# Conta o número de elementos especificados como argumento.\n",
        "lista.count('banana')"
      ],
      "metadata": {
        "colab": {
          "base_uri": "https://localhost:8080/"
        },
        "id": "jwe6gGhWSVAY",
        "outputId": "1125b3b6-0688-41b7-b4d7-5d4d3855b23b"
      },
      "execution_count": 5,
      "outputs": [
        {
          "output_type": "execute_result",
          "data": {
            "text/plain": [
              "3"
            ]
          },
          "metadata": {},
          "execution_count": 5
        }
      ]
    },
    {
      "cell_type": "markdown",
      "source": [
        "### index()"
      ],
      "metadata": {
        "id": "6t0ngCISRSKh"
      }
    },
    {
      "cell_type": "code",
      "source": [
        "# Atribui valores as listas.\n",
        "lista = [2, 3, 7, 2, 5, 8]\n",
        "\n",
        "# informa o index do elemento informado como argumento.\n",
        "lista.index(5)"
      ],
      "metadata": {
        "colab": {
          "base_uri": "https://localhost:8080/"
        },
        "id": "6dQqu2nDRWAM",
        "outputId": "6df405b1-0354-4e92-d0d3-3464b8c10a33"
      },
      "execution_count": 13,
      "outputs": [
        {
          "output_type": "execute_result",
          "data": {
            "text/plain": [
              "4"
            ]
          },
          "metadata": {},
          "execution_count": 13
        }
      ]
    },
    {
      "cell_type": "markdown",
      "source": [
        "### sort()"
      ],
      "metadata": {
        "id": "m1Se0Pg8R_lm"
      }
    },
    {
      "cell_type": "code",
      "source": [
        "# Atribui valores as listas.\n",
        "lista = [2, 3, 7, 2, 5, 8]\n",
        "\n",
        "# Ordena os elementos da lista.\n",
        "lista.sort()\n",
        "\n",
        "# Exibe em tela.\n",
        "print(lista)"
      ],
      "metadata": {
        "id": "-VC-EFZrSA5I"
      },
      "execution_count": null,
      "outputs": []
    },
    {
      "cell_type": "code",
      "source": [
        "# Atribui valores as listas.\n",
        "lista = [2, 3, 7, 2, 5, 8]\n",
        "\n",
        "# Ordena os elementos de forma reversa/descente.\n",
        "lista.sort(reverse=True)\n",
        "\n",
        "# Exibe em tela.\n",
        "print(lista)"
      ],
      "metadata": {
        "colab": {
          "base_uri": "https://localhost:8080/"
        },
        "id": "-CbybrxwS9JO",
        "outputId": "85e7b481-2858-46d1-defc-5b4f08ba22cb"
      },
      "execution_count": 10,
      "outputs": [
        {
          "output_type": "stream",
          "name": "stdout",
          "text": [
            "[8, 7, 5, 3, 2, 2]\n"
          ]
        }
      ]
    },
    {
      "cell_type": "markdown",
      "source": [
        "# Concatenação de listas"
      ],
      "metadata": {
        "id": "N4iYEtMhssqK"
      }
    },
    {
      "cell_type": "code",
      "source": [
        "# Atribui valores as listas.\n",
        "lista1 = [0, 1, 2, 3, 4]\n",
        "lista2 = [10, 11, 12, 13, 14]\n",
        "\n",
        "# Concatena as listas.\n",
        "lista_oficial = lista1 + lista2\n",
        "lista_oficial"
      ],
      "metadata": {
        "colab": {
          "base_uri": "https://localhost:8080/"
        },
        "id": "HYf2Z4qiqmPh",
        "outputId": "defc417c-d600-4e45-b321-dd76e2af6d26"
      },
      "execution_count": null,
      "outputs": [
        {
          "output_type": "execute_result",
          "data": {
            "text/plain": [
              "[0, 1, 2, 3, 4, 10, 11, 12, 13, 14]"
            ]
          },
          "metadata": {},
          "execution_count": 131
        }
      ]
    }
  ]
}