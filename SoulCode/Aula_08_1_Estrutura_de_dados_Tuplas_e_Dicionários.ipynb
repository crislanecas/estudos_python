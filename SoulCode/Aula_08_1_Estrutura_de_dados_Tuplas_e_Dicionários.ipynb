{
  "cells": [
    {
      "cell_type": "markdown",
      "metadata": {
        "id": "view-in-github",
        "colab_type": "text"
      },
      "source": [
        "<a href=\"https://colab.research.google.com/github/crislanecas/estudos_python/blob/main/SoulCode/Aula_08_1_Estrutura_de_dados_Tuplas_e_Dicion%C3%A1rios.ipynb\" target=\"_parent\"><img src=\"https://colab.research.google.com/assets/colab-badge.svg\" alt=\"Open In Colab\"/></a>"
      ]
    },
    {
      "cell_type": "markdown",
      "source": [
        "# **Estrutura de dados**"
      ],
      "metadata": {
        "id": "4YG9Uy1kRNEb"
      }
    },
    {
      "cell_type": "markdown",
      "metadata": {
        "id": "zCs5zPGHKH6A"
      },
      "source": [
        "# Tupla\n",
        "\n",
        "*  São imutáveis: uma vez criadas, não podemos alterar.\n",
        "*  São ordenáveis: elas mantem uma ordem especifica com acesso via índice.\n",
        "* Permite heterogeneidade: podem conter elementos de diversos tipos.\n",
        "* Sintaxe simples: para uma criar uma tupla usamos parênteses."
      ]
    },
    {
      "cell_type": "code",
      "execution_count": null,
      "metadata": {
        "id": "51T-8MdNKM_8"
      },
      "outputs": [],
      "source": [
        "# Criando uma tupla.\n",
        "nomes = ('Fran', 'Bel', 'Bela')\n",
        "pesos = (51, 15, 40)\n",
        "alturas = (1.65, 1.81, 1.78)"
      ]
    },
    {
      "cell_type": "code",
      "execution_count": null,
      "metadata": {
        "colab": {
          "base_uri": "https://localhost:8080/"
        },
        "id": "0VHCkSQlK4IR",
        "outputId": "4489e2c5-caa2-4277-de0d-4e8871ae9c77"
      },
      "outputs": [
        {
          "output_type": "stream",
          "name": "stdout",
          "text": [
            "Fran tem 51 kg e 1.65 metros\n"
          ]
        }
      ],
      "source": [
        "# acessando elementos dentro das tupla.\n",
        "print(f'{nomes[0]} tem {pesos[0] } kg e {alturas[0]} metros')"
      ]
    },
    {
      "cell_type": "code",
      "execution_count": null,
      "metadata": {
        "colab": {
          "base_uri": "https://localhost:8080/"
        },
        "id": "M-Zg0DpnK3nO",
        "outputId": "d4ffb9c3-2c39-4924-f90a-81f6f8de5d88"
      },
      "outputs": [
        {
          "output_type": "stream",
          "name": "stdout",
          "text": [
            "<class 'list'>\n"
          ]
        }
      ],
      "source": [
        "# Transformando listas em tupla.\n",
        "produtos = ['teclado', 'mouse', 'monitor', 'placa-mãe']\n",
        "print(type(produtos))"
      ]
    },
    {
      "cell_type": "code",
      "execution_count": null,
      "metadata": {
        "colab": {
          "base_uri": "https://localhost:8080/"
        },
        "id": "F4q6-sAcLTfh",
        "outputId": "2d15f123-c0f1-437b-a2a0-7738357169fa"
      },
      "outputs": [
        {
          "output_type": "stream",
          "name": "stdout",
          "text": [
            "<class 'tuple'>\n"
          ]
        }
      ],
      "source": [
        "# convertendo lista em tupla.\n",
        "produtos = tuple(produtos)\n",
        "print(type(produtos))"
      ]
    },
    {
      "cell_type": "code",
      "execution_count": null,
      "metadata": {
        "colab": {
          "base_uri": "https://localhost:8080/"
        },
        "id": "FvcL-zNUMOXv",
        "outputId": "18edfac3-9894-4a17-8808-cd032cf339cc"
      },
      "outputs": [
        {
          "output_type": "stream",
          "name": "stdout",
          "text": [
            "<class 'list'>\n"
          ]
        }
      ],
      "source": [
        "# convertendo tupla para lista.\n",
        "produtos = list(produtos)\n",
        "print(type(produtos))"
      ]
    },
    {
      "cell_type": "markdown",
      "metadata": {
        "id": "U4ip1-Q7LzoF"
      },
      "source": [
        "# Dicionário\n",
        "\n",
        "*  Estrutura chave-valor: Cada elemento no dicionário consiste em uma chave associada a um valor.\n",
        "*  Mutabilidade: Diferentemente das tuplas, os dicionários são MUTÁVEIS. Isso significa que você pode adicionar, remover ou modificar elementos em um dicionário após a sua criação.\n",
        "*  Chaves únicas: As chaves em um dicionários são únicas, garantindo que não existam chaves duplicadas."
      ]
    },
    {
      "cell_type": "markdown",
      "source": [
        "## dict()"
      ],
      "metadata": {
        "id": "E4vVeph51TEl"
      }
    },
    {
      "cell_type": "code",
      "source": [
        "# Cria um dicionário vazio.\n",
        "dicionario = dict()"
      ],
      "metadata": {
        "id": "nECYkkFn1IUN"
      },
      "execution_count": null,
      "outputs": []
    },
    {
      "cell_type": "code",
      "execution_count": 1,
      "metadata": {
        "colab": {
          "base_uri": "https://localhost:8080/"
        },
        "id": "-r0h65J5Rsb_",
        "outputId": "6613fd97-cc2e-46ef-d68e-23b99dc4efa4"
      },
      "outputs": [
        {
          "output_type": "stream",
          "name": "stdout",
          "text": [
            "{'nome': 'Franciane', 'idade': 34, 'altura': 1.65, 'peso': 51}\n"
          ]
        }
      ],
      "source": [
        "# Cria e armazena em um dicionário as informações de nome, idade, peso e altura.\n",
        "funcionario = {'nome':'Franciane',\n",
        "               'idade': 34,\n",
        "               'altura': 1.65,\n",
        "               'peso': 51}\n",
        "\n",
        "print(funcionario)"
      ]
    },
    {
      "cell_type": "code",
      "execution_count": 2,
      "metadata": {
        "id": "G-uCnRiyS3Aa",
        "colab": {
          "base_uri": "https://localhost:8080/"
        },
        "outputId": "8c48ec3c-a5d2-493e-bf27-9fb120b66b7a"
      },
      "outputs": [
        {
          "output_type": "stream",
          "name": "stdout",
          "text": [
            "Franciane\n",
            "34\n",
            "1.65\n",
            "51\n"
          ]
        }
      ],
      "source": [
        "# Acessa o valor da chave.\n",
        "print(funcionario['nome'])\n",
        "print(funcionario['idade'])\n",
        "print(funcionario['altura'])\n",
        "print(funcionario['peso'])"
      ]
    },
    {
      "cell_type": "code",
      "execution_count": 3,
      "metadata": {
        "id": "ceN3B15VS5c7",
        "colab": {
          "base_uri": "https://localhost:8080/"
        },
        "outputId": "c592fab6-dfda-477d-e19d-45261104877c"
      },
      "outputs": [
        {
          "output_type": "stream",
          "name": "stdout",
          "text": [
            "Franciane\n",
            "34\n",
            "1.65\n",
            "51\n"
          ]
        }
      ],
      "source": [
        "# Outra forma de acessar valor do dicionário.\n",
        "print(funcionario.get('nome'))\n",
        "print(funcionario.get('idade'))\n",
        "print(funcionario.get('altura'))\n",
        "print(funcionario.get('peso'))"
      ]
    },
    {
      "cell_type": "code",
      "source": [
        "# Adiciona um nova chave e valor ao dicionário.\n",
        "funcionario['profissão'] = 'Professora'\n",
        "print(funcionario)"
      ],
      "metadata": {
        "colab": {
          "base_uri": "https://localhost:8080/"
        },
        "id": "KHdStM0T2sW0",
        "outputId": "bed128af-49d2-46e3-e995-a62c8423ffb2"
      },
      "execution_count": 4,
      "outputs": [
        {
          "output_type": "stream",
          "name": "stdout",
          "text": [
            "{'nome': 'Franciane', 'idade': 34, 'altura': 1.65, 'peso': 51, 'profissão': 'Professora'}\n"
          ]
        }
      ]
    },
    {
      "cell_type": "code",
      "source": [
        "# Sobreescre o valor correspondente a chave selecionada.\n",
        "funcionario['peso'] = '50'\n",
        "print(funcionario)"
      ],
      "metadata": {
        "colab": {
          "base_uri": "https://localhost:8080/"
        },
        "id": "Y0uUuXS03MWO",
        "outputId": "c2dcb382-944e-4e34-9b6b-2be34a026e9d"
      },
      "execution_count": 5,
      "outputs": [
        {
          "output_type": "stream",
          "name": "stdout",
          "text": [
            "{'nome': 'Franciane', 'idade': 34, 'altura': 1.65, 'peso': '50', 'profissão': 'Professora'}\n"
          ]
        }
      ]
    },
    {
      "cell_type": "code",
      "execution_count": null,
      "metadata": {
        "colab": {
          "base_uri": "https://localhost:8080/"
        },
        "id": "BehwNPLuT61h",
        "outputId": "96d74919-924e-48a5-8d47-78403f7c257f"
      },
      "outputs": [
        {
          "output_type": "stream",
          "name": "stdout",
          "text": [
            "{'nome': 'Franciane', 'idade': 34, 'animais': ['Bel', 'Bia', 'Bela', 'Kika'], 'idades': [13, 7, 4, 7]}\n"
          ]
        }
      ],
      "source": [
        "# Cria uma lista dentro de um dicionário.\n",
        "dicionario_lista = {'nome': 'Franciane',\n",
        "                    'idade': 34,\n",
        "                    'animais':['Bel','Bia','Bela','Kika'],\n",
        "                    'idades':[13, 7, 4, 7]\n",
        "                    }\n",
        "print(dicionario_lista)"
      ]
    },
    {
      "cell_type": "code",
      "execution_count": null,
      "metadata": {
        "colab": {
          "base_uri": "https://localhost:8080/"
        },
        "id": "z4c8K_Fnazps",
        "outputId": "e96cf40e-798c-432e-d0a8-deaffe41c02c"
      },
      "outputs": [
        {
          "output_type": "stream",
          "name": "stdout",
          "text": [
            "['(11)9.0000-0000', '(11)9.0000-0001', '(11)9.0000-0002']\n"
          ]
        }
      ],
      "source": [
        "# Exemplo 2: Lista dentro do dicionário.\n",
        "telefones = ['(11)9.0000-0000','(21)9.0000-0000','(31)9.0000-0000']\n",
        "\n",
        "telefones = {'sp':['(11)9.0000-0000','(11)9.0000-0001','(11)9.0000-0002'],\n",
        "             'rj':'(21)9.0000-0000',\n",
        "             'mg':'(31)9.0000-0000'}\n",
        "\n",
        "# Informação pela chave.\n",
        "print(telefones['sp'])"
      ]
    },
    {
      "cell_type": "markdown",
      "source": [
        "## keys()"
      ],
      "metadata": {
        "id": "3p4ii1boBch7"
      }
    },
    {
      "cell_type": "code",
      "execution_count": null,
      "metadata": {
        "colab": {
          "base_uri": "https://localhost:8080/"
        },
        "id": "xZTImWOGaiVA",
        "outputId": "a2fa5838-dca8-4aad-d44f-3bab037cb986"
      },
      "outputs": [
        {
          "output_type": "stream",
          "name": "stdout",
          "text": [
            "dict_keys(['nome', 'idade', 'animais', 'idades'])\n"
          ]
        }
      ],
      "source": [
        "# Acessa todas as chaves do dicionário.\n",
        "chaves = dicionario_lista.keys()\n",
        "print(chaves)"
      ]
    },
    {
      "cell_type": "markdown",
      "source": [
        "##values()"
      ],
      "metadata": {
        "id": "UOt8bqXmBp6S"
      }
    },
    {
      "cell_type": "code",
      "source": [
        "# Acessa todos valores do dicionário.\n",
        "valores = dicionario_lista.values()\n",
        "print(valores)"
      ],
      "metadata": {
        "colab": {
          "base_uri": "https://localhost:8080/"
        },
        "id": "L9hWe4EwBmg1",
        "outputId": "bedfd59f-77b5-4464-cbf4-211a85c0ac8c"
      },
      "execution_count": null,
      "outputs": [
        {
          "output_type": "stream",
          "name": "stdout",
          "text": [
            "dict_values(['Franciane', 34, ['Bel', 'Bia', 'Bela', 'Kika'], [13, 7, 4, 7]])\n"
          ]
        }
      ]
    },
    {
      "cell_type": "markdown",
      "source": [
        "## Interando dicionário"
      ],
      "metadata": {
        "id": "Ugzck9mT5dQR"
      }
    },
    {
      "cell_type": "code",
      "source": [
        "# Percorre o dicionário (chaves).\n",
        "for i in funcionario:\n",
        "  print(i)"
      ],
      "metadata": {
        "colab": {
          "base_uri": "https://localhost:8080/"
        },
        "id": "lpV0ngJF4Uaw",
        "outputId": "6a74e995-87cd-4ab9-cd71-db4de91dc4ac"
      },
      "execution_count": 7,
      "outputs": [
        {
          "output_type": "stream",
          "name": "stdout",
          "text": [
            "nome\n",
            "idade\n",
            "altura\n",
            "peso\n",
            "profissão\n"
          ]
        }
      ]
    },
    {
      "cell_type": "code",
      "source": [
        "# Percorre o dicionário (chaves e valor).\n",
        "for i in funcionario:\n",
        "  print(i, funcionario[i])"
      ],
      "metadata": {
        "colab": {
          "base_uri": "https://localhost:8080/"
        },
        "id": "C3WaCexr4x_R",
        "outputId": "658a9ce4-f76c-42de-80e7-5549c91c88cc"
      },
      "execution_count": 8,
      "outputs": [
        {
          "output_type": "stream",
          "name": "stdout",
          "text": [
            "nome Franciane\n",
            "idade 34\n",
            "altura 1.65\n",
            "peso 50\n",
            "profissão Professora\n"
          ]
        }
      ]
    },
    {
      "cell_type": "code",
      "source": [
        "# Verifica se um chave existe no dicionário\n",
        "'idade' in funcionario"
      ],
      "metadata": {
        "colab": {
          "base_uri": "https://localhost:8080/"
        },
        "id": "-6hXInk56Iq5",
        "outputId": "9e31d017-c55f-466a-954e-7af5707f446c"
      },
      "execution_count": 10,
      "outputs": [
        {
          "output_type": "execute_result",
          "data": {
            "text/plain": [
              "True"
            ]
          },
          "metadata": {},
          "execution_count": 10
        }
      ]
    },
    {
      "cell_type": "code",
      "source": [
        "# Verifica se um chave existe no dicionário\n",
        "'endereço' in funcionario"
      ],
      "metadata": {
        "colab": {
          "base_uri": "https://localhost:8080/"
        },
        "id": "pDccGUVS55gI",
        "outputId": "8ff25465-c0a1-48cf-d43b-b7e360c823a6"
      },
      "execution_count": 9,
      "outputs": [
        {
          "output_type": "execute_result",
          "data": {
            "text/plain": [
              "False"
            ]
          },
          "metadata": {},
          "execution_count": 9
        }
      ]
    }
  ],
  "metadata": {
    "colab": {
      "toc_visible": true,
      "provenance": [],
      "authorship_tag": "ABX9TyNgSNPnUjT8ApZnTM5FS/kz",
      "include_colab_link": true
    },
    "kernelspec": {
      "display_name": "Python 3",
      "name": "python3"
    },
    "language_info": {
      "name": "python"
    }
  },
  "nbformat": 4,
  "nbformat_minor": 0
}