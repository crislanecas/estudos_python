{
  "nbformat": 4,
  "nbformat_minor": 0,
  "metadata": {
    "colab": {
      "provenance": [],
      "toc_visible": true,
      "authorship_tag": "ABX9TyNBf1gELfU0P1ptJvjeNdQN",
      "include_colab_link": true
    },
    "kernelspec": {
      "name": "python3",
      "display_name": "Python 3"
    },
    "language_info": {
      "name": "python"
    }
  },
  "cells": [
    {
      "cell_type": "markdown",
      "metadata": {
        "id": "view-in-github",
        "colab_type": "text"
      },
      "source": [
        "<a href=\"https://colab.research.google.com/github/crislanecas/estudos_python/blob/main/SoulCode/Aula_09_1_Itera%C3%A7%C3%A3o_com_For.ipynb\" target=\"_parent\"><img src=\"https://colab.research.google.com/assets/colab-badge.svg\" alt=\"Open In Colab\"/></a>"
      ]
    },
    {
      "cell_type": "markdown",
      "source": [
        "# FOR\n",
        "\n",
        "O loop for é uma estrutura de repetição que permite executar um bloco de código várias vezes. Ele é amplamente usado para percorrer elementos em sequências, como listas, tuplas e strings. O loop for é uma escolha natural quando você sabe quantas vezes deseja repetir uma ação."
      ],
      "metadata": {
        "id": "myDE-j1hQ0Nw"
      }
    },
    {
      "cell_type": "code",
      "source": [
        "'''\n",
        "for variável in sequência:\n",
        "    bloco de codigo a ser repetido\n",
        "'''"
      ],
      "metadata": {
        "id": "Hdqc9MqLSAjc",
        "colab": {
          "base_uri": "https://localhost:8080/",
          "height": 36
        },
        "outputId": "617e9577-746f-4eec-8628-3184f829b1df"
      },
      "execution_count": null,
      "outputs": [
        {
          "output_type": "execute_result",
          "data": {
            "text/plain": [
              "'\\nfor variável in sequência:\\n    bloco de codigo a ser repetido\\n'"
            ],
            "application/vnd.google.colaboratory.intrinsic+json": {
              "type": "string"
            }
          },
          "metadata": {},
          "execution_count": 1
        }
      ]
    },
    {
      "cell_type": "code",
      "source": [
        "# Exemplo comparativo: Imprima na tela os números de 0 a 9 com while e for"
      ],
      "metadata": {
        "id": "vlBu1rT8SKXT"
      },
      "execution_count": null,
      "outputs": []
    },
    {
      "cell_type": "code",
      "source": [
        "# Usando While\n",
        "i = 0\n",
        "while i < 10:\n",
        "    print(i)\n",
        "    i += 1"
      ],
      "metadata": {
        "colab": {
          "base_uri": "https://localhost:8080/"
        },
        "id": "WEd4tt4PSRmE",
        "outputId": "2322138a-e0ac-4a78-8163-c72d3ec5affd"
      },
      "execution_count": null,
      "outputs": [
        {
          "output_type": "stream",
          "name": "stdout",
          "text": [
            "0\n",
            "1\n",
            "2\n",
            "3\n",
            "4\n",
            "5\n",
            "6\n",
            "7\n",
            "8\n",
            "9\n"
          ]
        }
      ]
    },
    {
      "cell_type": "code",
      "source": [
        "# A função range poderá ter até 3 argumentos\n",
        "# for i in range (inicio_do_contador, condição_de_parada, incremento ou decremento)"
      ],
      "metadata": {
        "id": "hqNucgwBS4LD"
      },
      "execution_count": null,
      "outputs": []
    },
    {
      "cell_type": "code",
      "source": [
        "# 1° Forma: utilizando o range com apenas um argumento (condição de parada com incremento 1, padrão)\n",
        "for i in range(10):\n",
        "    print(i)"
      ],
      "metadata": {
        "colab": {
          "base_uri": "https://localhost:8080/"
        },
        "id": "w7b5c8ltVBcU",
        "outputId": "49a3ed4a-4d6a-4642-f013-6128f110833b"
      },
      "execution_count": null,
      "outputs": [
        {
          "output_type": "stream",
          "name": "stdout",
          "text": [
            "0\n",
            "1\n",
            "2\n",
            "3\n",
            "4\n",
            "5\n",
            "6\n",
            "7\n",
            "8\n",
            "9\n"
          ]
        }
      ]
    },
    {
      "cell_type": "code",
      "source": [
        "# 2° Forma: utilizando o range com apenas 2 argumentos (inicio da contagem e a condição de parada)\n",
        "for i in range(1, 11):\n",
        "  print(i)"
      ],
      "metadata": {
        "colab": {
          "base_uri": "https://localhost:8080/"
        },
        "id": "DDdZl5jQVAES",
        "outputId": "327dbf94-69d3-413c-d7a8-11af42cfd589"
      },
      "execution_count": null,
      "outputs": [
        {
          "output_type": "stream",
          "name": "stdout",
          "text": [
            "1\n",
            "2\n",
            "3\n",
            "4\n",
            "5\n",
            "6\n",
            "7\n",
            "8\n",
            "9\n",
            "10\n"
          ]
        }
      ]
    },
    {
      "cell_type": "code",
      "source": [
        "# 3° Forma: utilizando o range com 3 argumentos (inicio da contagem, condição de parada e incremento)\n",
        "for i in range(5, 20, 3):\n",
        "  print(i)"
      ],
      "metadata": {
        "colab": {
          "base_uri": "https://localhost:8080/"
        },
        "id": "H8Sd1zcGVUXB",
        "outputId": "26df3321-c439-4e42-c24c-c7ecc15c8e42"
      },
      "execution_count": null,
      "outputs": [
        {
          "output_type": "stream",
          "name": "stdout",
          "text": [
            "5\n",
            "8\n",
            "11\n",
            "14\n",
            "17\n"
          ]
        }
      ]
    },
    {
      "cell_type": "code",
      "source": [
        "# 3° Forma: utilizando o range com apenas 3 argumentos (inicio da contagem, condição de parada e incremento)\n",
        "for i in range(0, 10, 1):\n",
        "  print(i)"
      ],
      "metadata": {
        "colab": {
          "base_uri": "https://localhost:8080/"
        },
        "id": "gIv1zDdqV2uy",
        "outputId": "89482768-9a84-4f4d-fd4b-d6589d0e56b1"
      },
      "execution_count": null,
      "outputs": [
        {
          "output_type": "stream",
          "name": "stdout",
          "text": [
            "0\n",
            "1\n",
            "2\n",
            "3\n",
            "4\n",
            "5\n",
            "6\n",
            "7\n",
            "8\n",
            "9\n"
          ]
        }
      ]
    },
    {
      "cell_type": "code",
      "source": [
        "# 4° forma: exemplo de iteração de string\n",
        "palavra = 'Python'\n",
        "\n",
        "for i in palavra:\n",
        "    print(i)"
      ],
      "metadata": {
        "colab": {
          "base_uri": "https://localhost:8080/"
        },
        "id": "y4CadHThZqpx",
        "outputId": "9951ed27-5bd6-41a9-9739-abe955841372"
      },
      "execution_count": null,
      "outputs": [
        {
          "output_type": "stream",
          "name": "stdout",
          "text": [
            "P\n",
            "y\n",
            "t\n",
            "h\n",
            "o\n",
            "n\n"
          ]
        }
      ]
    },
    {
      "cell_type": "code",
      "source": [
        "# 5° forma: exemplo de iteração de tupla\n",
        "tupla = (10, 20, 30, 40, 50)\n",
        "for i in tupla:\n",
        "    print(i)"
      ],
      "metadata": {
        "colab": {
          "base_uri": "https://localhost:8080/"
        },
        "id": "Cu-dEuLFZrLz",
        "outputId": "4ade8cde-fbcb-485d-a17b-2f2ae98289e7"
      },
      "execution_count": null,
      "outputs": [
        {
          "output_type": "stream",
          "name": "stdout",
          "text": [
            "10\n",
            "20\n",
            "30\n",
            "40\n",
            "50\n"
          ]
        }
      ]
    },
    {
      "cell_type": "code",
      "source": [
        "# 6° forma: exemplo de iteração com listas\n",
        "alunos = ['Erika', 'Lidiane', 'Rosangela', 'Victor Gabriel']\n",
        "for i in alunos:\n",
        "  print(i)"
      ],
      "metadata": {
        "id": "GeCvAhO6aIS7",
        "colab": {
          "base_uri": "https://localhost:8080/"
        },
        "outputId": "b53ccde8-5272-42e7-ea89-f9d39ae2ccb6"
      },
      "execution_count": null,
      "outputs": [
        {
          "output_type": "stream",
          "name": "stdout",
          "text": [
            "Erika\n",
            "Lidiane\n",
            "Rosangela\n",
            "Victor Gabriel\n"
          ]
        }
      ]
    },
    {
      "cell_type": "code",
      "source": [
        "# 7° forma: exemplo de iteração com dicionários\n",
        "frutas = {'maça': 3,\n",
        "          'banana': 5,\n",
        "          'laranja': 10,\n",
        "          'pêra': 2\n",
        "         }\n",
        "\n",
        "for chave, valor in frutas.items():\n",
        "    print(f'{chave}:{valor}')"
      ],
      "metadata": {
        "colab": {
          "base_uri": "https://localhost:8080/"
        },
        "id": "m6tRPfXTdPhT",
        "outputId": "2896abdb-5cb9-4d7b-80ab-08b44b387a50"
      },
      "execution_count": null,
      "outputs": [
        {
          "output_type": "stream",
          "name": "stdout",
          "text": [
            "maça:3\n",
            "banana:5\n",
            "laranja:10\n",
            "pêra:2\n"
          ]
        }
      ]
    },
    {
      "cell_type": "code",
      "source": [
        "# 8º forma: Calculando a soma dos numeros de 1 a 10:\n",
        "soma = 0\n",
        "for i in range(1, 11):\n",
        "    soma += i\n",
        "print(\"A soma dos números de 1 a 10 é:\", soma)"
      ],
      "metadata": {
        "colab": {
          "base_uri": "https://localhost:8080/"
        },
        "id": "Z9hSlXurgWHc",
        "outputId": "bfd70862-22c8-4652-aaf8-02a46c298c8a"
      },
      "execution_count": null,
      "outputs": [
        {
          "output_type": "stream",
          "name": "stdout",
          "text": [
            "A soma dos números de 1 a 10 é: 55\n"
          ]
        }
      ]
    }
  ]
}