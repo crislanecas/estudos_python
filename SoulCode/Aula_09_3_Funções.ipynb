{
  "nbformat": 4,
  "nbformat_minor": 0,
  "metadata": {
    "colab": {
      "provenance": [],
      "toc_visible": true,
      "authorship_tag": "ABX9TyNGaDeOlpPf/QsES+qcQXCX",
      "include_colab_link": true
    },
    "kernelspec": {
      "name": "python3",
      "display_name": "Python 3"
    },
    "language_info": {
      "name": "python"
    }
  },
  "cells": [
    {
      "cell_type": "markdown",
      "metadata": {
        "id": "view-in-github",
        "colab_type": "text"
      },
      "source": [
        "<a href=\"https://colab.research.google.com/github/crislanecas/estudos_python/blob/main/SoulCode/Aula_09_3_Fun%C3%A7%C3%B5es.ipynb\" target=\"_parent\"><img src=\"https://colab.research.google.com/assets/colab-badge.svg\" alt=\"Open In Colab\"/></a>"
      ]
    },
    {
      "cell_type": "markdown",
      "source": [
        "# Funções\n",
        "\n",
        "Funções são trechos de programa que recebem um determinado nome e podem ser chamadas várias vezes durante sua execução.\n",
        "\n",
        "Das vantagens:\n",
        "*  Reutilização de código\n",
        "*  Modularidade\n",
        "*  Facilidade de Manutenção do sistema"
      ],
      "metadata": {
        "id": "5mnuaKBKwOa4"
      }
    },
    {
      "cell_type": "markdown",
      "source": [
        "## Função sem parâmetro e sem retorno"
      ],
      "metadata": {
        "id": "Wppvyd-SDpXZ"
      }
    },
    {
      "cell_type": "code",
      "source": [
        "# Cria uma função sem parâmetro e sem retorno.\n",
        "def mensagem():\n",
        "    print('Olá pessoas!')"
      ],
      "metadata": {
        "id": "1nxOxyWsv_Qa"
      },
      "execution_count": null,
      "outputs": []
    },
    {
      "cell_type": "code",
      "source": [
        "# Chama a função.\n",
        "mensagem()"
      ],
      "metadata": {
        "colab": {
          "base_uri": "https://localhost:8080/"
        },
        "id": "ebK4Am7BxOBn",
        "outputId": "74d27a56-cf6c-4062-ad6e-e040c1a09497"
      },
      "execution_count": null,
      "outputs": [
        {
          "output_type": "stream",
          "name": "stdout",
          "text": [
            "Olá pessoas!\n"
          ]
        }
      ]
    },
    {
      "cell_type": "markdown",
      "source": [
        "## Função com parâmetro e sem retorno\n",
        "\n"
      ],
      "metadata": {
        "id": "Y66nbH3jDs5p"
      }
    },
    {
      "cell_type": "code",
      "source": [
        "# Cria uma funçao com parâmetros para cálculo.\n",
        "def somar(a, b):\n",
        "    print(a + b)"
      ],
      "metadata": {
        "id": "_RddTEl9xij7"
      },
      "execution_count": null,
      "outputs": []
    },
    {
      "cell_type": "code",
      "source": [
        "# Chama a função.\n",
        "somar(1,2)\n",
        "somar(5,7)\n",
        "\n",
        "# Lembrete: parâmetro é variável dentro de uma função.\n",
        "#           argumento é número atribuido na variável dentro da função."
      ],
      "metadata": {
        "colab": {
          "base_uri": "https://localhost:8080/"
        },
        "id": "zysQxM4mx4Uq",
        "outputId": "64eeccd0-07f6-42b7-c979-8544b4ff964e"
      },
      "execution_count": null,
      "outputs": [
        {
          "output_type": "stream",
          "name": "stdout",
          "text": [
            "3\n",
            "12\n"
          ]
        }
      ]
    },
    {
      "cell_type": "markdown",
      "source": [
        "## Funçao com parâmetro e retorno"
      ],
      "metadata": {
        "id": "4nW1zE7DDy4J"
      }
    },
    {
      "cell_type": "code",
      "source": [
        "# Cria uma funçao com parâmetro e retorno (recomendável).\n",
        "def somar(a, b):\n",
        "    return a + b"
      ],
      "metadata": {
        "id": "sLnfYZ2G1wTJ"
      },
      "execution_count": null,
      "outputs": []
    },
    {
      "cell_type": "code",
      "source": [
        "somar(7,8)"
      ],
      "metadata": {
        "colab": {
          "base_uri": "https://localhost:8080/"
        },
        "id": "Yqnehlpf2Ip0",
        "outputId": "8f66ace0-5997-4d38-cfe5-21639346d64b"
      },
      "execution_count": null,
      "outputs": [
        {
          "output_type": "execute_result",
          "data": {
            "text/plain": [
              "15"
            ]
          },
          "metadata": {},
          "execution_count": 54
        }
      ]
    },
    {
      "cell_type": "markdown",
      "source": [
        "## Exemplo"
      ],
      "metadata": {
        "id": "LMTU7cA_Dh6U"
      }
    },
    {
      "cell_type": "code",
      "source": [
        "# Exemplo de função com calculos.\n",
        "def formula_epg(m,h,g=10):\n",
        "    '''\n",
        "    Calcula energia potencial gravitacional\n",
        "    parâmetros.\n",
        "    m = massa, entrada como uma variável float.\n",
        "    h = altura, entrada como uma variável float.\n",
        "\n",
        "    Parâmetro opcional:\n",
        "    g: aceleração gravitacional com valor padrão 10.\n",
        "    '''\n",
        "    e = m*g*h\n",
        "    return e"
      ],
      "metadata": {
        "id": "QtXLobLw2O4C"
      },
      "execution_count": null,
      "outputs": []
    },
    {
      "cell_type": "code",
      "source": [
        "# Chama a função.\n",
        "formula_epg(30,12,10)"
      ],
      "metadata": {
        "colab": {
          "base_uri": "https://localhost:8080/"
        },
        "id": "L4E4Og162yyk",
        "outputId": "1d74faa1-cd2f-480e-ec2d-272333327063"
      },
      "execution_count": null,
      "outputs": [
        {
          "output_type": "execute_result",
          "data": {
            "text/plain": [
              "3600"
            ]
          },
          "metadata": {},
          "execution_count": 63
        }
      ]
    },
    {
      "cell_type": "code",
      "source": [
        "formula_epg(85,3,9.8)"
      ],
      "metadata": {
        "colab": {
          "base_uri": "https://localhost:8080/"
        },
        "id": "JYihsrX93q0q",
        "outputId": "7bc5c8e5-188e-4d0b-c174-fa6a4b10435f"
      },
      "execution_count": null,
      "outputs": [
        {
          "output_type": "execute_result",
          "data": {
            "text/plain": [
              "2499.0000000000005"
            ]
          },
          "metadata": {},
          "execution_count": 60
        }
      ]
    }
  ]
}